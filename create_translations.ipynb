{
  "nbformat": 4,
  "nbformat_minor": 0,
  "metadata": {
    "colab": {
      "provenance": [],
      "authorship_tag": "ABX9TyMTdwEmNKSMz25FTLp5DN75",
      "include_colab_link": true
    },
    "kernelspec": {
      "name": "python3",
      "display_name": "Python 3"
    },
    "language_info": {
      "name": "python"
    }
  },
  "cells": [
    {
      "cell_type": "markdown",
      "metadata": {
        "id": "view-in-github",
        "colab_type": "text"
      },
      "source": [
        "<a href=\"https://colab.research.google.com/github/Dimildizio/system_design/blob/main/create_translations.ipynb\" target=\"_parent\"><img src=\"https://colab.research.google.com/assets/colab-badge.svg\" alt=\"Open In Colab\"/></a>"
      ]
    },
    {
      "cell_type": "code",
      "execution_count": 1,
      "metadata": {
        "id": "qtISEzqF4_3I"
      },
      "outputs": [],
      "source": [
        "%%capture\n",
        "!pip install googletrans==4.0.0-rc1   #set a PARTICULAR version omg"
      ]
    },
    {
      "cell_type": "code",
      "source": [
        "from googletrans import Translator\n",
        "import pandas as pd"
      ],
      "metadata": {
        "id": "vqwik2KH5Ill"
      },
      "execution_count": 13,
      "outputs": []
    },
    {
      "cell_type": "markdown",
      "source": [
        "## Upload text"
      ],
      "metadata": {
        "id": "GRmx4lnf8gf9"
      }
    },
    {
      "cell_type": "code",
      "source": [
        "textwall = [\n",
        "'НЕЙТРОННАЯ РЕФЛЕКТОМЕТРИЯ В РОССИИ: ТЕКУЩЕЕ СОСТОЯНИЕ И ПЕРСПЕКТИВЫ',\n",
        "'В обзоре дано описание текущего состояния дел и перспектив развития в области нейтронной рефлектометрии на действующих и будущих нейтронных источниках Российской Федерации.',\n",
        "'В результате ввода в эксплуатацию новых инструментов на реакторах ИР-8 и ПИК число нейтронных рефлектометров в РФ должно удвоиться.',\n",
        "'В результате должен появиться набор инструментов, нацеленных на решение широкого круга задач в области физики, химии, биологии слоистых систем в интересах научного сообщества, а также для подготовки специалистов для дальнейшего развития и совершенствования данной методики.'\n",
        "]"
      ],
      "metadata": {
        "id": "k7Sg0NlE7kqk"
      },
      "execution_count": 7,
      "outputs": []
    },
    {
      "cell_type": "markdown",
      "source": [
        "## Google translate the text"
      ],
      "metadata": {
        "id": "mB-Biaoy8Yfm"
      }
    },
    {
      "cell_type": "code",
      "source": [
        "translator = Translator()"
      ],
      "metadata": {
        "id": "HsQr60U17jJq"
      },
      "execution_count": 4,
      "outputs": []
    },
    {
      "cell_type": "code",
      "source": [
        "g_trans = []\n",
        "for sent in textwall:\n",
        "  translated = translator.translate(sent.lower(), src='ru', dest='en')\n",
        "  g_trans.append(translated.text)"
      ],
      "metadata": {
        "id": "oU-wRzTk7xLA"
      },
      "execution_count": 11,
      "outputs": []
    },
    {
      "cell_type": "code",
      "source": [
        "g_trans"
      ],
      "metadata": {
        "colab": {
          "base_uri": "https://localhost:8080/"
        },
        "id": "BtoZdOT17-Vv",
        "outputId": "709fe076-ae71-4f02-ce3c-d74b127129d9"
      },
      "execution_count": 12,
      "outputs": [
        {
          "output_type": "execute_result",
          "data": {
            "text/plain": [
              "['Neutron reflectometry in Russia: current state and prospects',\n",
              " 'The review gives a description of the current state of affairs and development prospects in the field of neutron reflectometry on existing and future neutron sources of the Russian Federation.',\n",
              " 'As a result of the commissioning of new tools on the IR-8 reactors and the peak, the number of neutron reflectometers in the Russian Federation should double.',\n",
              " 'As a result, there should be a set of tools aimed at solving a wide range of problems in the field of physics, chemistry, biology of layered systems in the interests of the scientific community, as well as for the preparation of specialists for further development and improvement of this methodology.']"
            ]
          },
          "metadata": {},
          "execution_count": 12
        }
      ]
    }
  ]
}