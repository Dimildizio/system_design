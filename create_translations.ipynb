{
  "nbformat": 4,
  "nbformat_minor": 0,
  "metadata": {
    "colab": {
      "provenance": [],
      "authorship_tag": "ABX9TyMaxWNcGXKXlQ3dlKXTItrH",
      "include_colab_link": true
    },
    "kernelspec": {
      "name": "python3",
      "display_name": "Python 3"
    },
    "language_info": {
      "name": "python"
    }
  },
  "cells": [
    {
      "cell_type": "markdown",
      "metadata": {
        "id": "view-in-github",
        "colab_type": "text"
      },
      "source": [
        "<a href=\"https://colab.research.google.com/github/Dimildizio/system_design/blob/main/create_translations.ipynb\" target=\"_parent\"><img src=\"https://colab.research.google.com/assets/colab-badge.svg\" alt=\"Open In Colab\"/></a>"
      ]
    },
    {
      "cell_type": "code",
      "execution_count": 1,
      "metadata": {
        "id": "qtISEzqF4_3I"
      },
      "outputs": [],
      "source": [
        "%%capture\n",
        "!pip install transformers sentencepiece googletrans==4.0.0-rc1\n",
        "#set a PARTICULAR version of google trans omg\n",
        "#Marian model requires sentence piece"
      ]
    },
    {
      "cell_type": "code",
      "source": [
        "import pandas as pd\n",
        "import sentencepiece\n",
        "\n",
        "from google.colab import files\n",
        "from googletrans import Translator\n",
        "from transformers import AutoModelForSeq2SeqLM, AutoTokenizer, MarianTokenizer, MarianMTModel\n",
        "from typing import List"
      ],
      "metadata": {
        "id": "vqwik2KH5Ill"
      },
      "execution_count": 2,
      "outputs": []
    },
    {
      "cell_type": "code",
      "source": [
        "access_token =''"
      ],
      "metadata": {
        "id": "ibL-bcHLskDE"
      },
      "execution_count": 3,
      "outputs": []
    },
    {
      "cell_type": "code",
      "source": [
        "MARIAN_NAME = \"Helsinki-NLP/opus-mt-ru-en\"\n",
        "NLLB_NAME = \"facebook/nllb-200-distilled-600M\""
      ],
      "metadata": {
        "id": "pcy314tDBum6"
      },
      "execution_count": 55,
      "outputs": []
    },
    {
      "cell_type": "markdown",
      "source": [
        "## Upload text"
      ],
      "metadata": {
        "id": "GRmx4lnf8gf9"
      }
    },
    {
      "cell_type": "code",
      "source": [
        "df = pd.read_excel('eval_data.xlsx')\n",
        "df.head()"
      ],
      "metadata": {
        "colab": {
          "base_uri": "https://localhost:8080/",
          "height": 293
        },
        "id": "EgK63ZKFrMDP",
        "outputId": "b8d2e419-18cc-46cb-890d-0fbe107853e2"
      },
      "execution_count": 4,
      "outputs": [
        {
          "output_type": "execute_result",
          "data": {
            "text/plain": [
              "                                                  ru  \\\n",
              "0  На основе данной модели реализован эксперимент...   \n",
              "1  Прецизионное уточнение атомной структуры минер...   \n",
              "2  Здесь и далее: точки – экспериментальные значе...   \n",
              "3  Об образовании метастабильных фаз при кристалл...   \n",
              "4  Магнитоэлектрический эффект в трехслойных асим...   \n",
              "\n",
              "                                           en_expert  \\\n",
              "0  An experimental method is implemented based on...   \n",
              "1  Accurate crystal structure refinement of natro...   \n",
              "2  Hereinafter, circles are experimental data, so...   \n",
              "3  On the formation of metastable phases during c...   \n",
              "4  Magnetoelectric Effect in Three-Layer Asymmetr...   \n",
              "\n",
              "                                             en_auto  \n",
              "0  Based on this model is implemented experimenta...  \n",
              "1  Precise refinement of atomic structure mineral...  \n",
              "2  Hereinafter,: point - experimental values, sol...  \n",
              "3  About formation metastable phases at crystalli...  \n",
              "4  Magnetoelectric effect in a three-layer asymme...  "
            ],
            "text/html": [
              "\n",
              "  <div id=\"df-c73e5e8e-0fef-494b-bb82-62cf02608263\" class=\"colab-df-container\">\n",
              "    <div>\n",
              "<style scoped>\n",
              "    .dataframe tbody tr th:only-of-type {\n",
              "        vertical-align: middle;\n",
              "    }\n",
              "\n",
              "    .dataframe tbody tr th {\n",
              "        vertical-align: top;\n",
              "    }\n",
              "\n",
              "    .dataframe thead th {\n",
              "        text-align: right;\n",
              "    }\n",
              "</style>\n",
              "<table border=\"1\" class=\"dataframe\">\n",
              "  <thead>\n",
              "    <tr style=\"text-align: right;\">\n",
              "      <th></th>\n",
              "      <th>ru</th>\n",
              "      <th>en_expert</th>\n",
              "      <th>en_auto</th>\n",
              "    </tr>\n",
              "  </thead>\n",
              "  <tbody>\n",
              "    <tr>\n",
              "      <th>0</th>\n",
              "      <td>На основе данной модели реализован эксперимент...</td>\n",
              "      <td>An experimental method is implemented based on...</td>\n",
              "      <td>Based on this model is implemented experimenta...</td>\n",
              "    </tr>\n",
              "    <tr>\n",
              "      <th>1</th>\n",
              "      <td>Прецизионное уточнение атомной структуры минер...</td>\n",
              "      <td>Accurate crystal structure refinement of natro...</td>\n",
              "      <td>Precise refinement of atomic structure mineral...</td>\n",
              "    </tr>\n",
              "    <tr>\n",
              "      <th>2</th>\n",
              "      <td>Здесь и далее: точки – экспериментальные значе...</td>\n",
              "      <td>Hereinafter, circles are experimental data, so...</td>\n",
              "      <td>Hereinafter,: point - experimental values, sol...</td>\n",
              "    </tr>\n",
              "    <tr>\n",
              "      <th>3</th>\n",
              "      <td>Об образовании метастабильных фаз при кристалл...</td>\n",
              "      <td>On the formation of metastable phases during c...</td>\n",
              "      <td>About formation metastable phases at crystalli...</td>\n",
              "    </tr>\n",
              "    <tr>\n",
              "      <th>4</th>\n",
              "      <td>Магнитоэлектрический эффект в трехслойных асим...</td>\n",
              "      <td>Magnetoelectric Effect in Three-Layer Asymmetr...</td>\n",
              "      <td>Magnetoelectric effect in a three-layer asymme...</td>\n",
              "    </tr>\n",
              "  </tbody>\n",
              "</table>\n",
              "</div>\n",
              "    <div class=\"colab-df-buttons\">\n",
              "\n",
              "  <div class=\"colab-df-container\">\n",
              "    <button class=\"colab-df-convert\" onclick=\"convertToInteractive('df-c73e5e8e-0fef-494b-bb82-62cf02608263')\"\n",
              "            title=\"Convert this dataframe to an interactive table.\"\n",
              "            style=\"display:none;\">\n",
              "\n",
              "  <svg xmlns=\"http://www.w3.org/2000/svg\" height=\"24px\" viewBox=\"0 -960 960 960\">\n",
              "    <path d=\"M120-120v-720h720v720H120Zm60-500h600v-160H180v160Zm220 220h160v-160H400v160Zm0 220h160v-160H400v160ZM180-400h160v-160H180v160Zm440 0h160v-160H620v160ZM180-180h160v-160H180v160Zm440 0h160v-160H620v160Z\"/>\n",
              "  </svg>\n",
              "    </button>\n",
              "\n",
              "  <style>\n",
              "    .colab-df-container {\n",
              "      display:flex;\n",
              "      gap: 12px;\n",
              "    }\n",
              "\n",
              "    .colab-df-convert {\n",
              "      background-color: #E8F0FE;\n",
              "      border: none;\n",
              "      border-radius: 50%;\n",
              "      cursor: pointer;\n",
              "      display: none;\n",
              "      fill: #1967D2;\n",
              "      height: 32px;\n",
              "      padding: 0 0 0 0;\n",
              "      width: 32px;\n",
              "    }\n",
              "\n",
              "    .colab-df-convert:hover {\n",
              "      background-color: #E2EBFA;\n",
              "      box-shadow: 0px 1px 2px rgba(60, 64, 67, 0.3), 0px 1px 3px 1px rgba(60, 64, 67, 0.15);\n",
              "      fill: #174EA6;\n",
              "    }\n",
              "\n",
              "    .colab-df-buttons div {\n",
              "      margin-bottom: 4px;\n",
              "    }\n",
              "\n",
              "    [theme=dark] .colab-df-convert {\n",
              "      background-color: #3B4455;\n",
              "      fill: #D2E3FC;\n",
              "    }\n",
              "\n",
              "    [theme=dark] .colab-df-convert:hover {\n",
              "      background-color: #434B5C;\n",
              "      box-shadow: 0px 1px 3px 1px rgba(0, 0, 0, 0.15);\n",
              "      filter: drop-shadow(0px 1px 2px rgba(0, 0, 0, 0.3));\n",
              "      fill: #FFFFFF;\n",
              "    }\n",
              "  </style>\n",
              "\n",
              "    <script>\n",
              "      const buttonEl =\n",
              "        document.querySelector('#df-c73e5e8e-0fef-494b-bb82-62cf02608263 button.colab-df-convert');\n",
              "      buttonEl.style.display =\n",
              "        google.colab.kernel.accessAllowed ? 'block' : 'none';\n",
              "\n",
              "      async function convertToInteractive(key) {\n",
              "        const element = document.querySelector('#df-c73e5e8e-0fef-494b-bb82-62cf02608263');\n",
              "        const dataTable =\n",
              "          await google.colab.kernel.invokeFunction('convertToInteractive',\n",
              "                                                    [key], {});\n",
              "        if (!dataTable) return;\n",
              "\n",
              "        const docLinkHtml = 'Like what you see? Visit the ' +\n",
              "          '<a target=\"_blank\" href=https://colab.research.google.com/notebooks/data_table.ipynb>data table notebook</a>'\n",
              "          + ' to learn more about interactive tables.';\n",
              "        element.innerHTML = '';\n",
              "        dataTable['output_type'] = 'display_data';\n",
              "        await google.colab.output.renderOutput(dataTable, element);\n",
              "        const docLink = document.createElement('div');\n",
              "        docLink.innerHTML = docLinkHtml;\n",
              "        element.appendChild(docLink);\n",
              "      }\n",
              "    </script>\n",
              "  </div>\n",
              "\n",
              "\n",
              "<div id=\"df-d80c1c22-4254-439d-b0a6-29709cc9e569\">\n",
              "  <button class=\"colab-df-quickchart\" onclick=\"quickchart('df-d80c1c22-4254-439d-b0a6-29709cc9e569')\"\n",
              "            title=\"Suggest charts.\"\n",
              "            style=\"display:none;\">\n",
              "\n",
              "<svg xmlns=\"http://www.w3.org/2000/svg\" height=\"24px\"viewBox=\"0 0 24 24\"\n",
              "     width=\"24px\">\n",
              "    <g>\n",
              "        <path d=\"M19 3H5c-1.1 0-2 .9-2 2v14c0 1.1.9 2 2 2h14c1.1 0 2-.9 2-2V5c0-1.1-.9-2-2-2zM9 17H7v-7h2v7zm4 0h-2V7h2v10zm4 0h-2v-4h2v4z\"/>\n",
              "    </g>\n",
              "</svg>\n",
              "  </button>\n",
              "\n",
              "<style>\n",
              "  .colab-df-quickchart {\n",
              "      --bg-color: #E8F0FE;\n",
              "      --fill-color: #1967D2;\n",
              "      --hover-bg-color: #E2EBFA;\n",
              "      --hover-fill-color: #174EA6;\n",
              "      --disabled-fill-color: #AAA;\n",
              "      --disabled-bg-color: #DDD;\n",
              "  }\n",
              "\n",
              "  [theme=dark] .colab-df-quickchart {\n",
              "      --bg-color: #3B4455;\n",
              "      --fill-color: #D2E3FC;\n",
              "      --hover-bg-color: #434B5C;\n",
              "      --hover-fill-color: #FFFFFF;\n",
              "      --disabled-bg-color: #3B4455;\n",
              "      --disabled-fill-color: #666;\n",
              "  }\n",
              "\n",
              "  .colab-df-quickchart {\n",
              "    background-color: var(--bg-color);\n",
              "    border: none;\n",
              "    border-radius: 50%;\n",
              "    cursor: pointer;\n",
              "    display: none;\n",
              "    fill: var(--fill-color);\n",
              "    height: 32px;\n",
              "    padding: 0;\n",
              "    width: 32px;\n",
              "  }\n",
              "\n",
              "  .colab-df-quickchart:hover {\n",
              "    background-color: var(--hover-bg-color);\n",
              "    box-shadow: 0 1px 2px rgba(60, 64, 67, 0.3), 0 1px 3px 1px rgba(60, 64, 67, 0.15);\n",
              "    fill: var(--button-hover-fill-color);\n",
              "  }\n",
              "\n",
              "  .colab-df-quickchart-complete:disabled,\n",
              "  .colab-df-quickchart-complete:disabled:hover {\n",
              "    background-color: var(--disabled-bg-color);\n",
              "    fill: var(--disabled-fill-color);\n",
              "    box-shadow: none;\n",
              "  }\n",
              "\n",
              "  .colab-df-spinner {\n",
              "    border: 2px solid var(--fill-color);\n",
              "    border-color: transparent;\n",
              "    border-bottom-color: var(--fill-color);\n",
              "    animation:\n",
              "      spin 1s steps(1) infinite;\n",
              "  }\n",
              "\n",
              "  @keyframes spin {\n",
              "    0% {\n",
              "      border-color: transparent;\n",
              "      border-bottom-color: var(--fill-color);\n",
              "      border-left-color: var(--fill-color);\n",
              "    }\n",
              "    20% {\n",
              "      border-color: transparent;\n",
              "      border-left-color: var(--fill-color);\n",
              "      border-top-color: var(--fill-color);\n",
              "    }\n",
              "    30% {\n",
              "      border-color: transparent;\n",
              "      border-left-color: var(--fill-color);\n",
              "      border-top-color: var(--fill-color);\n",
              "      border-right-color: var(--fill-color);\n",
              "    }\n",
              "    40% {\n",
              "      border-color: transparent;\n",
              "      border-right-color: var(--fill-color);\n",
              "      border-top-color: var(--fill-color);\n",
              "    }\n",
              "    60% {\n",
              "      border-color: transparent;\n",
              "      border-right-color: var(--fill-color);\n",
              "    }\n",
              "    80% {\n",
              "      border-color: transparent;\n",
              "      border-right-color: var(--fill-color);\n",
              "      border-bottom-color: var(--fill-color);\n",
              "    }\n",
              "    90% {\n",
              "      border-color: transparent;\n",
              "      border-bottom-color: var(--fill-color);\n",
              "    }\n",
              "  }\n",
              "</style>\n",
              "\n",
              "  <script>\n",
              "    async function quickchart(key) {\n",
              "      const quickchartButtonEl =\n",
              "        document.querySelector('#' + key + ' button');\n",
              "      quickchartButtonEl.disabled = true;  // To prevent multiple clicks.\n",
              "      quickchartButtonEl.classList.add('colab-df-spinner');\n",
              "      try {\n",
              "        const charts = await google.colab.kernel.invokeFunction(\n",
              "            'suggestCharts', [key], {});\n",
              "      } catch (error) {\n",
              "        console.error('Error during call to suggestCharts:', error);\n",
              "      }\n",
              "      quickchartButtonEl.classList.remove('colab-df-spinner');\n",
              "      quickchartButtonEl.classList.add('colab-df-quickchart-complete');\n",
              "    }\n",
              "    (() => {\n",
              "      let quickchartButtonEl =\n",
              "        document.querySelector('#df-d80c1c22-4254-439d-b0a6-29709cc9e569 button');\n",
              "      quickchartButtonEl.style.display =\n",
              "        google.colab.kernel.accessAllowed ? 'block' : 'none';\n",
              "    })();\n",
              "  </script>\n",
              "</div>\n",
              "    </div>\n",
              "  </div>\n"
            ]
          },
          "metadata": {},
          "execution_count": 4
        }
      ]
    },
    {
      "cell_type": "markdown",
      "source": [
        "## Google translate"
      ],
      "metadata": {
        "id": "mB-Biaoy8Yfm"
      }
    },
    {
      "cell_type": "code",
      "source": [
        "class G_Translator:\n",
        "  def __init__(self):\n",
        "    self.translator = Translator()\n",
        "\n",
        "\n",
        "  def translate(self, sent: str) -> str:\n",
        "    return self.translator.translate(sent, src='ru', dest='en').text"
      ],
      "metadata": {
        "id": "v8cX7AOwDonn"
      },
      "execution_count": 53,
      "outputs": []
    },
    {
      "cell_type": "markdown",
      "source": [
        "### NLLB model"
      ],
      "metadata": {
        "id": "rHenbfmPsalr"
      }
    },
    {
      "cell_type": "code",
      "source": [
        "%%capture\n",
        "rus_tokenizer = AutoTokenizer.from_pretrained(\n",
        "    NLLB_NAME, src_lang=\"rus_Cyrl\", token=access_token)\n",
        "\n",
        "nllb_model = AutoModelForSeq2SeqLM.from_pretrained(NLLB_NAME,\n",
        "                                                   token=access_token)"
      ],
      "metadata": {
        "id": "36XnHXa7sgEI"
      },
      "execution_count": null,
      "outputs": []
    },
    {
      "cell_type": "code",
      "source": [
        "class NLLB_Translator:\n",
        "  def __init__(self, model, tokenizer, target_lang: str = 'eng_Latn', sent_len: int = 300):\n",
        "    self.model = model\n",
        "    self.tokenizer = tokenizer\n",
        "    self.to_lang = target_lang\n",
        "    self.max_length = sent_len\n",
        "\n",
        "  def tokenize(self, sent: str):\n",
        "    return self.tokenizer(sent, return_tensors='pt')\n",
        "\n",
        "  def generate_translation(self, inputs):\n",
        "    return self.model.generate(\n",
        "      **inputs, forced_bos_token_id=self.tokenizer.lang_code_to_id[self.to_lang],\n",
        "      max_length=self.max_length)\n",
        "\n",
        "  def get_decoded(self, toks) -> List:\n",
        "    return self.tokenizer.batch_decode(toks, skip_special_tokens=True)\n",
        "\n",
        "  def translate(self, sent: str):\n",
        "    tokens = self.tokenize(sent)\n",
        "    translated = self.generate_translation(tokens)\n",
        "    result = self.get_decoded(translated)\n",
        "    return result"
      ],
      "metadata": {
        "id": "usEHlNvhq6IN"
      },
      "execution_count": 43,
      "outputs": []
    },
    {
      "cell_type": "markdown",
      "source": [
        "## Marian model"
      ],
      "metadata": {
        "id": "M4OFGUm_xrhs"
      }
    },
    {
      "cell_type": "code",
      "source": [
        "%%capture\n",
        "marian_tokenizer = MarianTokenizer.from_pretrained(MARIAN_NAME)\n",
        "marian_pretrained = MarianMTModel.from_pretrained(MARIAN_NAME)"
      ],
      "metadata": {
        "id": "A9IaF-9lGFJy"
      },
      "execution_count": 46,
      "outputs": []
    },
    {
      "cell_type": "code",
      "source": [
        "class Marian_Translator:\n",
        "  def __init__(self, tokenizer, model,  maxlen = 300, tokenlist = ('</s>', '<pad> ')):\n",
        "    self.tokenizer = tokenizer\n",
        "    self.model = model\n",
        "    self.list_of_tokens = tokenlist  #tokens to skip other than UNK\n",
        "    self.maxlen = maxlen\n",
        "\n",
        "\n",
        "  def remove_specials(self, sent: str) -> str:\n",
        "    for token in self.list_of_tokens:\n",
        "      sent = sent.replace(token, '')\n",
        "    return sent\n",
        "\n",
        "\n",
        "  def get_tokens(self, sent: str):\n",
        "    return self.tokenizer.encode(sent, return_tensors='pt')\n",
        "\n",
        "\n",
        "  def generate_translation(self, ids):\n",
        "    return self.model.generate(ids, max_length=self.maxlen, num_beams=4,\n",
        "                               early_stopping=True)[0]\n",
        "\n",
        "\n",
        "  def decode(self, tokens, skip=False):\n",
        "    return self.tokenizer.decode(tokens, skip_special_token=skip)\n",
        "\n",
        "\n",
        "  def translate(self, sent: str):\n",
        "    ru_ids = self.get_tokens(sent)\n",
        "    translated_ids = self.generate_translation(ru_ids)\n",
        "    decoded = self.decode(translated_ids)\n",
        "    result = self.remove_specials(decoded)"
      ],
      "metadata": {
        "id": "hNSB7X0zxuLe"
      },
      "execution_count": 41,
      "outputs": []
    },
    {
      "cell_type": "markdown",
      "source": [
        "## Create models"
      ],
      "metadata": {
        "id": "Ye_kHDK8GddV"
      }
    },
    {
      "cell_type": "code",
      "source": [
        "google_model = G_Translator()\n",
        "nllb_model = NLLB_Translator(nllb_model, rus_tokenizer)\n",
        "marian_model = Marian_Translator(marian_tokenizer, marian_pretrained)"
      ],
      "metadata": {
        "id": "JvtsfpXvGffZ"
      },
      "execution_count": 51,
      "outputs": []
    },
    {
      "cell_type": "markdown",
      "source": [
        "### Save model"
      ],
      "metadata": {
        "id": "aNAPRNyKJBq-"
      }
    },
    {
      "cell_type": "code",
      "source": [
        "def save_n_download(df, name = 'translations.tsv', sep = '\\t'):\n",
        "  df.to_csv(name, index=False, sep=sep)\n",
        "  files.download(name)"
      ],
      "metadata": {
        "id": "pETtMf6L4sVl"
      },
      "execution_count": 56,
      "outputs": []
    },
    {
      "cell_type": "markdown",
      "source": [
        "## Create a class to run the translators"
      ],
      "metadata": {
        "id": "-BS71MNCJYGB"
      }
    },
    {
      "cell_type": "code",
      "source": [
        "class Datasetter:\n",
        "  def __init__(self, dataset, g, nllb_m, marian):\n",
        "\n",
        "    self.df = dataset.copy()\n",
        "\n",
        "    self.g_translator = g\n",
        "    self.nllb_translator = nllb_m\n",
        "    self.marian_translator = marian\n",
        "\n",
        "    self.translations = {'en_google':self.g_trans,\n",
        "                         'en_nllb':self.nllb_trans,\n",
        "                         'en_marian': self.marian_trans\n",
        "                         }\n",
        "\n",
        "\n",
        "  def g_trans(self, line:str) -> str:\n",
        "    return self.g_translator.translate(line.lower())\n",
        "\n",
        "\n",
        "  def nllb_trans(self, line: str) -> str:\n",
        "    return self.nllb_model.translate(line.lower())\n",
        "\n",
        "\n",
        "  def marian_trans(self, line: str) -> str:\n",
        "    return self.marian_translator.translate(line.lower())\n",
        "\n",
        "\n",
        "  def translate(self):\n",
        "    for col_name, func in self.translations.items():\n",
        "      self.df[col_name] = self.df['ru'].apply(func)\n",
        "    return self.df"
      ],
      "metadata": {
        "id": "JzKhAxYe2Htr"
      },
      "execution_count": 57,
      "outputs": []
    },
    {
      "cell_type": "code",
      "source": [
        "ensemble = Datasetter(df, google_model, nllb_model, marian_model)"
      ],
      "metadata": {
        "id": "AL82MgLSJwhl"
      },
      "execution_count": 58,
      "outputs": []
    }
  ]
}