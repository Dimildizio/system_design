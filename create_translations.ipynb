{
  "nbformat": 4,
  "nbformat_minor": 0,
  "metadata": {
    "colab": {
      "provenance": [],
      "authorship_tag": "ABX9TyPyogc28mrp9OQBNlwaVhoN",
      "include_colab_link": true
    },
    "kernelspec": {
      "name": "python3",
      "display_name": "Python 3"
    },
    "language_info": {
      "name": "python"
    }
  },
  "cells": [
    {
      "cell_type": "markdown",
      "metadata": {
        "id": "view-in-github",
        "colab_type": "text"
      },
      "source": [
        "<a href=\"https://colab.research.google.com/github/Dimildizio/system_design/blob/main/create_translations.ipynb\" target=\"_parent\"><img src=\"https://colab.research.google.com/assets/colab-badge.svg\" alt=\"Open In Colab\"/></a>"
      ]
    },
    {
      "cell_type": "code",
      "execution_count": 1,
      "metadata": {
        "id": "qtISEzqF4_3I"
      },
      "outputs": [],
      "source": [
        "%%capture\n",
        "!pip install transformers sentencepiece googletrans==4.0.0-rc1\n",
        "#set a PARTICULAR version of google trans omg\n",
        "#Marian model requires sentence piece"
      ]
    },
    {
      "cell_type": "code",
      "source": [
        "import pandas as pd\n",
        "import sentencepiece\n",
        "\n",
        "from google.colab import files\n",
        "from googletrans import Translator\n",
        "from transformers import AutoModelForSeq2SeqLM, AutoTokenizer, MarianTokenizer, MarianMTModel\n",
        "from typing import List"
      ],
      "metadata": {
        "id": "vqwik2KH5Ill"
      },
      "execution_count": 3,
      "outputs": []
    },
    {
      "cell_type": "code",
      "source": [
        "access_token =''"
      ],
      "metadata": {
        "id": "ibL-bcHLskDE"
      },
      "execution_count": 5,
      "outputs": []
    },
    {
      "cell_type": "code",
      "source": [
        "MARIAN_NAME = \"Helsinki-NLP/opus-mt-ru-en\"\n",
        "NLLB_NAME = \"facebook/nllb-200-distilled-600M\"\n",
        "FILENAME = \"eval_data.xlsx\""
      ],
      "metadata": {
        "id": "pcy314tDBum6"
      },
      "execution_count": 6,
      "outputs": []
    },
    {
      "cell_type": "markdown",
      "source": [
        "## Upload text"
      ],
      "metadata": {
        "id": "GRmx4lnf8gf9"
      }
    },
    {
      "cell_type": "code",
      "source": [
        "df = pd.read_excel(FILENAME)\n",
        "df.head()"
      ],
      "metadata": {
        "id": "EgK63ZKFrMDP"
      },
      "execution_count": null,
      "outputs": []
    },
    {
      "cell_type": "markdown",
      "source": [
        "## Google translate"
      ],
      "metadata": {
        "id": "mB-Biaoy8Yfm"
      }
    },
    {
      "cell_type": "code",
      "source": [
        "class G_Translator:\n",
        "  def __init__(self):\n",
        "    self.translator = Translator()\n",
        "\n",
        "\n",
        "  def translate(self, sent: str) -> str:\n",
        "    return self.translator.translate(sent, src='ru', dest='en').text"
      ],
      "metadata": {
        "id": "v8cX7AOwDonn"
      },
      "execution_count": 10,
      "outputs": []
    },
    {
      "cell_type": "markdown",
      "source": [
        "### NLLB model"
      ],
      "metadata": {
        "id": "rHenbfmPsalr"
      }
    },
    {
      "cell_type": "code",
      "source": [
        "class NLLB_Translator:\n",
        "  def __init__(self, tokenizer, model, target_lang: str = 'eng_Latn', sent_len: int = 300):\n",
        "    self.tokenizer = tokenizer\n",
        "    self.model = model\n",
        "    self.to_lang = target_lang\n",
        "    self.max_length = sent_len\n",
        "\n",
        "  def tokenize(self, sent: str):\n",
        "    return self.tokenizer(sent, return_tensors='pt')\n",
        "\n",
        "  def generate_translation(self, inputs):\n",
        "    return self.model.generate(\n",
        "      **inputs, forced_bos_token_id=self.tokenizer.lang_code_to_id[self.to_lang],\n",
        "      max_length=self.max_length)\n",
        "\n",
        "  def get_decoded(self, toks) -> List:\n",
        "    return self.tokenizer.batch_decode(toks, skip_special_tokens=True)[0]\n",
        "\n",
        "  def translate(self, sent: str):\n",
        "    tokens = self.tokenize(sent)\n",
        "    translated = self.generate_translation(tokens)\n",
        "    result = self.get_decoded(translated)\n",
        "    return result"
      ],
      "metadata": {
        "id": "usEHlNvhq6IN"
      },
      "execution_count": 25,
      "outputs": []
    },
    {
      "cell_type": "markdown",
      "source": [
        "## Marian model"
      ],
      "metadata": {
        "id": "M4OFGUm_xrhs"
      }
    },
    {
      "cell_type": "code",
      "source": [
        "class Marian_Translator:\n",
        "  def __init__(self, tokenizer, model,  maxlen = 300, tokenlist = ('</s>', '<pad> ')):\n",
        "    self.tokenizer = tokenizer\n",
        "    self.model = model\n",
        "    self.list_of_tokens = tokenlist  #tokens to skip other than UNK\n",
        "    self.maxlen = maxlen\n",
        "\n",
        "\n",
        "  def remove_specials(self, sent: str) -> str:\n",
        "    for token in self.list_of_tokens:\n",
        "      sent = sent.replace(token, '')\n",
        "    return sent\n",
        "\n",
        "\n",
        "  def get_tokens(self, sent: str):\n",
        "    return self.tokenizer.encode(sent, return_tensors='pt')\n",
        "\n",
        "\n",
        "  def generate_translation(self, ids):\n",
        "    return self.model.generate(ids, max_length=self.maxlen, num_beams=4,\n",
        "                               early_stopping=True)[0]\n",
        "\n",
        "\n",
        "  def decode(self, tokens, skip=False):\n",
        "    return self.tokenizer.decode(tokens, skip_special_token=skip)\n",
        "\n",
        "\n",
        "  def translate(self, sent: str):\n",
        "    ru_ids = self.get_tokens(sent)\n",
        "    translated_ids = self.generate_translation(ru_ids)\n",
        "    decoded = self.decode(translated_ids)\n",
        "    result = self.remove_specials(decoded)\n",
        "    return result"
      ],
      "metadata": {
        "id": "hNSB7X0zxuLe"
      },
      "execution_count": 20,
      "outputs": []
    },
    {
      "cell_type": "markdown",
      "source": [
        "### Save model"
      ],
      "metadata": {
        "id": "aNAPRNyKJBq-"
      }
    },
    {
      "cell_type": "code",
      "source": [
        "def save_n_download(df, name='translations.tsv', sep='\\t'):\n",
        "  df.to_csv(name, index=False, sep=sep)\n",
        "  files.download(name)"
      ],
      "metadata": {
        "id": "pETtMf6L4sVl"
      },
      "execution_count": 13,
      "outputs": []
    },
    {
      "cell_type": "markdown",
      "source": [
        "## Create a class to run the translators"
      ],
      "metadata": {
        "id": "-BS71MNCJYGB"
      }
    },
    {
      "cell_type": "code",
      "source": [
        "class Datasetter:\n",
        "  def __init__(self, g, nllb_m, marian, original_df=FILENAME,\n",
        "               name_to_save='translations.tsv', sep='\\t'):\n",
        "\n",
        "    self.filename = original_df\n",
        "    self.name_to_save = name_to_save\n",
        "    self.sep = sep\n",
        "    self.df = self.load_data()\n",
        "\n",
        "    self.g_translator = g\n",
        "    self.nllb_translator = nllb_m\n",
        "    self.marian_translator = marian\n",
        "\n",
        "    self.translations = {'en_google':self.g_trans,\n",
        "                         'en_nllb':self.nllb_trans,\n",
        "                         'en_marian': self.marian_trans\n",
        "                         }   #could create two separate lists and a for cycle\n",
        "\n",
        "\n",
        "  def lower_dec(func):\n",
        "    def wrapper(self, line):\n",
        "      return func(self, line.lower())\n",
        "    return wrapper\n",
        "\n",
        "  @lower_dec\n",
        "  def g_trans(self, line: str) -> str:\n",
        "    return self.g_translator.translate(line)\n",
        "\n",
        "  @lower_dec\n",
        "  def nllb_trans(self, line: str) -> str:\n",
        "    return self.nllb_translator.translate(line)\n",
        "\n",
        "  @lower_dec\n",
        "  def marian_trans(self, line: str) -> str:\n",
        "    return self.marian_translator.translate(line)\n",
        "\n",
        "\n",
        "  def translate(self) -> pd.DataFrame:\n",
        "    for col_name, func in self.translations.items():\n",
        "      self.df[col_name] = self.df['ru'].apply(func)\n",
        "    return self.df\n",
        "\n",
        "\n",
        "  def change_name_to_save(self, name: str) -> None:\n",
        "    self.name_to_save = name\n",
        "\n",
        "\n",
        "  def change_separator(self, sep: str) -> None:\n",
        "    self.sep = sep\n",
        "\n",
        "\n",
        "  def load_data(self) -> pd.DataFrame:\n",
        "    df = pd.read_excel(self.filename)\n",
        "    return df\n",
        "\n",
        "\n",
        "  def load_csv(self, filename, separator) -> None:\n",
        "    self.df = pd.read_csv(filename, sep=separator)\n",
        "\n",
        "\n",
        "  def df_head(self, n=5) -> None:\n",
        "    display(self.df.head(n))\n",
        "\n",
        "\n",
        "  def save_df(self) -> None:\n",
        "    self.df.to_csv(self.name_to_save, index=False, sep=sep)\n",
        "\n",
        "\n",
        "  def download_df(self) -> None:\n",
        "    files.download(self.name_to_save)"
      ],
      "metadata": {
        "id": "JzKhAxYe2Htr"
      },
      "execution_count": 21,
      "outputs": []
    },
    {
      "cell_type": "markdown",
      "source": [
        "## Check result"
      ],
      "metadata": {
        "id": "M8FeHg55UDfb"
      }
    },
    {
      "cell_type": "markdown",
      "source": [
        "#### Load NLLB"
      ],
      "metadata": {
        "id": "F4tL5WM5UQbj"
      }
    },
    {
      "cell_type": "code",
      "source": [
        "%%capture\n",
        "rus_tokenizer = AutoTokenizer.from_pretrained(\n",
        "    NLLB_NAME, src_lang=\"rus_Cyrl\", token=access_token)\n",
        "\n",
        "nllb_pretrained = AutoModelForSeq2SeqLM.from_pretrained(NLLB_NAME,\n",
        "                                                   token=access_token)"
      ],
      "metadata": {
        "id": "36XnHXa7sgEI"
      },
      "execution_count": 15,
      "outputs": []
    },
    {
      "cell_type": "markdown",
      "source": [
        "#### Load Marian"
      ],
      "metadata": {
        "id": "whhRE2k8UU1u"
      }
    },
    {
      "cell_type": "code",
      "source": [
        "%%capture\n",
        "marian_tokenizer = MarianTokenizer.from_pretrained(MARIAN_NAME)\n",
        "marian_pretrained = MarianMTModel.from_pretrained(MARIAN_NAME)"
      ],
      "metadata": {
        "id": "A9IaF-9lGFJy"
      },
      "execution_count": 16,
      "outputs": []
    },
    {
      "cell_type": "markdown",
      "source": [
        "#### Create models"
      ],
      "metadata": {
        "id": "fI4gkQRFUXgZ"
      }
    },
    {
      "cell_type": "code",
      "source": [
        "google_model = G_Translator()\n",
        "nllb_model = NLLB_Translator(rus_tokenizer, nllb_pretrained)\n",
        "marian_model = Marian_Translator(marian_tokenizer, marian_pretrained)"
      ],
      "metadata": {
        "id": "JvtsfpXvGffZ"
      },
      "execution_count": 26,
      "outputs": []
    },
    {
      "cell_type": "markdown",
      "source": [
        "#### Create general use instance"
      ],
      "metadata": {
        "id": "zjft-jsYUZ50"
      }
    },
    {
      "cell_type": "code",
      "source": [
        "ensemble = Datasetter(google_model, nllb_model, marian_model)"
      ],
      "metadata": {
        "id": "AL82MgLSJwhl"
      },
      "execution_count": 29,
      "outputs": []
    },
    {
      "cell_type": "code",
      "source": [
        "ensemble.translate()"
      ],
      "metadata": {
        "id": "qo1nP557Um8k"
      },
      "execution_count": null,
      "outputs": []
    }
  ]
}