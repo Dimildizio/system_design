{
  "nbformat": 4,
  "nbformat_minor": 0,
  "metadata": {
    "colab": {
      "provenance": [],
      "authorship_tag": "ABX9TyPAdUtbjAxZvire6DSjiVfQ",
      "include_colab_link": true
    },
    "kernelspec": {
      "name": "python3",
      "display_name": "Python 3"
    },
    "language_info": {
      "name": "python"
    }
  },
  "cells": [
    {
      "cell_type": "markdown",
      "metadata": {
        "id": "view-in-github",
        "colab_type": "text"
      },
      "source": [
        "<a href=\"https://colab.research.google.com/github/Dimildizio/system_design/blob/main/metrics_translate.ipynb\" target=\"_parent\"><img src=\"https://colab.research.google.com/assets/colab-badge.svg\" alt=\"Open In Colab\"/></a>"
      ]
    },
    {
      "cell_type": "markdown",
      "source": [
        "#Check metrics for a specific dataset"
      ],
      "metadata": {
        "id": "mNHisiQ9syJ_"
      }
    },
    {
      "cell_type": "markdown",
      "source": [
        "## Installs"
      ],
      "metadata": {
        "id": "nRFFjmQjtNHm"
      }
    },
    {
      "cell_type": "code",
      "source": [
        "%%capture\n",
        "!pip install rouge-score sacrebleu sentencepiece"
      ],
      "metadata": {
        "id": "spI1O0zNtOEZ"
      },
      "execution_count": 1,
      "outputs": []
    },
    {
      "cell_type": "markdown",
      "source": [
        "## Imports"
      ],
      "metadata": {
        "id": "e62QFon2s5aq"
      }
    },
    {
      "cell_type": "code",
      "execution_count": 54,
      "metadata": {
        "id": "HF4dCsXasrQx"
      },
      "outputs": [],
      "source": [
        "import pandas as pd\n",
        "import sentencepiece as sp\n",
        "import sacrebleu\n",
        "import nltk\n",
        "from nltk.translate.bleu_score import corpus_bleu, sentence_bleu, SmoothingFunction\n",
        "from nltk.translate.meteor_score import meteor_score\n",
        "from rouge_score import rouge_scorer\n",
        "from sacrebleu.metrics import BLEU, CHRF\n",
        "\n",
        "import matplotlib.pyplot as plt\n"
      ]
    },
    {
      "cell_type": "code",
      "source": [
        "nltk.download('wordnet')"
      ],
      "metadata": {
        "colab": {
          "base_uri": "https://localhost:8080/"
        },
        "id": "RHecNpYhtTZy",
        "outputId": "5d7d70ff-4a0f-4fc7-b015-a71eb62e110a"
      },
      "execution_count": 4,
      "outputs": [
        {
          "output_type": "stream",
          "name": "stderr",
          "text": [
            "[nltk_data] Downloading package wordnet to /root/nltk_data...\n"
          ]
        },
        {
          "output_type": "execute_result",
          "data": {
            "text/plain": [
              "True"
            ]
          },
          "metadata": {},
          "execution_count": 4
        }
      ]
    },
    {
      "cell_type": "code",
      "source": [
        "FILENAME = 'all_translations.tsv'"
      ],
      "metadata": {
        "id": "gxCXzcZltaN4"
      },
      "execution_count": 5,
      "outputs": []
    },
    {
      "cell_type": "markdown",
      "source": [
        "##Load dataset"
      ],
      "metadata": {
        "id": "eamG8W-rwRK0"
      }
    },
    {
      "cell_type": "code",
      "source": [
        "df = pd.read_csv(FILENAME, sep='\\t')"
      ],
      "metadata": {
        "colab": {
          "base_uri": "https://localhost:8080/",
          "height": 132
        },
        "id": "PegXvcy1wS_Y",
        "outputId": "c7a8b75c-15e5-4c20-f00a-16bc69e54905"
      },
      "execution_count": 11,
      "outputs": [
        {
          "output_type": "execute_result",
          "data": {
            "text/plain": [
              "                                                  ru  \\\n",
              "0  На основе данной модели реализован эксперимент...   \n",
              "\n",
              "                                           en_expert  \\\n",
              "0  An experimental method is implemented based on...   \n",
              "\n",
              "                                             en_auto  \\\n",
              "0  Based on this model is implemented experimenta...   \n",
              "\n",
              "                                           en_google  \\\n",
              "0  Based on this model, an experimental method is...   \n",
              "\n",
              "                                             en_nllb  \\\n",
              "0  Based on this model, an experimental method ha...   \n",
              "\n",
              "                                           en_marian  \n",
              "0  On the basis of this model, an experimental me...  "
            ],
            "text/html": [
              "\n",
              "  <div id=\"df-389a29f2-2d8b-4a1a-b473-9b7fa31ea6eb\" class=\"colab-df-container\">\n",
              "    <div>\n",
              "<style scoped>\n",
              "    .dataframe tbody tr th:only-of-type {\n",
              "        vertical-align: middle;\n",
              "    }\n",
              "\n",
              "    .dataframe tbody tr th {\n",
              "        vertical-align: top;\n",
              "    }\n",
              "\n",
              "    .dataframe thead th {\n",
              "        text-align: right;\n",
              "    }\n",
              "</style>\n",
              "<table border=\"1\" class=\"dataframe\">\n",
              "  <thead>\n",
              "    <tr style=\"text-align: right;\">\n",
              "      <th></th>\n",
              "      <th>ru</th>\n",
              "      <th>en_expert</th>\n",
              "      <th>en_auto</th>\n",
              "      <th>en_google</th>\n",
              "      <th>en_nllb</th>\n",
              "      <th>en_marian</th>\n",
              "    </tr>\n",
              "  </thead>\n",
              "  <tbody>\n",
              "    <tr>\n",
              "      <th>0</th>\n",
              "      <td>На основе данной модели реализован эксперимент...</td>\n",
              "      <td>An experimental method is implemented based on...</td>\n",
              "      <td>Based on this model is implemented experimenta...</td>\n",
              "      <td>Based on this model, an experimental method is...</td>\n",
              "      <td>Based on this model, an experimental method ha...</td>\n",
              "      <td>On the basis of this model, an experimental me...</td>\n",
              "    </tr>\n",
              "  </tbody>\n",
              "</table>\n",
              "</div>\n",
              "    <div class=\"colab-df-buttons\">\n",
              "\n",
              "  <div class=\"colab-df-container\">\n",
              "    <button class=\"colab-df-convert\" onclick=\"convertToInteractive('df-389a29f2-2d8b-4a1a-b473-9b7fa31ea6eb')\"\n",
              "            title=\"Convert this dataframe to an interactive table.\"\n",
              "            style=\"display:none;\">\n",
              "\n",
              "  <svg xmlns=\"http://www.w3.org/2000/svg\" height=\"24px\" viewBox=\"0 -960 960 960\">\n",
              "    <path d=\"M120-120v-720h720v720H120Zm60-500h600v-160H180v160Zm220 220h160v-160H400v160Zm0 220h160v-160H400v160ZM180-400h160v-160H180v160Zm440 0h160v-160H620v160ZM180-180h160v-160H180v160Zm440 0h160v-160H620v160Z\"/>\n",
              "  </svg>\n",
              "    </button>\n",
              "\n",
              "  <style>\n",
              "    .colab-df-container {\n",
              "      display:flex;\n",
              "      gap: 12px;\n",
              "    }\n",
              "\n",
              "    .colab-df-convert {\n",
              "      background-color: #E8F0FE;\n",
              "      border: none;\n",
              "      border-radius: 50%;\n",
              "      cursor: pointer;\n",
              "      display: none;\n",
              "      fill: #1967D2;\n",
              "      height: 32px;\n",
              "      padding: 0 0 0 0;\n",
              "      width: 32px;\n",
              "    }\n",
              "\n",
              "    .colab-df-convert:hover {\n",
              "      background-color: #E2EBFA;\n",
              "      box-shadow: 0px 1px 2px rgba(60, 64, 67, 0.3), 0px 1px 3px 1px rgba(60, 64, 67, 0.15);\n",
              "      fill: #174EA6;\n",
              "    }\n",
              "\n",
              "    .colab-df-buttons div {\n",
              "      margin-bottom: 4px;\n",
              "    }\n",
              "\n",
              "    [theme=dark] .colab-df-convert {\n",
              "      background-color: #3B4455;\n",
              "      fill: #D2E3FC;\n",
              "    }\n",
              "\n",
              "    [theme=dark] .colab-df-convert:hover {\n",
              "      background-color: #434B5C;\n",
              "      box-shadow: 0px 1px 3px 1px rgba(0, 0, 0, 0.15);\n",
              "      filter: drop-shadow(0px 1px 2px rgba(0, 0, 0, 0.3));\n",
              "      fill: #FFFFFF;\n",
              "    }\n",
              "  </style>\n",
              "\n",
              "    <script>\n",
              "      const buttonEl =\n",
              "        document.querySelector('#df-389a29f2-2d8b-4a1a-b473-9b7fa31ea6eb button.colab-df-convert');\n",
              "      buttonEl.style.display =\n",
              "        google.colab.kernel.accessAllowed ? 'block' : 'none';\n",
              "\n",
              "      async function convertToInteractive(key) {\n",
              "        const element = document.querySelector('#df-389a29f2-2d8b-4a1a-b473-9b7fa31ea6eb');\n",
              "        const dataTable =\n",
              "          await google.colab.kernel.invokeFunction('convertToInteractive',\n",
              "                                                    [key], {});\n",
              "        if (!dataTable) return;\n",
              "\n",
              "        const docLinkHtml = 'Like what you see? Visit the ' +\n",
              "          '<a target=\"_blank\" href=https://colab.research.google.com/notebooks/data_table.ipynb>data table notebook</a>'\n",
              "          + ' to learn more about interactive tables.';\n",
              "        element.innerHTML = '';\n",
              "        dataTable['output_type'] = 'display_data';\n",
              "        await google.colab.output.renderOutput(dataTable, element);\n",
              "        const docLink = document.createElement('div');\n",
              "        docLink.innerHTML = docLinkHtml;\n",
              "        element.appendChild(docLink);\n",
              "      }\n",
              "    </script>\n",
              "  </div>\n",
              "\n",
              "    </div>\n",
              "  </div>\n"
            ]
          },
          "metadata": {},
          "execution_count": 11
        }
      ]
    },
    {
      "cell_type": "markdown",
      "source": [
        "## Create metrics"
      ],
      "metadata": {
        "id": "BjOCEYFaxa7-"
      }
    },
    {
      "cell_type": "markdown",
      "source": [
        "#### aux rounding func"
      ],
      "metadata": {
        "id": "7CT44rF-yDzF"
      }
    },
    {
      "cell_type": "code",
      "source": [
        "def round_perc(num: float) -> float:\n",
        "  return round(num*100, 2)"
      ],
      "metadata": {
        "id": "ojkhVwbnxlbq"
      },
      "execution_count": 14,
      "outputs": []
    },
    {
      "cell_type": "markdown",
      "source": [
        "### Rouge"
      ],
      "metadata": {
        "id": "IROvvWpgyTTW"
      }
    },
    {
      "cell_type": "code",
      "source": [
        "Rouge = rouge_scorer.RougeScorer(['rouge1', 'rouge2', 'rougeL'], use_stemmer=True)"
      ],
      "metadata": {
        "id": "7NJjD0zkxO68"
      },
      "execution_count": 12,
      "outputs": []
    },
    {
      "cell_type": "code",
      "source": [
        "def eval_rouge(translation, reference):\n",
        "  rouge_dict = {'rouge1':0,\n",
        "                'rouge2':0,\n",
        "                'rougeL':0\n",
        "                }\n",
        "  rouges = Rouge.score(reference, translation)\n",
        "  for key in rouges.keys():\n",
        "    rouge_dict[key] += rouges[key].fmeasure\n",
        "  return round_perc(pd.Series(rouge_dict.values()).mean())"
      ],
      "metadata": {
        "id": "dAJJtDHfyVJQ"
      },
      "execution_count": 22,
      "outputs": []
    },
    {
      "cell_type": "markdown",
      "source": [
        "### BLEU"
      ],
      "metadata": {
        "id": "Vu5_DF1eyHFZ"
      }
    },
    {
      "cell_type": "code",
      "source": [
        "smoothing_zero_ngrams = SmoothingFunction()"
      ],
      "metadata": {
        "id": "0sw_OHb6xkNL"
      },
      "execution_count": 13,
      "outputs": []
    },
    {
      "cell_type": "code",
      "source": [
        "def get_sent_bleu(sentence: str, reference: str) -> float:\n",
        "  score = sentence_bleu([reference.split()], sentence.split(),\n",
        "                        weights = (0.25, 0.5, 0.25), smoothing_function=smoothing_zero_ngrams.method1)\n",
        "  return round_perc(score)\n",
        "\n",
        "\n",
        "def get_bleu(sentence: str, reference: str) -> float:\n",
        "  score = corpus_bleu([[reference.split()]], [sentence.split()],\n",
        "                      smoothing_function=smoothing_zero_ngrams.method1)\n",
        "  return round_perc(score)\n",
        "\n",
        "def get_sacrebleu(sent_series, ref_series): #crutch\n",
        "    return round(sacrebleu.corpus_bleu([sent_series], [[ref_series]]).score, 2)\n",
        "\n",
        "def get_chrf(sentence, reference):\n",
        "  chrf = CHRF()\n",
        "  return chrf.corpus_score([sentence], [[reference]])\n"
      ],
      "metadata": {
        "id": "JBYZbMEUxqMa"
      },
      "execution_count": 182,
      "outputs": []
    },
    {
      "cell_type": "markdown",
      "source": [
        "### meteor"
      ],
      "metadata": {
        "id": "i2J2jMIhyKh1"
      }
    },
    {
      "cell_type": "code",
      "source": [
        "def get_meteor(sentence: str, reference: str) -> float:\n",
        "  score = meteor_score([reference.split()], sentence.split())\n",
        "  return round_perc(score)"
      ],
      "metadata": {
        "id": "Zv0OyxRJx-s_"
      },
      "execution_count": 122,
      "outputs": []
    },
    {
      "cell_type": "markdown",
      "source": [
        "TER"
      ],
      "metadata": {
        "id": "fVp_5mLkzWPf"
      }
    },
    {
      "cell_type": "code",
      "source": [
        "def ter(hypothesis, reference):\n",
        "    n = len(reference)\n",
        "    m = len(hypothesis)\n",
        "\n",
        "    dp = [[0] * (m + 1) for _ in range(n + 1)]\n",
        "\n",
        "    for i in range(n + 1):\n",
        "        dp[i][0] = i\n",
        "    for j in range(m + 1):\n",
        "        dp[0][j] = j\n",
        "\n",
        "    for i in range(1, n + 1):\n",
        "        for j in range(1, m + 1):\n",
        "            cost = 0 if reference[i - 1] == hypothesis[j - 1] else 1\n",
        "            dp[i][j] = min(dp[i - 1][j] + 1, dp[i][j - 1] + 1, dp[i - 1][j - 1] + cost)\n",
        "    return dp[n][m]"
      ],
      "metadata": {
        "id": "G_BSOWSjzVPz"
      },
      "execution_count": 17,
      "outputs": []
    }
  ]
}