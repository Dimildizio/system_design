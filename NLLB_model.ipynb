{
  "nbformat": 4,
  "nbformat_minor": 0,
  "metadata": {
    "colab": {
      "provenance": [],
      "authorship_tag": "ABX9TyO38p9Bn6Oj1AmZb29yt/nT",
      "include_colab_link": true
    },
    "kernelspec": {
      "name": "python3",
      "display_name": "Python 3"
    },
    "language_info": {
      "name": "python"
    },
    "widgets": {
      "application/vnd.jupyter.widget-state+json": {
        "854f299527be454395a3c6cb696ff7b3": {
          "model_module": "@jupyter-widgets/controls",
          "model_name": "HBoxModel",
          "model_module_version": "1.5.0",
          "state": {
            "_dom_classes": [],
            "_model_module": "@jupyter-widgets/controls",
            "_model_module_version": "1.5.0",
            "_model_name": "HBoxModel",
            "_view_count": null,
            "_view_module": "@jupyter-widgets/controls",
            "_view_module_version": "1.5.0",
            "_view_name": "HBoxView",
            "box_style": "",
            "children": [
              "IPY_MODEL_6a5a80df22df4503b456827c07d15292",
              "IPY_MODEL_ae9ec5ac99d24508bdc890806d6ca579",
              "IPY_MODEL_5c70f367ef8a4179a5c5cb0fd1529206"
            ],
            "layout": "IPY_MODEL_c525d320a646461d876fa352e44da969"
          }
        },
        "6a5a80df22df4503b456827c07d15292": {
          "model_module": "@jupyter-widgets/controls",
          "model_name": "HTMLModel",
          "model_module_version": "1.5.0",
          "state": {
            "_dom_classes": [],
            "_model_module": "@jupyter-widgets/controls",
            "_model_module_version": "1.5.0",
            "_model_name": "HTMLModel",
            "_view_count": null,
            "_view_module": "@jupyter-widgets/controls",
            "_view_module_version": "1.5.0",
            "_view_name": "HTMLView",
            "description": "",
            "description_tooltip": null,
            "layout": "IPY_MODEL_cf713daf4def475dabe0ff13322024b9",
            "placeholder": "​",
            "style": "IPY_MODEL_cc5b8006cb4e4c31ae69ed8b3d84eb66",
            "value": "Downloading pytorch_model.bin: 100%"
          }
        },
        "ae9ec5ac99d24508bdc890806d6ca579": {
          "model_module": "@jupyter-widgets/controls",
          "model_name": "FloatProgressModel",
          "model_module_version": "1.5.0",
          "state": {
            "_dom_classes": [],
            "_model_module": "@jupyter-widgets/controls",
            "_model_module_version": "1.5.0",
            "_model_name": "FloatProgressModel",
            "_view_count": null,
            "_view_module": "@jupyter-widgets/controls",
            "_view_module_version": "1.5.0",
            "_view_name": "ProgressView",
            "bar_style": "success",
            "description": "",
            "description_tooltip": null,
            "layout": "IPY_MODEL_825c28f5090147f4a4b479bec85e4e63",
            "max": 2460457927,
            "min": 0,
            "orientation": "horizontal",
            "style": "IPY_MODEL_b94f94b74c7141ab9cb89b548cc3e195",
            "value": 2460457927
          }
        },
        "5c70f367ef8a4179a5c5cb0fd1529206": {
          "model_module": "@jupyter-widgets/controls",
          "model_name": "HTMLModel",
          "model_module_version": "1.5.0",
          "state": {
            "_dom_classes": [],
            "_model_module": "@jupyter-widgets/controls",
            "_model_module_version": "1.5.0",
            "_model_name": "HTMLModel",
            "_view_count": null,
            "_view_module": "@jupyter-widgets/controls",
            "_view_module_version": "1.5.0",
            "_view_name": "HTMLView",
            "description": "",
            "description_tooltip": null,
            "layout": "IPY_MODEL_bf6f5fcb22874e388f20764bcaee1417",
            "placeholder": "​",
            "style": "IPY_MODEL_72b8956151344772ad3213a496295a84",
            "value": " 2.46G/2.46G [00:22&lt;00:00, 236MB/s]"
          }
        },
        "c525d320a646461d876fa352e44da969": {
          "model_module": "@jupyter-widgets/base",
          "model_name": "LayoutModel",
          "model_module_version": "1.2.0",
          "state": {
            "_model_module": "@jupyter-widgets/base",
            "_model_module_version": "1.2.0",
            "_model_name": "LayoutModel",
            "_view_count": null,
            "_view_module": "@jupyter-widgets/base",
            "_view_module_version": "1.2.0",
            "_view_name": "LayoutView",
            "align_content": null,
            "align_items": null,
            "align_self": null,
            "border": null,
            "bottom": null,
            "display": null,
            "flex": null,
            "flex_flow": null,
            "grid_area": null,
            "grid_auto_columns": null,
            "grid_auto_flow": null,
            "grid_auto_rows": null,
            "grid_column": null,
            "grid_gap": null,
            "grid_row": null,
            "grid_template_areas": null,
            "grid_template_columns": null,
            "grid_template_rows": null,
            "height": null,
            "justify_content": null,
            "justify_items": null,
            "left": null,
            "margin": null,
            "max_height": null,
            "max_width": null,
            "min_height": null,
            "min_width": null,
            "object_fit": null,
            "object_position": null,
            "order": null,
            "overflow": null,
            "overflow_x": null,
            "overflow_y": null,
            "padding": null,
            "right": null,
            "top": null,
            "visibility": null,
            "width": null
          }
        },
        "cf713daf4def475dabe0ff13322024b9": {
          "model_module": "@jupyter-widgets/base",
          "model_name": "LayoutModel",
          "model_module_version": "1.2.0",
          "state": {
            "_model_module": "@jupyter-widgets/base",
            "_model_module_version": "1.2.0",
            "_model_name": "LayoutModel",
            "_view_count": null,
            "_view_module": "@jupyter-widgets/base",
            "_view_module_version": "1.2.0",
            "_view_name": "LayoutView",
            "align_content": null,
            "align_items": null,
            "align_self": null,
            "border": null,
            "bottom": null,
            "display": null,
            "flex": null,
            "flex_flow": null,
            "grid_area": null,
            "grid_auto_columns": null,
            "grid_auto_flow": null,
            "grid_auto_rows": null,
            "grid_column": null,
            "grid_gap": null,
            "grid_row": null,
            "grid_template_areas": null,
            "grid_template_columns": null,
            "grid_template_rows": null,
            "height": null,
            "justify_content": null,
            "justify_items": null,
            "left": null,
            "margin": null,
            "max_height": null,
            "max_width": null,
            "min_height": null,
            "min_width": null,
            "object_fit": null,
            "object_position": null,
            "order": null,
            "overflow": null,
            "overflow_x": null,
            "overflow_y": null,
            "padding": null,
            "right": null,
            "top": null,
            "visibility": null,
            "width": null
          }
        },
        "cc5b8006cb4e4c31ae69ed8b3d84eb66": {
          "model_module": "@jupyter-widgets/controls",
          "model_name": "DescriptionStyleModel",
          "model_module_version": "1.5.0",
          "state": {
            "_model_module": "@jupyter-widgets/controls",
            "_model_module_version": "1.5.0",
            "_model_name": "DescriptionStyleModel",
            "_view_count": null,
            "_view_module": "@jupyter-widgets/base",
            "_view_module_version": "1.2.0",
            "_view_name": "StyleView",
            "description_width": ""
          }
        },
        "825c28f5090147f4a4b479bec85e4e63": {
          "model_module": "@jupyter-widgets/base",
          "model_name": "LayoutModel",
          "model_module_version": "1.2.0",
          "state": {
            "_model_module": "@jupyter-widgets/base",
            "_model_module_version": "1.2.0",
            "_model_name": "LayoutModel",
            "_view_count": null,
            "_view_module": "@jupyter-widgets/base",
            "_view_module_version": "1.2.0",
            "_view_name": "LayoutView",
            "align_content": null,
            "align_items": null,
            "align_self": null,
            "border": null,
            "bottom": null,
            "display": null,
            "flex": null,
            "flex_flow": null,
            "grid_area": null,
            "grid_auto_columns": null,
            "grid_auto_flow": null,
            "grid_auto_rows": null,
            "grid_column": null,
            "grid_gap": null,
            "grid_row": null,
            "grid_template_areas": null,
            "grid_template_columns": null,
            "grid_template_rows": null,
            "height": null,
            "justify_content": null,
            "justify_items": null,
            "left": null,
            "margin": null,
            "max_height": null,
            "max_width": null,
            "min_height": null,
            "min_width": null,
            "object_fit": null,
            "object_position": null,
            "order": null,
            "overflow": null,
            "overflow_x": null,
            "overflow_y": null,
            "padding": null,
            "right": null,
            "top": null,
            "visibility": null,
            "width": null
          }
        },
        "b94f94b74c7141ab9cb89b548cc3e195": {
          "model_module": "@jupyter-widgets/controls",
          "model_name": "ProgressStyleModel",
          "model_module_version": "1.5.0",
          "state": {
            "_model_module": "@jupyter-widgets/controls",
            "_model_module_version": "1.5.0",
            "_model_name": "ProgressStyleModel",
            "_view_count": null,
            "_view_module": "@jupyter-widgets/base",
            "_view_module_version": "1.2.0",
            "_view_name": "StyleView",
            "bar_color": null,
            "description_width": ""
          }
        },
        "bf6f5fcb22874e388f20764bcaee1417": {
          "model_module": "@jupyter-widgets/base",
          "model_name": "LayoutModel",
          "model_module_version": "1.2.0",
          "state": {
            "_model_module": "@jupyter-widgets/base",
            "_model_module_version": "1.2.0",
            "_model_name": "LayoutModel",
            "_view_count": null,
            "_view_module": "@jupyter-widgets/base",
            "_view_module_version": "1.2.0",
            "_view_name": "LayoutView",
            "align_content": null,
            "align_items": null,
            "align_self": null,
            "border": null,
            "bottom": null,
            "display": null,
            "flex": null,
            "flex_flow": null,
            "grid_area": null,
            "grid_auto_columns": null,
            "grid_auto_flow": null,
            "grid_auto_rows": null,
            "grid_column": null,
            "grid_gap": null,
            "grid_row": null,
            "grid_template_areas": null,
            "grid_template_columns": null,
            "grid_template_rows": null,
            "height": null,
            "justify_content": null,
            "justify_items": null,
            "left": null,
            "margin": null,
            "max_height": null,
            "max_width": null,
            "min_height": null,
            "min_width": null,
            "object_fit": null,
            "object_position": null,
            "order": null,
            "overflow": null,
            "overflow_x": null,
            "overflow_y": null,
            "padding": null,
            "right": null,
            "top": null,
            "visibility": null,
            "width": null
          }
        },
        "72b8956151344772ad3213a496295a84": {
          "model_module": "@jupyter-widgets/controls",
          "model_name": "DescriptionStyleModel",
          "model_module_version": "1.5.0",
          "state": {
            "_model_module": "@jupyter-widgets/controls",
            "_model_module_version": "1.5.0",
            "_model_name": "DescriptionStyleModel",
            "_view_count": null,
            "_view_module": "@jupyter-widgets/base",
            "_view_module_version": "1.2.0",
            "_view_name": "StyleView",
            "description_width": ""
          }
        },
        "86f5217a37d344caba75d1fa88b59529": {
          "model_module": "@jupyter-widgets/controls",
          "model_name": "HBoxModel",
          "model_module_version": "1.5.0",
          "state": {
            "_dom_classes": [],
            "_model_module": "@jupyter-widgets/controls",
            "_model_module_version": "1.5.0",
            "_model_name": "HBoxModel",
            "_view_count": null,
            "_view_module": "@jupyter-widgets/controls",
            "_view_module_version": "1.5.0",
            "_view_name": "HBoxView",
            "box_style": "",
            "children": [
              "IPY_MODEL_8001ec39b6c0427eaad261996804ca43",
              "IPY_MODEL_d4931fed8a07418695eeb2d695b88064",
              "IPY_MODEL_0230a3f9b7214c8696793430ea1fd1c0"
            ],
            "layout": "IPY_MODEL_c405e83c41694d45b5527409d8fe37c3"
          }
        },
        "8001ec39b6c0427eaad261996804ca43": {
          "model_module": "@jupyter-widgets/controls",
          "model_name": "HTMLModel",
          "model_module_version": "1.5.0",
          "state": {
            "_dom_classes": [],
            "_model_module": "@jupyter-widgets/controls",
            "_model_module_version": "1.5.0",
            "_model_name": "HTMLModel",
            "_view_count": null,
            "_view_module": "@jupyter-widgets/controls",
            "_view_module_version": "1.5.0",
            "_view_name": "HTMLView",
            "description": "",
            "description_tooltip": null,
            "layout": "IPY_MODEL_cb3a044bd1044785834c45fc5daa404e",
            "placeholder": "​",
            "style": "IPY_MODEL_1b46f048aa604cbb8f9ebbabf7dad4b6",
            "value": "Downloading (…)neration_config.json: 100%"
          }
        },
        "d4931fed8a07418695eeb2d695b88064": {
          "model_module": "@jupyter-widgets/controls",
          "model_name": "FloatProgressModel",
          "model_module_version": "1.5.0",
          "state": {
            "_dom_classes": [],
            "_model_module": "@jupyter-widgets/controls",
            "_model_module_version": "1.5.0",
            "_model_name": "FloatProgressModel",
            "_view_count": null,
            "_view_module": "@jupyter-widgets/controls",
            "_view_module_version": "1.5.0",
            "_view_name": "ProgressView",
            "bar_style": "success",
            "description": "",
            "description_tooltip": null,
            "layout": "IPY_MODEL_7f9c24149dec483eb6fec16e9a16042f",
            "max": 189,
            "min": 0,
            "orientation": "horizontal",
            "style": "IPY_MODEL_5e40d5b68a524616a6f83699a7ffdaa6",
            "value": 189
          }
        },
        "0230a3f9b7214c8696793430ea1fd1c0": {
          "model_module": "@jupyter-widgets/controls",
          "model_name": "HTMLModel",
          "model_module_version": "1.5.0",
          "state": {
            "_dom_classes": [],
            "_model_module": "@jupyter-widgets/controls",
            "_model_module_version": "1.5.0",
            "_model_name": "HTMLModel",
            "_view_count": null,
            "_view_module": "@jupyter-widgets/controls",
            "_view_module_version": "1.5.0",
            "_view_name": "HTMLView",
            "description": "",
            "description_tooltip": null,
            "layout": "IPY_MODEL_c0ba13c9f1db44c8a7549b161c2e35cc",
            "placeholder": "​",
            "style": "IPY_MODEL_1794c49721d8427a9818e10bab6eafdc",
            "value": " 189/189 [00:00&lt;00:00, 5.21kB/s]"
          }
        },
        "c405e83c41694d45b5527409d8fe37c3": {
          "model_module": "@jupyter-widgets/base",
          "model_name": "LayoutModel",
          "model_module_version": "1.2.0",
          "state": {
            "_model_module": "@jupyter-widgets/base",
            "_model_module_version": "1.2.0",
            "_model_name": "LayoutModel",
            "_view_count": null,
            "_view_module": "@jupyter-widgets/base",
            "_view_module_version": "1.2.0",
            "_view_name": "LayoutView",
            "align_content": null,
            "align_items": null,
            "align_self": null,
            "border": null,
            "bottom": null,
            "display": null,
            "flex": null,
            "flex_flow": null,
            "grid_area": null,
            "grid_auto_columns": null,
            "grid_auto_flow": null,
            "grid_auto_rows": null,
            "grid_column": null,
            "grid_gap": null,
            "grid_row": null,
            "grid_template_areas": null,
            "grid_template_columns": null,
            "grid_template_rows": null,
            "height": null,
            "justify_content": null,
            "justify_items": null,
            "left": null,
            "margin": null,
            "max_height": null,
            "max_width": null,
            "min_height": null,
            "min_width": null,
            "object_fit": null,
            "object_position": null,
            "order": null,
            "overflow": null,
            "overflow_x": null,
            "overflow_y": null,
            "padding": null,
            "right": null,
            "top": null,
            "visibility": null,
            "width": null
          }
        },
        "cb3a044bd1044785834c45fc5daa404e": {
          "model_module": "@jupyter-widgets/base",
          "model_name": "LayoutModel",
          "model_module_version": "1.2.0",
          "state": {
            "_model_module": "@jupyter-widgets/base",
            "_model_module_version": "1.2.0",
            "_model_name": "LayoutModel",
            "_view_count": null,
            "_view_module": "@jupyter-widgets/base",
            "_view_module_version": "1.2.0",
            "_view_name": "LayoutView",
            "align_content": null,
            "align_items": null,
            "align_self": null,
            "border": null,
            "bottom": null,
            "display": null,
            "flex": null,
            "flex_flow": null,
            "grid_area": null,
            "grid_auto_columns": null,
            "grid_auto_flow": null,
            "grid_auto_rows": null,
            "grid_column": null,
            "grid_gap": null,
            "grid_row": null,
            "grid_template_areas": null,
            "grid_template_columns": null,
            "grid_template_rows": null,
            "height": null,
            "justify_content": null,
            "justify_items": null,
            "left": null,
            "margin": null,
            "max_height": null,
            "max_width": null,
            "min_height": null,
            "min_width": null,
            "object_fit": null,
            "object_position": null,
            "order": null,
            "overflow": null,
            "overflow_x": null,
            "overflow_y": null,
            "padding": null,
            "right": null,
            "top": null,
            "visibility": null,
            "width": null
          }
        },
        "1b46f048aa604cbb8f9ebbabf7dad4b6": {
          "model_module": "@jupyter-widgets/controls",
          "model_name": "DescriptionStyleModel",
          "model_module_version": "1.5.0",
          "state": {
            "_model_module": "@jupyter-widgets/controls",
            "_model_module_version": "1.5.0",
            "_model_name": "DescriptionStyleModel",
            "_view_count": null,
            "_view_module": "@jupyter-widgets/base",
            "_view_module_version": "1.2.0",
            "_view_name": "StyleView",
            "description_width": ""
          }
        },
        "7f9c24149dec483eb6fec16e9a16042f": {
          "model_module": "@jupyter-widgets/base",
          "model_name": "LayoutModel",
          "model_module_version": "1.2.0",
          "state": {
            "_model_module": "@jupyter-widgets/base",
            "_model_module_version": "1.2.0",
            "_model_name": "LayoutModel",
            "_view_count": null,
            "_view_module": "@jupyter-widgets/base",
            "_view_module_version": "1.2.0",
            "_view_name": "LayoutView",
            "align_content": null,
            "align_items": null,
            "align_self": null,
            "border": null,
            "bottom": null,
            "display": null,
            "flex": null,
            "flex_flow": null,
            "grid_area": null,
            "grid_auto_columns": null,
            "grid_auto_flow": null,
            "grid_auto_rows": null,
            "grid_column": null,
            "grid_gap": null,
            "grid_row": null,
            "grid_template_areas": null,
            "grid_template_columns": null,
            "grid_template_rows": null,
            "height": null,
            "justify_content": null,
            "justify_items": null,
            "left": null,
            "margin": null,
            "max_height": null,
            "max_width": null,
            "min_height": null,
            "min_width": null,
            "object_fit": null,
            "object_position": null,
            "order": null,
            "overflow": null,
            "overflow_x": null,
            "overflow_y": null,
            "padding": null,
            "right": null,
            "top": null,
            "visibility": null,
            "width": null
          }
        },
        "5e40d5b68a524616a6f83699a7ffdaa6": {
          "model_module": "@jupyter-widgets/controls",
          "model_name": "ProgressStyleModel",
          "model_module_version": "1.5.0",
          "state": {
            "_model_module": "@jupyter-widgets/controls",
            "_model_module_version": "1.5.0",
            "_model_name": "ProgressStyleModel",
            "_view_count": null,
            "_view_module": "@jupyter-widgets/base",
            "_view_module_version": "1.2.0",
            "_view_name": "StyleView",
            "bar_color": null,
            "description_width": ""
          }
        },
        "c0ba13c9f1db44c8a7549b161c2e35cc": {
          "model_module": "@jupyter-widgets/base",
          "model_name": "LayoutModel",
          "model_module_version": "1.2.0",
          "state": {
            "_model_module": "@jupyter-widgets/base",
            "_model_module_version": "1.2.0",
            "_model_name": "LayoutModel",
            "_view_count": null,
            "_view_module": "@jupyter-widgets/base",
            "_view_module_version": "1.2.0",
            "_view_name": "LayoutView",
            "align_content": null,
            "align_items": null,
            "align_self": null,
            "border": null,
            "bottom": null,
            "display": null,
            "flex": null,
            "flex_flow": null,
            "grid_area": null,
            "grid_auto_columns": null,
            "grid_auto_flow": null,
            "grid_auto_rows": null,
            "grid_column": null,
            "grid_gap": null,
            "grid_row": null,
            "grid_template_areas": null,
            "grid_template_columns": null,
            "grid_template_rows": null,
            "height": null,
            "justify_content": null,
            "justify_items": null,
            "left": null,
            "margin": null,
            "max_height": null,
            "max_width": null,
            "min_height": null,
            "min_width": null,
            "object_fit": null,
            "object_position": null,
            "order": null,
            "overflow": null,
            "overflow_x": null,
            "overflow_y": null,
            "padding": null,
            "right": null,
            "top": null,
            "visibility": null,
            "width": null
          }
        },
        "1794c49721d8427a9818e10bab6eafdc": {
          "model_module": "@jupyter-widgets/controls",
          "model_name": "DescriptionStyleModel",
          "model_module_version": "1.5.0",
          "state": {
            "_model_module": "@jupyter-widgets/controls",
            "_model_module_version": "1.5.0",
            "_model_name": "DescriptionStyleModel",
            "_view_count": null,
            "_view_module": "@jupyter-widgets/base",
            "_view_module_version": "1.2.0",
            "_view_name": "StyleView",
            "description_width": ""
          }
        }
      }
    }
  },
  "cells": [
    {
      "cell_type": "markdown",
      "metadata": {
        "id": "view-in-github",
        "colab_type": "text"
      },
      "source": [
        "<a href=\"https://colab.research.google.com/github/Dimildizio/system_design/blob/main/NLLB_model.ipynb\" target=\"_parent\"><img src=\"https://colab.research.google.com/assets/colab-badge.svg\" alt=\"Open In Colab\"/></a>"
      ]
    },
    {
      "cell_type": "markdown",
      "source": [
        "# Install huggingface lib"
      ],
      "metadata": {
        "id": "71AG6SbS1rGh"
      }
    },
    {
      "cell_type": "code",
      "execution_count": 1,
      "metadata": {
        "id": "B8s9xcdCzT2P"
      },
      "outputs": [],
      "source": [
        "%%capture\n",
        "!pip install transformers rouge-score sacrebleu sentencepiece"
      ]
    },
    {
      "cell_type": "markdown",
      "source": [
        "## Imports"
      ],
      "metadata": {
        "id": "drLby9M31wae"
      }
    },
    {
      "cell_type": "code",
      "source": [
        "import nltk\n",
        "import pandas as pd\n",
        "import sentencepiece as sp_module\n",
        "import urllib.request\n",
        "import io\n",
        "\n",
        "from google.colab import files\n",
        "from transformers import AutoModelForSeq2SeqLM, AutoTokenizer\n",
        "from nltk.translate.bleu_score import corpus_bleu, sentence_bleu, SmoothingFunction\n",
        "from nltk.translate.meteor_score import meteor_score\n",
        "from rouge_score import rouge_scorer\n",
        "from typing import List\n"
      ],
      "metadata": {
        "id": "H6qx2zq2zeXB"
      },
      "execution_count": 33,
      "outputs": []
    },
    {
      "cell_type": "code",
      "source": [
        "nltk.download('wordnet')"
      ],
      "metadata": {
        "colab": {
          "base_uri": "https://localhost:8080/"
        },
        "id": "SJ6rSXT0BCNX",
        "outputId": "37758ccd-84f7-4222-e30a-569cc217c6a4"
      },
      "execution_count": 3,
      "outputs": [
        {
          "output_type": "stream",
          "name": "stderr",
          "text": [
            "[nltk_data] Downloading package wordnet to /root/nltk_data...\n"
          ]
        },
        {
          "output_type": "execute_result",
          "data": {
            "text/plain": [
              "True"
            ]
          },
          "metadata": {},
          "execution_count": 3
        }
      ]
    },
    {
      "cell_type": "markdown",
      "source": [
        "### Download data samples"
      ],
      "metadata": {
        "id": "eyXX-4Aix6ah"
      }
    },
    {
      "cell_type": "code",
      "source": [
        "%%capture\n",
        "!wget https://raw.githubusercontent.com/Dimildizio/system_design/main/data/gtrans.txt\n",
        "!wget https://raw.githubusercontent.com/Dimildizio/system_design/main/data/orig.txt\n",
        "!wget https://raw.githubusercontent.com/Dimildizio/system_design/main/data/reference.txt\n",
        "!wget https://raw.githubusercontent.com/Dimildizio/system_design/main/data/translation.txt"
      ],
      "metadata": {
        "id": "RtJnVsxtx49O"
      },
      "execution_count": 48,
      "outputs": []
    },
    {
      "cell_type": "markdown",
      "source": [
        "### Download sentencepiece vocab"
      ],
      "metadata": {
        "id": "lzXxZGpkyzlO"
      }
    },
    {
      "cell_type": "code",
      "source": [
        "%%capture\n",
        "!wget https://raw.githubusercontent.com/google/sentencepiece/master/data/botchan.txt"
      ],
      "metadata": {
        "id": "KoMEDBJeta6A"
      },
      "execution_count": null,
      "outputs": []
    },
    {
      "cell_type": "markdown",
      "source": [
        "## Specify huggingface access token to download model"
      ],
      "metadata": {
        "id": "l8r12BFV1kIO"
      }
    },
    {
      "cell_type": "code",
      "source": [
        "access_token ='' #Put your huggingface token here"
      ],
      "metadata": {
        "id": "6UYE-GFm1Ny8"
      },
      "execution_count": 7,
      "outputs": []
    },
    {
      "cell_type": "markdown",
      "source": [
        "## Download tokenization models for rus and english corpus"
      ],
      "metadata": {
        "id": "6LsAdMvE1x07"
      }
    },
    {
      "cell_type": "code",
      "source": [
        "eng_tokenizer = AutoTokenizer.from_pretrained(\n",
        "    \"facebook/nllb-200-distilled-600M\", token=access_token)\n",
        "rus_tokenizer = AutoTokenizer.from_pretrained(\n",
        "    \"facebook/nllb-200-distilled-600M\", src_lang=\"rus_Cyrl\", token=access_token)"
      ],
      "metadata": {
        "id": "2ryajZ7yz3Ju"
      },
      "execution_count": 8,
      "outputs": []
    },
    {
      "cell_type": "markdown",
      "source": [
        "# Trying the out-of-the-box model"
      ],
      "metadata": {
        "id": "6HXBxELh23BI"
      }
    },
    {
      "cell_type": "markdown",
      "source": [
        "## Create model"
      ],
      "metadata": {
        "id": "IIC-afo21_r7"
      }
    },
    {
      "cell_type": "code",
      "source": [
        "model = AutoModelForSeq2SeqLM.from_pretrained(\"facebook/nllb-200-distilled-600M\", token=access_token)"
      ],
      "metadata": {
        "colab": {
          "base_uri": "https://localhost:8080/",
          "height": 136,
          "referenced_widgets": [
            "854f299527be454395a3c6cb696ff7b3",
            "6a5a80df22df4503b456827c07d15292",
            "ae9ec5ac99d24508bdc890806d6ca579",
            "5c70f367ef8a4179a5c5cb0fd1529206",
            "c525d320a646461d876fa352e44da969",
            "cf713daf4def475dabe0ff13322024b9",
            "cc5b8006cb4e4c31ae69ed8b3d84eb66",
            "825c28f5090147f4a4b479bec85e4e63",
            "b94f94b74c7141ab9cb89b548cc3e195",
            "bf6f5fcb22874e388f20764bcaee1417",
            "72b8956151344772ad3213a496295a84",
            "86f5217a37d344caba75d1fa88b59529",
            "8001ec39b6c0427eaad261996804ca43",
            "d4931fed8a07418695eeb2d695b88064",
            "0230a3f9b7214c8696793430ea1fd1c0",
            "c405e83c41694d45b5527409d8fe37c3",
            "cb3a044bd1044785834c45fc5daa404e",
            "1b46f048aa604cbb8f9ebbabf7dad4b6",
            "7f9c24149dec483eb6fec16e9a16042f",
            "5e40d5b68a524616a6f83699a7ffdaa6",
            "c0ba13c9f1db44c8a7549b161c2e35cc",
            "1794c49721d8427a9818e10bab6eafdc"
          ]
        },
        "id": "EvULUr5w2BBc",
        "outputId": "e8c3c46f-ad04-426a-8a3d-df82d208c435"
      },
      "execution_count": 9,
      "outputs": [
        {
          "output_type": "display_data",
          "data": {
            "text/plain": [
              "Downloading pytorch_model.bin:   0%|          | 0.00/2.46G [00:00<?, ?B/s]"
            ],
            "application/vnd.jupyter.widget-view+json": {
              "version_major": 2,
              "version_minor": 0,
              "model_id": "854f299527be454395a3c6cb696ff7b3"
            }
          },
          "metadata": {}
        },
        {
          "output_type": "stream",
          "name": "stderr",
          "text": [
            "/usr/local/lib/python3.10/dist-packages/transformers/utils/hub.py:373: FutureWarning: The `use_auth_token` argument is deprecated and will be removed in v5 of Transformers.\n",
            "  warnings.warn(\n"
          ]
        },
        {
          "output_type": "display_data",
          "data": {
            "text/plain": [
              "Downloading (…)neration_config.json:   0%|          | 0.00/189 [00:00<?, ?B/s]"
            ],
            "application/vnd.jupyter.widget-view+json": {
              "version_major": 2,
              "version_minor": 0,
              "model_id": "86f5217a37d344caba75d1fa88b59529"
            }
          },
          "metadata": {}
        }
      ]
    },
    {
      "cell_type": "markdown",
      "source": [
        "## Create example data"
      ],
      "metadata": {
        "id": "2fRfcI2D2s-6"
      }
    },
    {
      "cell_type": "code",
      "source": [
        "doc = 'Шустрая бурая лисица прыгает через ленивого пса!'\n",
        "reference = 'The quick brown fox jumps over the lazy dog!'\n",
        "g_trans = 'The nimble brown fox jumps over the lazy dog!'"
      ],
      "metadata": {
        "id": "GuMCeuDq2Jsy"
      },
      "execution_count": 10,
      "outputs": []
    },
    {
      "cell_type": "markdown",
      "source": [
        "## Tokenize"
      ],
      "metadata": {
        "id": "HfgqQyUv20i_"
      }
    },
    {
      "cell_type": "code",
      "source": [
        "rus_tok = rus_tokenizer(doc, return_tensors='pt')"
      ],
      "metadata": {
        "id": "s6yqXKVq3CtP"
      },
      "execution_count": 11,
      "outputs": []
    },
    {
      "cell_type": "markdown",
      "source": [
        "### Sentence piece"
      ],
      "metadata": {
        "id": "vy8nrGtksIP0"
      }
    },
    {
      "cell_type": "code",
      "source": [
        "with open(\"botchan.txt\", \"rb\") as f:\n",
        "    text_data = f.read()"
      ],
      "metadata": {
        "id": "n1Gpt22muf35"
      },
      "execution_count": 76,
      "outputs": []
    },
    {
      "cell_type": "code",
      "source": [
        "model_sp = io.BytesIO()\n",
        "sp_vocab_size = 1000  #should consider enlarging\n",
        "\n",
        "sp_module.SentencePieceTrainer.train(sentence_iterator=io.BytesIO(text_data),\n",
        "                                     model_writer=model_sp,\n",
        "                                     vocab_size=sp_vocab_size)\n",
        "\n",
        "sp_tokenizer = sp_module.SentencePieceProcessor(model_proto=model_sp.getvalue())"
      ],
      "metadata": {
        "id": "ui8ddzzCst-r"
      },
      "execution_count": null,
      "outputs": []
    },
    {
      "cell_type": "code",
      "source": [
        "#with open('out.model', 'wb') as f:\n",
        "#   f.write(model_sp.getvalue())\n",
        "#sp_processor = sp_module.SentencePieceProcessor()\n",
        "#sp_processor.load('out.model')"
      ],
      "metadata": {
        "id": "7aHaeKEYvcng",
        "outputId": "4a4d6d15-ded5-4e31-c340-57251baf23a1",
        "colab": {
          "base_uri": "https://localhost:8080/"
        }
      },
      "execution_count": null,
      "outputs": [
        {
          "output_type": "execute_result",
          "data": {
            "text/plain": [
              "True"
            ]
          },
          "metadata": {},
          "execution_count": 43
        }
      ]
    },
    {
      "cell_type": "code",
      "source": [
        "sp_tokens = sp_tokenizer.encode_as_pieces(doc)"
      ],
      "metadata": {
        "id": "O0A6oyl5vmsY"
      },
      "execution_count": 72,
      "outputs": []
    },
    {
      "cell_type": "code",
      "source": [
        "sp_tokens"
      ],
      "metadata": {
        "id": "eUbw72AU4LDd",
        "outputId": "777d8dc7-a651-4019-fbd3-7fa986f0f547",
        "colab": {
          "base_uri": "https://localhost:8080/"
        }
      },
      "execution_count": 75,
      "outputs": [
        {
          "output_type": "execute_result",
          "data": {
            "text/plain": [
              "['▁',\n",
              " 'Шустрая',\n",
              " '▁',\n",
              " 'бурая',\n",
              " '▁',\n",
              " 'лисица',\n",
              " '▁',\n",
              " 'прыгает',\n",
              " '▁',\n",
              " 'через',\n",
              " '▁',\n",
              " 'ленивого',\n",
              " '▁',\n",
              " 'пса',\n",
              " '!']"
            ]
          },
          "metadata": {},
          "execution_count": 75
        }
      ]
    },
    {
      "cell_type": "markdown",
      "source": [
        "SentencePiece tokenizer has different funcs from AutoTokenizer\n",
        "\n",
        "gotta think how to implement it in a MT class or write a new class and make sp tokenizer and nllb model work together"
      ],
      "metadata": {
        "id": "5jnUrOfW4afb"
      }
    },
    {
      "cell_type": "markdown",
      "source": [
        "### Translate"
      ],
      "metadata": {
        "id": "6eFyfGlm5gVv"
      }
    },
    {
      "cell_type": "code",
      "source": [
        "translated_tokens = model.generate(\n",
        "    **rus_tok, forced_bos_token_id=rus_tokenizer.lang_code_to_id[\"eng_Latn\"], max_length=30)"
      ],
      "metadata": {
        "id": "u7PfGQXr3X-B"
      },
      "execution_count": 12,
      "outputs": []
    },
    {
      "cell_type": "code",
      "source": [
        "translated = rus_tokenizer.batch_decode(translated_tokens, skip_special_tokens=True)[0] #for multiple entries"
      ],
      "metadata": {
        "id": "5lCiHPP54n-K"
      },
      "execution_count": 13,
      "outputs": []
    },
    {
      "cell_type": "markdown",
      "source": [
        "# Metrics"
      ],
      "metadata": {
        "id": "zqszBjes9QVJ"
      }
    },
    {
      "cell_type": "markdown",
      "source": [
        "#### **BLEU** - BiLingual Evaluation Understudy\n",
        ">cares more about word overlap.\n",
        "\n",
        ">Precision is more important.\n",
        "\n",
        "> Uses n-grams for evaluation.\n",
        "\n",
        ">Normalizes scores for text length.\n",
        "\n",
        ">Typical for machine translation.\n",
        "\n",
        ">Rewards model for producing matching with reference words.\n",
        "\n",
        "> Penalizes longer sentences.\n",
        "\n",
        "\n",
        "#### **ROUGE** - Recall-Oriented Understudy for Gisting Evaluation\n",
        "\n",
        ">Focused on capturing context (Gisting Evaluation).\n",
        "\n",
        ">Recall is more important. (Recall-Oriented)\n",
        "\n",
        "> Uses longest common subseq for evaluation.\n",
        "\n",
        "> Doesn't normalize scores for text length.\n",
        "\n",
        ">Typical for text summarization.\n",
        "\n",
        ">Rewards model if in general generated text represents the contexts of reference.\n",
        "\n",
        "> Longer texts have advantage for recall.\n",
        "\n",
        "\n",
        "#### **METEOR** - Metrics for Evaluation of Translation with Explicit ORdering\n",
        "\n",
        "> Takes word order into account.\n",
        "\n",
        "> Uses stemming and other techniques for synonyms and paraphrasing\n",
        "\n",
        "> F1 score is more important.\n",
        "\n",
        "> Uses unigrams (1 word) along with synonyms with preloaded WordNet synonym dictionary.\n",
        "\n",
        "> More robust in variations\n",
        "\n",
        "> Doesn't penalize longer texts\n",
        "\n",
        "> Typical for machine translation and text summarization.\n",
        "\n",
        "> Again: more flexible due to use of synonyms (more complex than word overlap)\n",
        "\n",
        "\n",
        "#### **TER** - Translation Edit Rate\n",
        "\n",
        "> Represents the **number of edits** needed to get from the hypothesis to the reference sentence. Lower is better.\n",
        "\n",
        "> Basically quantifies the dissimilarity of the reference and translation\n",
        "\n",
        "> Possible changes include: deletions, substitution, insertion, shifting\n",
        "\n",
        "> Used in machine translation and texts summarization.\n",
        "\n",
        "> Not included in commonly-used libs like nltk\n",
        "\n",
        "> More complex\n",
        "\n",
        "> No percentage score. Difficult to interprete the result. 0 edits is the best.\n",
        "\n",
        "\n"
      ],
      "metadata": {
        "id": "0wQMx_4eNdHq"
      }
    },
    {
      "cell_type": "code",
      "source": [
        "Rouge = rouge_scorer.RougeScorer(['rouge1', 'rouge2', 'rougeL'], use_stemmer=True)"
      ],
      "metadata": {
        "id": "nWWX4ZK9AAqy"
      },
      "execution_count": 14,
      "outputs": []
    },
    {
      "cell_type": "code",
      "source": [
        "smoothing_zero_ngrams = SmoothingFunction()"
      ],
      "metadata": {
        "id": "Gw0G0gvKZjff"
      },
      "execution_count": 15,
      "outputs": []
    },
    {
      "cell_type": "code",
      "source": [
        "def round_perc(num: float) -> float:\n",
        "  return round(num*100, 2)\n",
        "\n",
        "def get_sent_bleu(sentence: str, reference: str=reference) -> float:\n",
        "  '''n=3 gram'''\n",
        "  score = sentence_bleu([reference.split()], sentence.split(),\n",
        "                        weights = (0.25, 0.5, 0.25), smoothing_function=smoothing_zero_ngrams.method1) #weights define the 'window size'\n",
        "  return round_perc(score)\n",
        "\n",
        "def get_bleu(sentence: str, reference: str=reference) -> float:\n",
        "  score = corpus_bleu([[reference.split()]], [sentence.split()],\n",
        "                      smoothing_function=smoothing_zero_ngrams.method1)\n",
        "  return round_perc(score)\n",
        "\n",
        "def get_meteor(sentence: str, reference: str=reference) -> float:\n",
        "  score = meteor_score([reference.split()], sentence.split())\n",
        "  return round_perc(score)\n",
        "\n",
        "def get_rouge(sentence: str, reference: str=reference) -> float:\n",
        "  '''rouge-1 unigrams, individual words\n",
        "     rouge-2 bigrams, word pairs\n",
        "     rouge-L longest sequence'''\n",
        "  scores = Rouge.score(reference, sentence)\n",
        "  idict = {key:{} for key in scores}\n",
        "  for key in scores:\n",
        "    idict[key]['precision'] = str(round_perc(scores[key].precision))+'%'\n",
        "    idict[key]['recall'] = str(round_perc(scores[key].recall))+'%'\n",
        "    idict[key]['f1'] = str(round_perc(scores[key].fmeasure))+'%'\n",
        "  rouge_dict = {key: idict[key] for key in idict}\n",
        "  return rouge_dict"
      ],
      "metadata": {
        "id": "RfRl2zTLbe6J"
      },
      "execution_count": 16,
      "outputs": []
    },
    {
      "cell_type": "code",
      "source": [
        "def ter(hypothesis, reference=reference):\n",
        "    n = len(reference)\n",
        "    m = len(hypothesis)\n",
        "\n",
        "    # Init matrix for dynamic programming\n",
        "    dp = [[0] * (m + 1) for _ in range(n + 1)]\n",
        "\n",
        "    # Init first row and column\n",
        "    for i in range(n + 1):\n",
        "        dp[i][0] = i\n",
        "    for j in range(m + 1):\n",
        "        dp[0][j] = j\n",
        "\n",
        "    # Fill in the DP matrix\n",
        "    for i in range(1, n + 1):\n",
        "        for j in range(1, m + 1):\n",
        "            cost = 0 if reference[i - 1] == hypothesis[j - 1] else 1\n",
        "            dp[i][j] = min(dp[i - 1][j] + 1, dp[i][j - 1] + 1, dp[i - 1][j - 1] + cost)\n",
        "    return dp[n][m]"
      ],
      "metadata": {
        "id": "VrCPZrjBSMWq"
      },
      "execution_count": 17,
      "outputs": []
    },
    {
      "cell_type": "markdown",
      "source": [
        "### Test metrics"
      ],
      "metadata": {
        "id": "HMnMp8FvJScJ"
      }
    },
    {
      "cell_type": "code",
      "source": [
        "def test_metrics(reference, list_of_trans):\n",
        "  #print(f'Reference: {reference}\\n\\n')\n",
        "  transname = ['google translate', 'machine translation']\n",
        "  for name, func in zip(['sent_bleu', 'corpus_bleu', 'meteor', 'rouge'],   #, 'ter'],\n",
        "                        [get_sent_bleu, get_bleu, get_meteor, get_rouge]): #, ter]):\n",
        "    print('Metrics:', name)\n",
        "    symbol = '%'# if name != 'ter' else ' edits'\n",
        "    for num in range(len(list_of_trans)):\n",
        "      score = func(list_of_trans[num], reference)\n",
        "      print(f\"Translation: {transname[num]}: {score}{symbol}\")\n",
        "    print()"
      ],
      "metadata": {
        "id": "kE3ZDAvQ7qic"
      },
      "execution_count": 18,
      "outputs": []
    },
    {
      "cell_type": "markdown",
      "source": [
        "## Upload files to compare"
      ],
      "metadata": {
        "id": "9SviQJK-HDNG"
      }
    },
    {
      "cell_type": "code",
      "source": [
        "def onefile(files):\n",
        "  to_compare = []\n",
        "  for filename in files:\n",
        "    with open (filename+'.txt') as f:\n",
        "      new = f.readlines()\n",
        "    to_compare.append(''.join(new).replace('\\n', '').replace('\\t', ''))\n",
        "  return to_compare"
      ],
      "metadata": {
        "id": "o3oVw54AHMQ1"
      },
      "execution_count": 19,
      "outputs": []
    },
    {
      "cell_type": "code",
      "source": [
        "filenames = ['orig', 'gtrans', 'translation', 'reference']\n",
        "orig, gtrans, trans, ref = onefile(filenames)"
      ],
      "metadata": {
        "id": "l6s3vhAAJJ47"
      },
      "execution_count": 20,
      "outputs": []
    },
    {
      "cell_type": "code",
      "source": [
        "test_metrics(ref, [gtrans, trans])"
      ],
      "metadata": {
        "colab": {
          "base_uri": "https://localhost:8080/"
        },
        "id": "BQBA0-Z6LCIB",
        "outputId": "59271dda-a169-4062-fa0b-1820d184a2cc"
      },
      "execution_count": 21,
      "outputs": [
        {
          "output_type": "stream",
          "name": "stdout",
          "text": [
            "Metrics: sent_bleu\n",
            "Translation: google translate: 44.58%\n",
            "Translation: machine translation: 31.81%\n",
            "\n",
            "Metrics: corpus_bleu\n",
            "Translation: google translate: 35.96%\n",
            "Translation: machine translation: 23.07%\n",
            "\n",
            "Metrics: meteor\n",
            "Translation: google translate: 51.87%\n",
            "Translation: machine translation: 40.99%\n",
            "\n",
            "Metrics: rouge\n",
            "Translation: google translate: {'rouge1': {'precision': '86.07%', 'recall': '86.93%', 'f1': '86.5%'}, 'rouge2': {'precision': '55.29%', 'recall': '55.84%', 'f1': '55.56%'}, 'rougeL': {'precision': '67.4%', 'recall': '68.07%', 'f1': '67.73%'}}%\n",
            "Translation: machine translation: {'rouge1': {'precision': '81.98%', 'recall': '79.26%', 'f1': '80.6%'}, 'rouge2': {'precision': '44.41%', 'recall': '42.93%', 'f1': '43.66%'}, 'rougeL': {'precision': '58.16%', 'recall': '56.23%', 'f1': '57.18%'}}%\n",
            "\n"
          ]
        }
      ]
    },
    {
      "cell_type": "markdown",
      "source": [
        "## Flow"
      ],
      "metadata": {
        "id": "_7xNCqyOBep_"
      }
    },
    {
      "cell_type": "code",
      "source": [
        "class MachineTranslation:\n",
        "\n",
        "  def __init__(self, model, tokenizer, target_lang='eng_Latn', sent_len=300):\n",
        "    self.model=model\n",
        "    self.tokenizer = tokenizer\n",
        "    self.to_lang = target_lang\n",
        "    self.sent_len = sent_len\n",
        "    self.metrics_dict = {'TER':ter,\n",
        "                        'BLEU corpus':get_bleu,\n",
        "                        'BLEU sentence': get_sent_bleu,\n",
        "                        'METEOR': get_meteor,\n",
        "                        'ROUGE': get_rouge\n",
        "                         }\n",
        "\n",
        "\n",
        "  def tokenize(self, sent: str):\n",
        "    '''Tokenize input sentence'''\n",
        "    return self.tokenizer(sent, return_tensors='pt')\n",
        "\n",
        "\n",
        "  def translate(self, inputs):\n",
        "    '''\n",
        "    Generate translation\n",
        "    '''\n",
        "    return self.model.generate(\n",
        "      **inputs, forced_bos_token_id=self.tokenizer.lang_code_to_id[self.to_lang],\n",
        "      max_length=self.sent_len)\n",
        "\n",
        "\n",
        "  def get_decoded(self, toks) -> list:\n",
        "    '''\n",
        "    Convert vect tokens into sentences\n",
        "    '''\n",
        "    return self.tokenizer.batch_decode(toks, skip_special_tokens=True)\n",
        "\n",
        "\n",
        "  def generate_metrics(self, translation: str, reference: str) -> None:\n",
        "    '''\n",
        "    Use BLEU metrics and compare translated sent to the best translation\n",
        "    '''\n",
        "    #print(f'Reference: {reference}\\nTranslation: {translation}\\n')\n",
        "    for name, func in self.metrics_dict.items():\n",
        "      score = func(translation, reference)\n",
        "      self.print_metrics(translation, name, score)\n",
        "\n",
        "\n",
        "  def print_metrics(self, translation, metrics_name, score):\n",
        "    perc_sign = ' edits' if metrics_name == 'TER' else '%'\n",
        "    print(f\"{metrics_name} score: {score}{perc_sign}\")\n",
        "\n",
        "\n",
        "  def process_sentence(self, sent: str):\n",
        "    '''\n",
        "    main process for translation\n",
        "    '''\n",
        "    tokens = self.tokenize(sent)\n",
        "    translated_tokens = self.translate(tokens)\n",
        "    result = self.get_decoded(translated_tokens)\n",
        "    return result\n",
        "\n",
        "\n",
        "  def infer(self, sent: str, reference: str) -> None:\n",
        "    ''' TO BE CHANGED\n",
        "    Compare first sentence of the doc to the reference\n",
        "    '''\n",
        "    translation = self.process_sentence(sent)\n",
        "    self.generate_metrics(translation[0].lower(), reference.lower())\n"
      ],
      "metadata": {
        "id": "hf6PAdtxBfpg"
      },
      "execution_count": 69,
      "outputs": []
    },
    {
      "cell_type": "code",
      "source": [
        "MT = MachineTranslation(model, rus_tokenizer)"
      ],
      "metadata": {
        "id": "FzXbJmbGDO52"
      },
      "execution_count": 70,
      "outputs": []
    },
    {
      "cell_type": "code",
      "source": [
        "MT.infer(doc, reference)"
      ],
      "metadata": {
        "colab": {
          "base_uri": "https://localhost:8080/"
        },
        "id": "00Zg8gjiGubU",
        "outputId": "78477173-b158-4554-e475-ef6b5d1d1971"
      },
      "execution_count": 56,
      "outputs": [
        {
          "output_type": "stream",
          "name": "stdout",
          "text": [
            "TER score: 12 edits\n",
            "BLEU corpus score: 35.49%\n",
            "BLEU sentence score: 46.71%\n",
            "METEOR score: 65.43%\n",
            "ROUGE score: {'rouge1': {'precision': '66.67%', 'recall': '66.67%', 'f1': '66.67%'}, 'rouge2': {'precision': '50.0%', 'recall': '50.0%', 'f1': '50.0%'}, 'rougeL': {'precision': '66.67%', 'recall': '66.67%', 'f1': '66.67%'}}%\n"
          ]
        }
      ]
    },
    {
      "cell_type": "markdown",
      "source": [
        "#### Sample from dataset"
      ],
      "metadata": {
        "id": "aCzGS5cDW51M"
      }
    },
    {
      "cell_type": "code",
      "source": [
        "a_few_sentences_rus = [\n",
        "'НЕЙТРОННАЯ РЕФЛЕКТОМЕТРИЯ В РОССИИ: ТЕКУЩЕЕ СОСТОЯНИЕ И ПЕРСПЕКТИВЫ',\n",
        "'В обзоре дано описание текущего состояния дел и перспектив развития в области нейтронной рефлектометрии на действующих и будущих нейтронных источниках Российской Федерации.',\n",
        "'В результате ввода в эксплуатацию новых инструментов на реакторах ИР-8 и ПИК число нейтронных рефлектометров в РФ должно удвоиться.',\n",
        "'В результате должен появиться набор инструментов, нацеленных на решение широкого круга задач в области физики, химии, биологии слоистых систем в интересах научного сообщества, а также для подготовки специалистов для дальнейшего развития и совершенствования данной методики.'\n",
        "]\n",
        "\n",
        "a_few_sentences_eng = [\n",
        "'Neutron Reflectometry in Russia: Current State and Prospects',\n",
        "'The review is devoted to the current state of affairs and prospects for development in the field of neutron reflectometry on the existing and future neutron sources in the Russian Federation.',\n",
        "'Due to the commissioning of new instruments at the IR-8 and PIK reactors, the number of neutron reflectometers in the Russian Federation should double.',\n",
        "'As a result, there must arise a set of instruments aimed at solving various problems in the fields of physics, chemistry, and biology of layered systems in the interests of the scientific community and to train experts for further development and improvement of this technique.'\n",
        "]\n",
        "\n",
        "pairs = list(zip(a_few_sentences_rus, a_few_sentences_eng))"
      ],
      "metadata": {
        "id": "gZ_9ZT_3W6EB"
      },
      "execution_count": 24,
      "outputs": []
    },
    {
      "cell_type": "code",
      "source": [
        "MT = MachineTranslation(model, rus_tokenizer)\n",
        "for pair in pairs:\n",
        "  rus, eng = [sent.lower() for sent in pair]\n",
        "  MT.infer(rus, eng)\n",
        "  print('\\n\\n')"
      ],
      "metadata": {
        "colab": {
          "base_uri": "https://localhost:8080/"
        },
        "id": "eaA-qysdXEwU",
        "outputId": "7950abdf-85b9-4efb-f38c-1e8481c50932"
      },
      "execution_count": 20,
      "outputs": [
        {
          "output_type": "stream",
          "name": "stdout",
          "text": [
            "TER score: 2 edits\n",
            "BLEU corpus score: 70.71%\n",
            "BLEU sentence score: 73.86%\n",
            "METEOR score: 86.48%\n",
            "ROUGE score: {'rouge1': {'precision': '87.5%', 'recall': '87.5%', 'f1': '87.5%'}, 'rouge2': {'precision': '71.43%', 'recall': '71.43%', 'f1': '71.43%'}, 'rougeL': {'precision': '87.5%', 'recall': '87.5%', 'f1': '87.5%'}}%\n",
            "\n",
            "\n",
            "\n",
            "TER score: 45 edits\n",
            "BLEU corpus score: 40.7%\n",
            "BLEU sentence score: 50.2%\n",
            "METEOR score: 64.53%\n",
            "ROUGE score: {'rouge1': {'precision': '82.14%', 'recall': '74.19%', 'f1': '77.97%'}, 'rouge2': {'precision': '55.56%', 'recall': '50.0%', 'f1': '52.63%'}, 'rougeL': {'precision': '78.57%', 'recall': '70.97%', 'f1': '74.58%'}}%\n",
            "\n",
            "\n",
            "\n",
            "TER score: 38 edits\n",
            "BLEU corpus score: 38.79%\n",
            "BLEU sentence score: 46.18%\n",
            "METEOR score: 59.32%\n",
            "ROUGE score: {'rouge1': {'precision': '64.0%', 'recall': '64.0%', 'f1': '64.0%'}, 'rouge2': {'precision': '50.0%', 'recall': '50.0%', 'f1': '50.0%'}, 'rougeL': {'precision': '64.0%', 'recall': '64.0%', 'f1': '64.0%'}}%\n",
            "\n",
            "\n",
            "\n",
            "TER score: 127 edits\n",
            "BLEU corpus score: 6.66%\n",
            "BLEU sentence score: 20.25%\n",
            "METEOR score: 55.6%\n",
            "ROUGE score: {'rouge1': {'precision': '73.81%', 'recall': '68.89%', 'f1': '71.26%'}, 'rouge2': {'precision': '31.71%', 'recall': '29.55%', 'f1': '30.59%'}, 'rougeL': {'precision': '57.14%', 'recall': '53.33%', 'f1': '55.17%'}}%\n",
            "\n",
            "\n",
            "\n"
          ]
        }
      ]
    },
    {
      "cell_type": "markdown",
      "source": [
        "### Try using SentencePiece as tokenizer"
      ],
      "metadata": {
        "id": "kaZo7Rdh5AiK"
      }
    },
    {
      "cell_type": "code",
      "source": [
        "#some OOP code here for sp tokenizer and nllb model\n"
      ],
      "metadata": {
        "id": "5V1eiF3w5EpX"
      },
      "execution_count": null,
      "outputs": []
    },
    {
      "cell_type": "markdown",
      "source": [
        "### Try using a paragraph as a single entry"
      ],
      "metadata": {
        "id": "4IvqRH88hPfq"
      }
    },
    {
      "cell_type": "code",
      "source": [
        "class TextMachineTranslation(MachineTranslation):\n",
        "  def process_text(self, text: List[str]) -> str:\n",
        "    '''\n",
        "    main process for multi-sentence translation\n",
        "    '''\n",
        "    tokens = [self.tokenize(sent) for sent in text]\n",
        "    translated_tokens = [self.translate(token) for token in tokens]\n",
        "    translations = [self.get_decoded(toks)[0] for toks in translated_tokens]\n",
        "    result = ' '.join(translations)\n",
        "    return result\n",
        "\n",
        "\n",
        "  def infer(self, text: List[str], reference: List[str]) -> None:\n",
        "    ''' TO BE CHANGED\n",
        "    Compare the whole text to the reference\n",
        "    '''\n",
        "    translation = self.process_text(text)\n",
        "    reference = ' '.join(reference)\n",
        "    self.generate_metrics(translation.lower(), reference.lower())"
      ],
      "metadata": {
        "id": "TkSuUxzWha0k"
      },
      "execution_count": 21,
      "outputs": []
    },
    {
      "cell_type": "code",
      "source": [
        "TMT = TextMachineTranslation(model, rus_tokenizer)\n",
        "TMT.infer(a_few_sentences_rus, a_few_sentences_eng)"
      ],
      "metadata": {
        "colab": {
          "base_uri": "https://localhost:8080/"
        },
        "id": "Y98aJ6_jiiZH",
        "outputId": "2588d126-6c8a-4556-9639-b4e09394fa27"
      },
      "execution_count": 22,
      "outputs": [
        {
          "output_type": "stream",
          "name": "stdout",
          "text": [
            "TER score: 200 edits\n",
            "BLEU corpus score: 37.95%\n",
            "BLEU sentence score: 45.9%\n",
            "METEOR score: 53.49%\n",
            "ROUGE score: {'rouge1': {'precision': '80.95%', 'recall': '77.98%', 'f1': '79.44%'}, 'rouge2': {'precision': '51.92%', 'recall': '50.0%', 'f1': '50.94%'}, 'rougeL': {'precision': '68.57%', 'recall': '66.06%', 'f1': '67.29%'}}%\n"
          ]
        }
      ]
    },
    {
      "cell_type": "markdown",
      "source": [
        "### Try it on a whole article"
      ],
      "metadata": {
        "id": "zBFZKzMknlHB"
      }
    },
    {
      "cell_type": "markdown",
      "source": [
        "No ETL so far, no DB, just plain pd.read"
      ],
      "metadata": {
        "id": "fZPS-eSOqUNV"
      }
    },
    {
      "cell_type": "code",
      "source": [
        "filename = 'Krist_sample_data.xlsx'\n",
        "sheet_name = 'Krist2202003Borisov'\n",
        "df = pd.read_excel(filename, sheet_name=sheet_name).dropna(subset=['ru'])"
      ],
      "metadata": {
        "id": "7Kl7GBkmkslU"
      },
      "execution_count": 79,
      "outputs": []
    },
    {
      "cell_type": "code",
      "source": [
        "orig_text = df['ru'].tolist()\n",
        "ref_text = df['en'].tolist()"
      ],
      "metadata": {
        "id": "g9IL3-HBmuT6"
      },
      "execution_count": 25,
      "outputs": []
    },
    {
      "cell_type": "code",
      "source": [
        "txt_model = TextMachineTranslation(model, rus_tokenizer)\n",
        "#txt_model.infer(orig_text, ref_text)"
      ],
      "metadata": {
        "id": "SC_gEdTxyaxg"
      },
      "execution_count": 26,
      "outputs": []
    },
    {
      "cell_type": "code",
      "source": [
        "%%time\n",
        "text_translated = txt_model.process_text(orig_text)"
      ],
      "metadata": {
        "id": "6GdpE0LQr6sV",
        "outputId": "95a50072-c829-4091-8c5d-309f05eaf74f",
        "colab": {
          "base_uri": "https://localhost:8080/"
        }
      },
      "execution_count": 27,
      "outputs": [
        {
          "output_type": "stream",
          "name": "stdout",
          "text": [
            "CPU times: user 14min 56s, sys: 217 ms, total: 14min 56s\n",
            "Wall time: 15min 10s\n"
          ]
        }
      ]
    },
    {
      "cell_type": "code",
      "source": [
        "filepath = 'translation.txt'\n",
        "with open(filepath, 'w') as f:\n",
        "  f.write(text_translated)\n",
        "\n",
        "files.download(filepath)"
      ],
      "metadata": {
        "id": "DUdjvq919G_B",
        "colab": {
          "base_uri": "https://localhost:8080/",
          "height": 17
        },
        "outputId": "6471a056-7761-4e2e-bcdd-d81cccd41ef5"
      },
      "execution_count": 28,
      "outputs": [
        {
          "output_type": "display_data",
          "data": {
            "text/plain": [
              "<IPython.core.display.Javascript object>"
            ],
            "application/javascript": [
              "\n",
              "    async function download(id, filename, size) {\n",
              "      if (!google.colab.kernel.accessAllowed) {\n",
              "        return;\n",
              "      }\n",
              "      const div = document.createElement('div');\n",
              "      const label = document.createElement('label');\n",
              "      label.textContent = `Downloading \"${filename}\": `;\n",
              "      div.appendChild(label);\n",
              "      const progress = document.createElement('progress');\n",
              "      progress.max = size;\n",
              "      div.appendChild(progress);\n",
              "      document.body.appendChild(div);\n",
              "\n",
              "      const buffers = [];\n",
              "      let downloaded = 0;\n",
              "\n",
              "      const channel = await google.colab.kernel.comms.open(id);\n",
              "      // Send a message to notify the kernel that we're ready.\n",
              "      channel.send({})\n",
              "\n",
              "      for await (const message of channel.messages) {\n",
              "        // Send a message to notify the kernel that we're ready.\n",
              "        channel.send({})\n",
              "        if (message.buffers) {\n",
              "          for (const buffer of message.buffers) {\n",
              "            buffers.push(buffer);\n",
              "            downloaded += buffer.byteLength;\n",
              "            progress.value = downloaded;\n",
              "          }\n",
              "        }\n",
              "      }\n",
              "      const blob = new Blob(buffers, {type: 'application/binary'});\n",
              "      const a = document.createElement('a');\n",
              "      a.href = window.URL.createObjectURL(blob);\n",
              "      a.download = filename;\n",
              "      div.appendChild(a);\n",
              "      a.click();\n",
              "      div.remove();\n",
              "    }\n",
              "  "
            ]
          },
          "metadata": {}
        },
        {
          "output_type": "display_data",
          "data": {
            "text/plain": [
              "<IPython.core.display.Javascript object>"
            ],
            "application/javascript": [
              "download(\"download_658dc839-dca6-4432-a78b-5795710e784d\", \"translation.txt\", 17471)"
            ]
          },
          "metadata": {}
        }
      ]
    },
    {
      "cell_type": "code",
      "source": [],
      "metadata": {
        "id": "lnYz0COaq40i"
      },
      "execution_count": null,
      "outputs": []
    },
    {
      "cell_type": "markdown",
      "source": [
        "## Issues\n",
        "\n",
        "1. Choose proper metrics\n",
        "\n",
        "2. Evaluate metrics not for each sentence but for the whole text. I.e. cumulative metric or take average.\n"
      ],
      "metadata": {
        "id": "JFGU9pjecAO8"
      }
    }
  ]
}