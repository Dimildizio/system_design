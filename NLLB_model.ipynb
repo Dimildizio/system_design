{
  "nbformat": 4,
  "nbformat_minor": 0,
  "metadata": {
    "colab": {
      "provenance": [],
      "authorship_tag": "ABX9TyMswP/9ccLD5X07FTCSe/56",
      "include_colab_link": true
    },
    "kernelspec": {
      "name": "python3",
      "display_name": "Python 3"
    },
    "language_info": {
      "name": "python"
    },
    "widgets": {
      "application/vnd.jupyter.widget-state+json": {
        "894fc23e7e984d0d933bd07b213470bd": {
          "model_module": "@jupyter-widgets/controls",
          "model_name": "HBoxModel",
          "model_module_version": "1.5.0",
          "state": {
            "_dom_classes": [],
            "_model_module": "@jupyter-widgets/controls",
            "_model_module_version": "1.5.0",
            "_model_name": "HBoxModel",
            "_view_count": null,
            "_view_module": "@jupyter-widgets/controls",
            "_view_module_version": "1.5.0",
            "_view_name": "HBoxView",
            "box_style": "",
            "children": [
              "IPY_MODEL_7783d8df8d54423c8a63bc63523815c7",
              "IPY_MODEL_7dc5dc0922594719b5a011e8212ce6d2",
              "IPY_MODEL_dc643aa0679c4d01a53c7ed3b4bfc81f"
            ],
            "layout": "IPY_MODEL_48296f8c2b7b477fbb40d3dac7d3e048"
          }
        },
        "7783d8df8d54423c8a63bc63523815c7": {
          "model_module": "@jupyter-widgets/controls",
          "model_name": "HTMLModel",
          "model_module_version": "1.5.0",
          "state": {
            "_dom_classes": [],
            "_model_module": "@jupyter-widgets/controls",
            "_model_module_version": "1.5.0",
            "_model_name": "HTMLModel",
            "_view_count": null,
            "_view_module": "@jupyter-widgets/controls",
            "_view_module_version": "1.5.0",
            "_view_name": "HTMLView",
            "description": "",
            "description_tooltip": null,
            "layout": "IPY_MODEL_6f7e4b4a4ad140b8b16d3af6d2ddafdb",
            "placeholder": "​",
            "style": "IPY_MODEL_9255be6c8d494c5a999338dfb2f3e425",
            "value": "Downloading (…)okenizer_config.json: 100%"
          }
        },
        "7dc5dc0922594719b5a011e8212ce6d2": {
          "model_module": "@jupyter-widgets/controls",
          "model_name": "FloatProgressModel",
          "model_module_version": "1.5.0",
          "state": {
            "_dom_classes": [],
            "_model_module": "@jupyter-widgets/controls",
            "_model_module_version": "1.5.0",
            "_model_name": "FloatProgressModel",
            "_view_count": null,
            "_view_module": "@jupyter-widgets/controls",
            "_view_module_version": "1.5.0",
            "_view_name": "ProgressView",
            "bar_style": "success",
            "description": "",
            "description_tooltip": null,
            "layout": "IPY_MODEL_e56f6d078f204dd5a539666d0a0d727d",
            "max": 564,
            "min": 0,
            "orientation": "horizontal",
            "style": "IPY_MODEL_37b9ad2c1a92449eb0e3fcca0546e0f5",
            "value": 564
          }
        },
        "dc643aa0679c4d01a53c7ed3b4bfc81f": {
          "model_module": "@jupyter-widgets/controls",
          "model_name": "HTMLModel",
          "model_module_version": "1.5.0",
          "state": {
            "_dom_classes": [],
            "_model_module": "@jupyter-widgets/controls",
            "_model_module_version": "1.5.0",
            "_model_name": "HTMLModel",
            "_view_count": null,
            "_view_module": "@jupyter-widgets/controls",
            "_view_module_version": "1.5.0",
            "_view_name": "HTMLView",
            "description": "",
            "description_tooltip": null,
            "layout": "IPY_MODEL_702bcf53016c44088dace12f207a9a62",
            "placeholder": "​",
            "style": "IPY_MODEL_ad5632f9d8ad417ca2728c911da6d6b7",
            "value": " 564/564 [00:00&lt;00:00, 21.7kB/s]"
          }
        },
        "48296f8c2b7b477fbb40d3dac7d3e048": {
          "model_module": "@jupyter-widgets/base",
          "model_name": "LayoutModel",
          "model_module_version": "1.2.0",
          "state": {
            "_model_module": "@jupyter-widgets/base",
            "_model_module_version": "1.2.0",
            "_model_name": "LayoutModel",
            "_view_count": null,
            "_view_module": "@jupyter-widgets/base",
            "_view_module_version": "1.2.0",
            "_view_name": "LayoutView",
            "align_content": null,
            "align_items": null,
            "align_self": null,
            "border": null,
            "bottom": null,
            "display": null,
            "flex": null,
            "flex_flow": null,
            "grid_area": null,
            "grid_auto_columns": null,
            "grid_auto_flow": null,
            "grid_auto_rows": null,
            "grid_column": null,
            "grid_gap": null,
            "grid_row": null,
            "grid_template_areas": null,
            "grid_template_columns": null,
            "grid_template_rows": null,
            "height": null,
            "justify_content": null,
            "justify_items": null,
            "left": null,
            "margin": null,
            "max_height": null,
            "max_width": null,
            "min_height": null,
            "min_width": null,
            "object_fit": null,
            "object_position": null,
            "order": null,
            "overflow": null,
            "overflow_x": null,
            "overflow_y": null,
            "padding": null,
            "right": null,
            "top": null,
            "visibility": null,
            "width": null
          }
        },
        "6f7e4b4a4ad140b8b16d3af6d2ddafdb": {
          "model_module": "@jupyter-widgets/base",
          "model_name": "LayoutModel",
          "model_module_version": "1.2.0",
          "state": {
            "_model_module": "@jupyter-widgets/base",
            "_model_module_version": "1.2.0",
            "_model_name": "LayoutModel",
            "_view_count": null,
            "_view_module": "@jupyter-widgets/base",
            "_view_module_version": "1.2.0",
            "_view_name": "LayoutView",
            "align_content": null,
            "align_items": null,
            "align_self": null,
            "border": null,
            "bottom": null,
            "display": null,
            "flex": null,
            "flex_flow": null,
            "grid_area": null,
            "grid_auto_columns": null,
            "grid_auto_flow": null,
            "grid_auto_rows": null,
            "grid_column": null,
            "grid_gap": null,
            "grid_row": null,
            "grid_template_areas": null,
            "grid_template_columns": null,
            "grid_template_rows": null,
            "height": null,
            "justify_content": null,
            "justify_items": null,
            "left": null,
            "margin": null,
            "max_height": null,
            "max_width": null,
            "min_height": null,
            "min_width": null,
            "object_fit": null,
            "object_position": null,
            "order": null,
            "overflow": null,
            "overflow_x": null,
            "overflow_y": null,
            "padding": null,
            "right": null,
            "top": null,
            "visibility": null,
            "width": null
          }
        },
        "9255be6c8d494c5a999338dfb2f3e425": {
          "model_module": "@jupyter-widgets/controls",
          "model_name": "DescriptionStyleModel",
          "model_module_version": "1.5.0",
          "state": {
            "_model_module": "@jupyter-widgets/controls",
            "_model_module_version": "1.5.0",
            "_model_name": "DescriptionStyleModel",
            "_view_count": null,
            "_view_module": "@jupyter-widgets/base",
            "_view_module_version": "1.2.0",
            "_view_name": "StyleView",
            "description_width": ""
          }
        },
        "e56f6d078f204dd5a539666d0a0d727d": {
          "model_module": "@jupyter-widgets/base",
          "model_name": "LayoutModel",
          "model_module_version": "1.2.0",
          "state": {
            "_model_module": "@jupyter-widgets/base",
            "_model_module_version": "1.2.0",
            "_model_name": "LayoutModel",
            "_view_count": null,
            "_view_module": "@jupyter-widgets/base",
            "_view_module_version": "1.2.0",
            "_view_name": "LayoutView",
            "align_content": null,
            "align_items": null,
            "align_self": null,
            "border": null,
            "bottom": null,
            "display": null,
            "flex": null,
            "flex_flow": null,
            "grid_area": null,
            "grid_auto_columns": null,
            "grid_auto_flow": null,
            "grid_auto_rows": null,
            "grid_column": null,
            "grid_gap": null,
            "grid_row": null,
            "grid_template_areas": null,
            "grid_template_columns": null,
            "grid_template_rows": null,
            "height": null,
            "justify_content": null,
            "justify_items": null,
            "left": null,
            "margin": null,
            "max_height": null,
            "max_width": null,
            "min_height": null,
            "min_width": null,
            "object_fit": null,
            "object_position": null,
            "order": null,
            "overflow": null,
            "overflow_x": null,
            "overflow_y": null,
            "padding": null,
            "right": null,
            "top": null,
            "visibility": null,
            "width": null
          }
        },
        "37b9ad2c1a92449eb0e3fcca0546e0f5": {
          "model_module": "@jupyter-widgets/controls",
          "model_name": "ProgressStyleModel",
          "model_module_version": "1.5.0",
          "state": {
            "_model_module": "@jupyter-widgets/controls",
            "_model_module_version": "1.5.0",
            "_model_name": "ProgressStyleModel",
            "_view_count": null,
            "_view_module": "@jupyter-widgets/base",
            "_view_module_version": "1.2.0",
            "_view_name": "StyleView",
            "bar_color": null,
            "description_width": ""
          }
        },
        "702bcf53016c44088dace12f207a9a62": {
          "model_module": "@jupyter-widgets/base",
          "model_name": "LayoutModel",
          "model_module_version": "1.2.0",
          "state": {
            "_model_module": "@jupyter-widgets/base",
            "_model_module_version": "1.2.0",
            "_model_name": "LayoutModel",
            "_view_count": null,
            "_view_module": "@jupyter-widgets/base",
            "_view_module_version": "1.2.0",
            "_view_name": "LayoutView",
            "align_content": null,
            "align_items": null,
            "align_self": null,
            "border": null,
            "bottom": null,
            "display": null,
            "flex": null,
            "flex_flow": null,
            "grid_area": null,
            "grid_auto_columns": null,
            "grid_auto_flow": null,
            "grid_auto_rows": null,
            "grid_column": null,
            "grid_gap": null,
            "grid_row": null,
            "grid_template_areas": null,
            "grid_template_columns": null,
            "grid_template_rows": null,
            "height": null,
            "justify_content": null,
            "justify_items": null,
            "left": null,
            "margin": null,
            "max_height": null,
            "max_width": null,
            "min_height": null,
            "min_width": null,
            "object_fit": null,
            "object_position": null,
            "order": null,
            "overflow": null,
            "overflow_x": null,
            "overflow_y": null,
            "padding": null,
            "right": null,
            "top": null,
            "visibility": null,
            "width": null
          }
        },
        "ad5632f9d8ad417ca2728c911da6d6b7": {
          "model_module": "@jupyter-widgets/controls",
          "model_name": "DescriptionStyleModel",
          "model_module_version": "1.5.0",
          "state": {
            "_model_module": "@jupyter-widgets/controls",
            "_model_module_version": "1.5.0",
            "_model_name": "DescriptionStyleModel",
            "_view_count": null,
            "_view_module": "@jupyter-widgets/base",
            "_view_module_version": "1.2.0",
            "_view_name": "StyleView",
            "description_width": ""
          }
        },
        "9608b654efdd476483a0a7fbc29cb555": {
          "model_module": "@jupyter-widgets/controls",
          "model_name": "HBoxModel",
          "model_module_version": "1.5.0",
          "state": {
            "_dom_classes": [],
            "_model_module": "@jupyter-widgets/controls",
            "_model_module_version": "1.5.0",
            "_model_name": "HBoxModel",
            "_view_count": null,
            "_view_module": "@jupyter-widgets/controls",
            "_view_module_version": "1.5.0",
            "_view_name": "HBoxView",
            "box_style": "",
            "children": [
              "IPY_MODEL_fbb08155934c4fb7be0c5b0532c700a6",
              "IPY_MODEL_dd3e3db785ab42909607cd37607a4070",
              "IPY_MODEL_4f9ae3b171cc4c67a188095299256ebc"
            ],
            "layout": "IPY_MODEL_9d5ec079157646e8b628cf68a7afa028"
          }
        },
        "fbb08155934c4fb7be0c5b0532c700a6": {
          "model_module": "@jupyter-widgets/controls",
          "model_name": "HTMLModel",
          "model_module_version": "1.5.0",
          "state": {
            "_dom_classes": [],
            "_model_module": "@jupyter-widgets/controls",
            "_model_module_version": "1.5.0",
            "_model_name": "HTMLModel",
            "_view_count": null,
            "_view_module": "@jupyter-widgets/controls",
            "_view_module_version": "1.5.0",
            "_view_name": "HTMLView",
            "description": "",
            "description_tooltip": null,
            "layout": "IPY_MODEL_bf0968a17caf4c36a1c86a4492eb6b42",
            "placeholder": "​",
            "style": "IPY_MODEL_b243b5d49c1146d9b395d86cdc0f9e10",
            "value": "Downloading (…)tencepiece.bpe.model: 100%"
          }
        },
        "dd3e3db785ab42909607cd37607a4070": {
          "model_module": "@jupyter-widgets/controls",
          "model_name": "FloatProgressModel",
          "model_module_version": "1.5.0",
          "state": {
            "_dom_classes": [],
            "_model_module": "@jupyter-widgets/controls",
            "_model_module_version": "1.5.0",
            "_model_name": "FloatProgressModel",
            "_view_count": null,
            "_view_module": "@jupyter-widgets/controls",
            "_view_module_version": "1.5.0",
            "_view_name": "ProgressView",
            "bar_style": "success",
            "description": "",
            "description_tooltip": null,
            "layout": "IPY_MODEL_5a84bc93b6c64a139d8c31b70185d274",
            "max": 4852054,
            "min": 0,
            "orientation": "horizontal",
            "style": "IPY_MODEL_3a61e821aea04ad287758b50f98e78e1",
            "value": 4852054
          }
        },
        "4f9ae3b171cc4c67a188095299256ebc": {
          "model_module": "@jupyter-widgets/controls",
          "model_name": "HTMLModel",
          "model_module_version": "1.5.0",
          "state": {
            "_dom_classes": [],
            "_model_module": "@jupyter-widgets/controls",
            "_model_module_version": "1.5.0",
            "_model_name": "HTMLModel",
            "_view_count": null,
            "_view_module": "@jupyter-widgets/controls",
            "_view_module_version": "1.5.0",
            "_view_name": "HTMLView",
            "description": "",
            "description_tooltip": null,
            "layout": "IPY_MODEL_08bdb79cc06e44229818033395fa5b93",
            "placeholder": "​",
            "style": "IPY_MODEL_cb9a527229fd46d0837ca2602976ca39",
            "value": " 4.85M/4.85M [00:00&lt;00:00, 24.0MB/s]"
          }
        },
        "9d5ec079157646e8b628cf68a7afa028": {
          "model_module": "@jupyter-widgets/base",
          "model_name": "LayoutModel",
          "model_module_version": "1.2.0",
          "state": {
            "_model_module": "@jupyter-widgets/base",
            "_model_module_version": "1.2.0",
            "_model_name": "LayoutModel",
            "_view_count": null,
            "_view_module": "@jupyter-widgets/base",
            "_view_module_version": "1.2.0",
            "_view_name": "LayoutView",
            "align_content": null,
            "align_items": null,
            "align_self": null,
            "border": null,
            "bottom": null,
            "display": null,
            "flex": null,
            "flex_flow": null,
            "grid_area": null,
            "grid_auto_columns": null,
            "grid_auto_flow": null,
            "grid_auto_rows": null,
            "grid_column": null,
            "grid_gap": null,
            "grid_row": null,
            "grid_template_areas": null,
            "grid_template_columns": null,
            "grid_template_rows": null,
            "height": null,
            "justify_content": null,
            "justify_items": null,
            "left": null,
            "margin": null,
            "max_height": null,
            "max_width": null,
            "min_height": null,
            "min_width": null,
            "object_fit": null,
            "object_position": null,
            "order": null,
            "overflow": null,
            "overflow_x": null,
            "overflow_y": null,
            "padding": null,
            "right": null,
            "top": null,
            "visibility": null,
            "width": null
          }
        },
        "bf0968a17caf4c36a1c86a4492eb6b42": {
          "model_module": "@jupyter-widgets/base",
          "model_name": "LayoutModel",
          "model_module_version": "1.2.0",
          "state": {
            "_model_module": "@jupyter-widgets/base",
            "_model_module_version": "1.2.0",
            "_model_name": "LayoutModel",
            "_view_count": null,
            "_view_module": "@jupyter-widgets/base",
            "_view_module_version": "1.2.0",
            "_view_name": "LayoutView",
            "align_content": null,
            "align_items": null,
            "align_self": null,
            "border": null,
            "bottom": null,
            "display": null,
            "flex": null,
            "flex_flow": null,
            "grid_area": null,
            "grid_auto_columns": null,
            "grid_auto_flow": null,
            "grid_auto_rows": null,
            "grid_column": null,
            "grid_gap": null,
            "grid_row": null,
            "grid_template_areas": null,
            "grid_template_columns": null,
            "grid_template_rows": null,
            "height": null,
            "justify_content": null,
            "justify_items": null,
            "left": null,
            "margin": null,
            "max_height": null,
            "max_width": null,
            "min_height": null,
            "min_width": null,
            "object_fit": null,
            "object_position": null,
            "order": null,
            "overflow": null,
            "overflow_x": null,
            "overflow_y": null,
            "padding": null,
            "right": null,
            "top": null,
            "visibility": null,
            "width": null
          }
        },
        "b243b5d49c1146d9b395d86cdc0f9e10": {
          "model_module": "@jupyter-widgets/controls",
          "model_name": "DescriptionStyleModel",
          "model_module_version": "1.5.0",
          "state": {
            "_model_module": "@jupyter-widgets/controls",
            "_model_module_version": "1.5.0",
            "_model_name": "DescriptionStyleModel",
            "_view_count": null,
            "_view_module": "@jupyter-widgets/base",
            "_view_module_version": "1.2.0",
            "_view_name": "StyleView",
            "description_width": ""
          }
        },
        "5a84bc93b6c64a139d8c31b70185d274": {
          "model_module": "@jupyter-widgets/base",
          "model_name": "LayoutModel",
          "model_module_version": "1.2.0",
          "state": {
            "_model_module": "@jupyter-widgets/base",
            "_model_module_version": "1.2.0",
            "_model_name": "LayoutModel",
            "_view_count": null,
            "_view_module": "@jupyter-widgets/base",
            "_view_module_version": "1.2.0",
            "_view_name": "LayoutView",
            "align_content": null,
            "align_items": null,
            "align_self": null,
            "border": null,
            "bottom": null,
            "display": null,
            "flex": null,
            "flex_flow": null,
            "grid_area": null,
            "grid_auto_columns": null,
            "grid_auto_flow": null,
            "grid_auto_rows": null,
            "grid_column": null,
            "grid_gap": null,
            "grid_row": null,
            "grid_template_areas": null,
            "grid_template_columns": null,
            "grid_template_rows": null,
            "height": null,
            "justify_content": null,
            "justify_items": null,
            "left": null,
            "margin": null,
            "max_height": null,
            "max_width": null,
            "min_height": null,
            "min_width": null,
            "object_fit": null,
            "object_position": null,
            "order": null,
            "overflow": null,
            "overflow_x": null,
            "overflow_y": null,
            "padding": null,
            "right": null,
            "top": null,
            "visibility": null,
            "width": null
          }
        },
        "3a61e821aea04ad287758b50f98e78e1": {
          "model_module": "@jupyter-widgets/controls",
          "model_name": "ProgressStyleModel",
          "model_module_version": "1.5.0",
          "state": {
            "_model_module": "@jupyter-widgets/controls",
            "_model_module_version": "1.5.0",
            "_model_name": "ProgressStyleModel",
            "_view_count": null,
            "_view_module": "@jupyter-widgets/base",
            "_view_module_version": "1.2.0",
            "_view_name": "StyleView",
            "bar_color": null,
            "description_width": ""
          }
        },
        "08bdb79cc06e44229818033395fa5b93": {
          "model_module": "@jupyter-widgets/base",
          "model_name": "LayoutModel",
          "model_module_version": "1.2.0",
          "state": {
            "_model_module": "@jupyter-widgets/base",
            "_model_module_version": "1.2.0",
            "_model_name": "LayoutModel",
            "_view_count": null,
            "_view_module": "@jupyter-widgets/base",
            "_view_module_version": "1.2.0",
            "_view_name": "LayoutView",
            "align_content": null,
            "align_items": null,
            "align_self": null,
            "border": null,
            "bottom": null,
            "display": null,
            "flex": null,
            "flex_flow": null,
            "grid_area": null,
            "grid_auto_columns": null,
            "grid_auto_flow": null,
            "grid_auto_rows": null,
            "grid_column": null,
            "grid_gap": null,
            "grid_row": null,
            "grid_template_areas": null,
            "grid_template_columns": null,
            "grid_template_rows": null,
            "height": null,
            "justify_content": null,
            "justify_items": null,
            "left": null,
            "margin": null,
            "max_height": null,
            "max_width": null,
            "min_height": null,
            "min_width": null,
            "object_fit": null,
            "object_position": null,
            "order": null,
            "overflow": null,
            "overflow_x": null,
            "overflow_y": null,
            "padding": null,
            "right": null,
            "top": null,
            "visibility": null,
            "width": null
          }
        },
        "cb9a527229fd46d0837ca2602976ca39": {
          "model_module": "@jupyter-widgets/controls",
          "model_name": "DescriptionStyleModel",
          "model_module_version": "1.5.0",
          "state": {
            "_model_module": "@jupyter-widgets/controls",
            "_model_module_version": "1.5.0",
            "_model_name": "DescriptionStyleModel",
            "_view_count": null,
            "_view_module": "@jupyter-widgets/base",
            "_view_module_version": "1.2.0",
            "_view_name": "StyleView",
            "description_width": ""
          }
        },
        "4b3fe0c4bfb640e0a722241fd7e3eae5": {
          "model_module": "@jupyter-widgets/controls",
          "model_name": "HBoxModel",
          "model_module_version": "1.5.0",
          "state": {
            "_dom_classes": [],
            "_model_module": "@jupyter-widgets/controls",
            "_model_module_version": "1.5.0",
            "_model_name": "HBoxModel",
            "_view_count": null,
            "_view_module": "@jupyter-widgets/controls",
            "_view_module_version": "1.5.0",
            "_view_name": "HBoxView",
            "box_style": "",
            "children": [
              "IPY_MODEL_019eabec5aac4608a26aa1737a6c64c5",
              "IPY_MODEL_04d3471eb1924dfa813ad44256641c1e",
              "IPY_MODEL_d8c454cc58cf4a0ea92fd5c2c60357ec"
            ],
            "layout": "IPY_MODEL_53560e46e83f41d9af20a4a235a6f2a6"
          }
        },
        "019eabec5aac4608a26aa1737a6c64c5": {
          "model_module": "@jupyter-widgets/controls",
          "model_name": "HTMLModel",
          "model_module_version": "1.5.0",
          "state": {
            "_dom_classes": [],
            "_model_module": "@jupyter-widgets/controls",
            "_model_module_version": "1.5.0",
            "_model_name": "HTMLModel",
            "_view_count": null,
            "_view_module": "@jupyter-widgets/controls",
            "_view_module_version": "1.5.0",
            "_view_name": "HTMLView",
            "description": "",
            "description_tooltip": null,
            "layout": "IPY_MODEL_75c39f759f94435789fbb622be87a6f7",
            "placeholder": "​",
            "style": "IPY_MODEL_bca2361059ad4027a6a5c5ea122d01dd",
            "value": "Downloading tokenizer.json: 100%"
          }
        },
        "04d3471eb1924dfa813ad44256641c1e": {
          "model_module": "@jupyter-widgets/controls",
          "model_name": "FloatProgressModel",
          "model_module_version": "1.5.0",
          "state": {
            "_dom_classes": [],
            "_model_module": "@jupyter-widgets/controls",
            "_model_module_version": "1.5.0",
            "_model_name": "FloatProgressModel",
            "_view_count": null,
            "_view_module": "@jupyter-widgets/controls",
            "_view_module_version": "1.5.0",
            "_view_name": "ProgressView",
            "bar_style": "success",
            "description": "",
            "description_tooltip": null,
            "layout": "IPY_MODEL_049c53e063324f409d6771507473ef06",
            "max": 17331176,
            "min": 0,
            "orientation": "horizontal",
            "style": "IPY_MODEL_3af8099270e64fdeb9ebd4a6e73da265",
            "value": 17331176
          }
        },
        "d8c454cc58cf4a0ea92fd5c2c60357ec": {
          "model_module": "@jupyter-widgets/controls",
          "model_name": "HTMLModel",
          "model_module_version": "1.5.0",
          "state": {
            "_dom_classes": [],
            "_model_module": "@jupyter-widgets/controls",
            "_model_module_version": "1.5.0",
            "_model_name": "HTMLModel",
            "_view_count": null,
            "_view_module": "@jupyter-widgets/controls",
            "_view_module_version": "1.5.0",
            "_view_name": "HTMLView",
            "description": "",
            "description_tooltip": null,
            "layout": "IPY_MODEL_023a059bf7534551937172d648bb428f",
            "placeholder": "​",
            "style": "IPY_MODEL_9102326c197f40ba8ddda0c455eddd2d",
            "value": " 17.3M/17.3M [00:00&lt;00:00, 50.4MB/s]"
          }
        },
        "53560e46e83f41d9af20a4a235a6f2a6": {
          "model_module": "@jupyter-widgets/base",
          "model_name": "LayoutModel",
          "model_module_version": "1.2.0",
          "state": {
            "_model_module": "@jupyter-widgets/base",
            "_model_module_version": "1.2.0",
            "_model_name": "LayoutModel",
            "_view_count": null,
            "_view_module": "@jupyter-widgets/base",
            "_view_module_version": "1.2.0",
            "_view_name": "LayoutView",
            "align_content": null,
            "align_items": null,
            "align_self": null,
            "border": null,
            "bottom": null,
            "display": null,
            "flex": null,
            "flex_flow": null,
            "grid_area": null,
            "grid_auto_columns": null,
            "grid_auto_flow": null,
            "grid_auto_rows": null,
            "grid_column": null,
            "grid_gap": null,
            "grid_row": null,
            "grid_template_areas": null,
            "grid_template_columns": null,
            "grid_template_rows": null,
            "height": null,
            "justify_content": null,
            "justify_items": null,
            "left": null,
            "margin": null,
            "max_height": null,
            "max_width": null,
            "min_height": null,
            "min_width": null,
            "object_fit": null,
            "object_position": null,
            "order": null,
            "overflow": null,
            "overflow_x": null,
            "overflow_y": null,
            "padding": null,
            "right": null,
            "top": null,
            "visibility": null,
            "width": null
          }
        },
        "75c39f759f94435789fbb622be87a6f7": {
          "model_module": "@jupyter-widgets/base",
          "model_name": "LayoutModel",
          "model_module_version": "1.2.0",
          "state": {
            "_model_module": "@jupyter-widgets/base",
            "_model_module_version": "1.2.0",
            "_model_name": "LayoutModel",
            "_view_count": null,
            "_view_module": "@jupyter-widgets/base",
            "_view_module_version": "1.2.0",
            "_view_name": "LayoutView",
            "align_content": null,
            "align_items": null,
            "align_self": null,
            "border": null,
            "bottom": null,
            "display": null,
            "flex": null,
            "flex_flow": null,
            "grid_area": null,
            "grid_auto_columns": null,
            "grid_auto_flow": null,
            "grid_auto_rows": null,
            "grid_column": null,
            "grid_gap": null,
            "grid_row": null,
            "grid_template_areas": null,
            "grid_template_columns": null,
            "grid_template_rows": null,
            "height": null,
            "justify_content": null,
            "justify_items": null,
            "left": null,
            "margin": null,
            "max_height": null,
            "max_width": null,
            "min_height": null,
            "min_width": null,
            "object_fit": null,
            "object_position": null,
            "order": null,
            "overflow": null,
            "overflow_x": null,
            "overflow_y": null,
            "padding": null,
            "right": null,
            "top": null,
            "visibility": null,
            "width": null
          }
        },
        "bca2361059ad4027a6a5c5ea122d01dd": {
          "model_module": "@jupyter-widgets/controls",
          "model_name": "DescriptionStyleModel",
          "model_module_version": "1.5.0",
          "state": {
            "_model_module": "@jupyter-widgets/controls",
            "_model_module_version": "1.5.0",
            "_model_name": "DescriptionStyleModel",
            "_view_count": null,
            "_view_module": "@jupyter-widgets/base",
            "_view_module_version": "1.2.0",
            "_view_name": "StyleView",
            "description_width": ""
          }
        },
        "049c53e063324f409d6771507473ef06": {
          "model_module": "@jupyter-widgets/base",
          "model_name": "LayoutModel",
          "model_module_version": "1.2.0",
          "state": {
            "_model_module": "@jupyter-widgets/base",
            "_model_module_version": "1.2.0",
            "_model_name": "LayoutModel",
            "_view_count": null,
            "_view_module": "@jupyter-widgets/base",
            "_view_module_version": "1.2.0",
            "_view_name": "LayoutView",
            "align_content": null,
            "align_items": null,
            "align_self": null,
            "border": null,
            "bottom": null,
            "display": null,
            "flex": null,
            "flex_flow": null,
            "grid_area": null,
            "grid_auto_columns": null,
            "grid_auto_flow": null,
            "grid_auto_rows": null,
            "grid_column": null,
            "grid_gap": null,
            "grid_row": null,
            "grid_template_areas": null,
            "grid_template_columns": null,
            "grid_template_rows": null,
            "height": null,
            "justify_content": null,
            "justify_items": null,
            "left": null,
            "margin": null,
            "max_height": null,
            "max_width": null,
            "min_height": null,
            "min_width": null,
            "object_fit": null,
            "object_position": null,
            "order": null,
            "overflow": null,
            "overflow_x": null,
            "overflow_y": null,
            "padding": null,
            "right": null,
            "top": null,
            "visibility": null,
            "width": null
          }
        },
        "3af8099270e64fdeb9ebd4a6e73da265": {
          "model_module": "@jupyter-widgets/controls",
          "model_name": "ProgressStyleModel",
          "model_module_version": "1.5.0",
          "state": {
            "_model_module": "@jupyter-widgets/controls",
            "_model_module_version": "1.5.0",
            "_model_name": "ProgressStyleModel",
            "_view_count": null,
            "_view_module": "@jupyter-widgets/base",
            "_view_module_version": "1.2.0",
            "_view_name": "StyleView",
            "bar_color": null,
            "description_width": ""
          }
        },
        "023a059bf7534551937172d648bb428f": {
          "model_module": "@jupyter-widgets/base",
          "model_name": "LayoutModel",
          "model_module_version": "1.2.0",
          "state": {
            "_model_module": "@jupyter-widgets/base",
            "_model_module_version": "1.2.0",
            "_model_name": "LayoutModel",
            "_view_count": null,
            "_view_module": "@jupyter-widgets/base",
            "_view_module_version": "1.2.0",
            "_view_name": "LayoutView",
            "align_content": null,
            "align_items": null,
            "align_self": null,
            "border": null,
            "bottom": null,
            "display": null,
            "flex": null,
            "flex_flow": null,
            "grid_area": null,
            "grid_auto_columns": null,
            "grid_auto_flow": null,
            "grid_auto_rows": null,
            "grid_column": null,
            "grid_gap": null,
            "grid_row": null,
            "grid_template_areas": null,
            "grid_template_columns": null,
            "grid_template_rows": null,
            "height": null,
            "justify_content": null,
            "justify_items": null,
            "left": null,
            "margin": null,
            "max_height": null,
            "max_width": null,
            "min_height": null,
            "min_width": null,
            "object_fit": null,
            "object_position": null,
            "order": null,
            "overflow": null,
            "overflow_x": null,
            "overflow_y": null,
            "padding": null,
            "right": null,
            "top": null,
            "visibility": null,
            "width": null
          }
        },
        "9102326c197f40ba8ddda0c455eddd2d": {
          "model_module": "@jupyter-widgets/controls",
          "model_name": "DescriptionStyleModel",
          "model_module_version": "1.5.0",
          "state": {
            "_model_module": "@jupyter-widgets/controls",
            "_model_module_version": "1.5.0",
            "_model_name": "DescriptionStyleModel",
            "_view_count": null,
            "_view_module": "@jupyter-widgets/base",
            "_view_module_version": "1.2.0",
            "_view_name": "StyleView",
            "description_width": ""
          }
        },
        "ca8f197836ae447486121f0754958a02": {
          "model_module": "@jupyter-widgets/controls",
          "model_name": "HBoxModel",
          "model_module_version": "1.5.0",
          "state": {
            "_dom_classes": [],
            "_model_module": "@jupyter-widgets/controls",
            "_model_module_version": "1.5.0",
            "_model_name": "HBoxModel",
            "_view_count": null,
            "_view_module": "@jupyter-widgets/controls",
            "_view_module_version": "1.5.0",
            "_view_name": "HBoxView",
            "box_style": "",
            "children": [
              "IPY_MODEL_347a311037824b23a6f99b7400618cd8",
              "IPY_MODEL_9bc2c0e451dc4b089dcb425b77a3ff8c",
              "IPY_MODEL_4f3177324ab549d0b2d30eaf275bdafe"
            ],
            "layout": "IPY_MODEL_18e5d0d7d55b432083bc8f04c600d17b"
          }
        },
        "347a311037824b23a6f99b7400618cd8": {
          "model_module": "@jupyter-widgets/controls",
          "model_name": "HTMLModel",
          "model_module_version": "1.5.0",
          "state": {
            "_dom_classes": [],
            "_model_module": "@jupyter-widgets/controls",
            "_model_module_version": "1.5.0",
            "_model_name": "HTMLModel",
            "_view_count": null,
            "_view_module": "@jupyter-widgets/controls",
            "_view_module_version": "1.5.0",
            "_view_name": "HTMLView",
            "description": "",
            "description_tooltip": null,
            "layout": "IPY_MODEL_5a614c832cbc473289bf35e3ec34a7e8",
            "placeholder": "​",
            "style": "IPY_MODEL_3313a5f3a85746aa81a7694872576136",
            "value": "Downloading (…)cial_tokens_map.json: 100%"
          }
        },
        "9bc2c0e451dc4b089dcb425b77a3ff8c": {
          "model_module": "@jupyter-widgets/controls",
          "model_name": "FloatProgressModel",
          "model_module_version": "1.5.0",
          "state": {
            "_dom_classes": [],
            "_model_module": "@jupyter-widgets/controls",
            "_model_module_version": "1.5.0",
            "_model_name": "FloatProgressModel",
            "_view_count": null,
            "_view_module": "@jupyter-widgets/controls",
            "_view_module_version": "1.5.0",
            "_view_name": "ProgressView",
            "bar_style": "success",
            "description": "",
            "description_tooltip": null,
            "layout": "IPY_MODEL_dba2a630f90d49c8ac855a6ec9d4c4dc",
            "max": 3548,
            "min": 0,
            "orientation": "horizontal",
            "style": "IPY_MODEL_c59aba307d034baa8a54870b2787d676",
            "value": 3548
          }
        },
        "4f3177324ab549d0b2d30eaf275bdafe": {
          "model_module": "@jupyter-widgets/controls",
          "model_name": "HTMLModel",
          "model_module_version": "1.5.0",
          "state": {
            "_dom_classes": [],
            "_model_module": "@jupyter-widgets/controls",
            "_model_module_version": "1.5.0",
            "_model_name": "HTMLModel",
            "_view_count": null,
            "_view_module": "@jupyter-widgets/controls",
            "_view_module_version": "1.5.0",
            "_view_name": "HTMLView",
            "description": "",
            "description_tooltip": null,
            "layout": "IPY_MODEL_14b4c40c7c754d33af90a480436c58f6",
            "placeholder": "​",
            "style": "IPY_MODEL_6bb41cb14af94d58a5e8cbd3909af8c5",
            "value": " 3.55k/3.55k [00:00&lt;00:00, 185kB/s]"
          }
        },
        "18e5d0d7d55b432083bc8f04c600d17b": {
          "model_module": "@jupyter-widgets/base",
          "model_name": "LayoutModel",
          "model_module_version": "1.2.0",
          "state": {
            "_model_module": "@jupyter-widgets/base",
            "_model_module_version": "1.2.0",
            "_model_name": "LayoutModel",
            "_view_count": null,
            "_view_module": "@jupyter-widgets/base",
            "_view_module_version": "1.2.0",
            "_view_name": "LayoutView",
            "align_content": null,
            "align_items": null,
            "align_self": null,
            "border": null,
            "bottom": null,
            "display": null,
            "flex": null,
            "flex_flow": null,
            "grid_area": null,
            "grid_auto_columns": null,
            "grid_auto_flow": null,
            "grid_auto_rows": null,
            "grid_column": null,
            "grid_gap": null,
            "grid_row": null,
            "grid_template_areas": null,
            "grid_template_columns": null,
            "grid_template_rows": null,
            "height": null,
            "justify_content": null,
            "justify_items": null,
            "left": null,
            "margin": null,
            "max_height": null,
            "max_width": null,
            "min_height": null,
            "min_width": null,
            "object_fit": null,
            "object_position": null,
            "order": null,
            "overflow": null,
            "overflow_x": null,
            "overflow_y": null,
            "padding": null,
            "right": null,
            "top": null,
            "visibility": null,
            "width": null
          }
        },
        "5a614c832cbc473289bf35e3ec34a7e8": {
          "model_module": "@jupyter-widgets/base",
          "model_name": "LayoutModel",
          "model_module_version": "1.2.0",
          "state": {
            "_model_module": "@jupyter-widgets/base",
            "_model_module_version": "1.2.0",
            "_model_name": "LayoutModel",
            "_view_count": null,
            "_view_module": "@jupyter-widgets/base",
            "_view_module_version": "1.2.0",
            "_view_name": "LayoutView",
            "align_content": null,
            "align_items": null,
            "align_self": null,
            "border": null,
            "bottom": null,
            "display": null,
            "flex": null,
            "flex_flow": null,
            "grid_area": null,
            "grid_auto_columns": null,
            "grid_auto_flow": null,
            "grid_auto_rows": null,
            "grid_column": null,
            "grid_gap": null,
            "grid_row": null,
            "grid_template_areas": null,
            "grid_template_columns": null,
            "grid_template_rows": null,
            "height": null,
            "justify_content": null,
            "justify_items": null,
            "left": null,
            "margin": null,
            "max_height": null,
            "max_width": null,
            "min_height": null,
            "min_width": null,
            "object_fit": null,
            "object_position": null,
            "order": null,
            "overflow": null,
            "overflow_x": null,
            "overflow_y": null,
            "padding": null,
            "right": null,
            "top": null,
            "visibility": null,
            "width": null
          }
        },
        "3313a5f3a85746aa81a7694872576136": {
          "model_module": "@jupyter-widgets/controls",
          "model_name": "DescriptionStyleModel",
          "model_module_version": "1.5.0",
          "state": {
            "_model_module": "@jupyter-widgets/controls",
            "_model_module_version": "1.5.0",
            "_model_name": "DescriptionStyleModel",
            "_view_count": null,
            "_view_module": "@jupyter-widgets/base",
            "_view_module_version": "1.2.0",
            "_view_name": "StyleView",
            "description_width": ""
          }
        },
        "dba2a630f90d49c8ac855a6ec9d4c4dc": {
          "model_module": "@jupyter-widgets/base",
          "model_name": "LayoutModel",
          "model_module_version": "1.2.0",
          "state": {
            "_model_module": "@jupyter-widgets/base",
            "_model_module_version": "1.2.0",
            "_model_name": "LayoutModel",
            "_view_count": null,
            "_view_module": "@jupyter-widgets/base",
            "_view_module_version": "1.2.0",
            "_view_name": "LayoutView",
            "align_content": null,
            "align_items": null,
            "align_self": null,
            "border": null,
            "bottom": null,
            "display": null,
            "flex": null,
            "flex_flow": null,
            "grid_area": null,
            "grid_auto_columns": null,
            "grid_auto_flow": null,
            "grid_auto_rows": null,
            "grid_column": null,
            "grid_gap": null,
            "grid_row": null,
            "grid_template_areas": null,
            "grid_template_columns": null,
            "grid_template_rows": null,
            "height": null,
            "justify_content": null,
            "justify_items": null,
            "left": null,
            "margin": null,
            "max_height": null,
            "max_width": null,
            "min_height": null,
            "min_width": null,
            "object_fit": null,
            "object_position": null,
            "order": null,
            "overflow": null,
            "overflow_x": null,
            "overflow_y": null,
            "padding": null,
            "right": null,
            "top": null,
            "visibility": null,
            "width": null
          }
        },
        "c59aba307d034baa8a54870b2787d676": {
          "model_module": "@jupyter-widgets/controls",
          "model_name": "ProgressStyleModel",
          "model_module_version": "1.5.0",
          "state": {
            "_model_module": "@jupyter-widgets/controls",
            "_model_module_version": "1.5.0",
            "_model_name": "ProgressStyleModel",
            "_view_count": null,
            "_view_module": "@jupyter-widgets/base",
            "_view_module_version": "1.2.0",
            "_view_name": "StyleView",
            "bar_color": null,
            "description_width": ""
          }
        },
        "14b4c40c7c754d33af90a480436c58f6": {
          "model_module": "@jupyter-widgets/base",
          "model_name": "LayoutModel",
          "model_module_version": "1.2.0",
          "state": {
            "_model_module": "@jupyter-widgets/base",
            "_model_module_version": "1.2.0",
            "_model_name": "LayoutModel",
            "_view_count": null,
            "_view_module": "@jupyter-widgets/base",
            "_view_module_version": "1.2.0",
            "_view_name": "LayoutView",
            "align_content": null,
            "align_items": null,
            "align_self": null,
            "border": null,
            "bottom": null,
            "display": null,
            "flex": null,
            "flex_flow": null,
            "grid_area": null,
            "grid_auto_columns": null,
            "grid_auto_flow": null,
            "grid_auto_rows": null,
            "grid_column": null,
            "grid_gap": null,
            "grid_row": null,
            "grid_template_areas": null,
            "grid_template_columns": null,
            "grid_template_rows": null,
            "height": null,
            "justify_content": null,
            "justify_items": null,
            "left": null,
            "margin": null,
            "max_height": null,
            "max_width": null,
            "min_height": null,
            "min_width": null,
            "object_fit": null,
            "object_position": null,
            "order": null,
            "overflow": null,
            "overflow_x": null,
            "overflow_y": null,
            "padding": null,
            "right": null,
            "top": null,
            "visibility": null,
            "width": null
          }
        },
        "6bb41cb14af94d58a5e8cbd3909af8c5": {
          "model_module": "@jupyter-widgets/controls",
          "model_name": "DescriptionStyleModel",
          "model_module_version": "1.5.0",
          "state": {
            "_model_module": "@jupyter-widgets/controls",
            "_model_module_version": "1.5.0",
            "_model_name": "DescriptionStyleModel",
            "_view_count": null,
            "_view_module": "@jupyter-widgets/base",
            "_view_module_version": "1.2.0",
            "_view_name": "StyleView",
            "description_width": ""
          }
        },
        "2ff152f05214432b9907c99eb026bb7c": {
          "model_module": "@jupyter-widgets/controls",
          "model_name": "HBoxModel",
          "model_module_version": "1.5.0",
          "state": {
            "_dom_classes": [],
            "_model_module": "@jupyter-widgets/controls",
            "_model_module_version": "1.5.0",
            "_model_name": "HBoxModel",
            "_view_count": null,
            "_view_module": "@jupyter-widgets/controls",
            "_view_module_version": "1.5.0",
            "_view_name": "HBoxView",
            "box_style": "",
            "children": [
              "IPY_MODEL_ce678e72fe06432b8f4b14dc158eb079",
              "IPY_MODEL_b186ef54feb343a8847c45c1fbc388b4",
              "IPY_MODEL_0df920cc64dd4dfb8108b70bbbfc651f"
            ],
            "layout": "IPY_MODEL_156276c2ebf149ccb9cb0483981e8c0f"
          }
        },
        "ce678e72fe06432b8f4b14dc158eb079": {
          "model_module": "@jupyter-widgets/controls",
          "model_name": "HTMLModel",
          "model_module_version": "1.5.0",
          "state": {
            "_dom_classes": [],
            "_model_module": "@jupyter-widgets/controls",
            "_model_module_version": "1.5.0",
            "_model_name": "HTMLModel",
            "_view_count": null,
            "_view_module": "@jupyter-widgets/controls",
            "_view_module_version": "1.5.0",
            "_view_name": "HTMLView",
            "description": "",
            "description_tooltip": null,
            "layout": "IPY_MODEL_aeb058ab24d34c53946f50012e44f2e6",
            "placeholder": "​",
            "style": "IPY_MODEL_ec2df71d771a4672aa5a380bf4dc6f94",
            "value": "Downloading (…)lve/main/config.json: 100%"
          }
        },
        "b186ef54feb343a8847c45c1fbc388b4": {
          "model_module": "@jupyter-widgets/controls",
          "model_name": "FloatProgressModel",
          "model_module_version": "1.5.0",
          "state": {
            "_dom_classes": [],
            "_model_module": "@jupyter-widgets/controls",
            "_model_module_version": "1.5.0",
            "_model_name": "FloatProgressModel",
            "_view_count": null,
            "_view_module": "@jupyter-widgets/controls",
            "_view_module_version": "1.5.0",
            "_view_name": "ProgressView",
            "bar_style": "success",
            "description": "",
            "description_tooltip": null,
            "layout": "IPY_MODEL_9da05426ccb145729247d1e6453fbd7c",
            "max": 846,
            "min": 0,
            "orientation": "horizontal",
            "style": "IPY_MODEL_5e8d4a66ee654381952474c1a19da2a0",
            "value": 846
          }
        },
        "0df920cc64dd4dfb8108b70bbbfc651f": {
          "model_module": "@jupyter-widgets/controls",
          "model_name": "HTMLModel",
          "model_module_version": "1.5.0",
          "state": {
            "_dom_classes": [],
            "_model_module": "@jupyter-widgets/controls",
            "_model_module_version": "1.5.0",
            "_model_name": "HTMLModel",
            "_view_count": null,
            "_view_module": "@jupyter-widgets/controls",
            "_view_module_version": "1.5.0",
            "_view_name": "HTMLView",
            "description": "",
            "description_tooltip": null,
            "layout": "IPY_MODEL_94cd8f5f1ff64adcb778f7e22dacc2b6",
            "placeholder": "​",
            "style": "IPY_MODEL_11383d2fc8de460fac3a8c533f36ec47",
            "value": " 846/846 [00:00&lt;00:00, 39.5kB/s]"
          }
        },
        "156276c2ebf149ccb9cb0483981e8c0f": {
          "model_module": "@jupyter-widgets/base",
          "model_name": "LayoutModel",
          "model_module_version": "1.2.0",
          "state": {
            "_model_module": "@jupyter-widgets/base",
            "_model_module_version": "1.2.0",
            "_model_name": "LayoutModel",
            "_view_count": null,
            "_view_module": "@jupyter-widgets/base",
            "_view_module_version": "1.2.0",
            "_view_name": "LayoutView",
            "align_content": null,
            "align_items": null,
            "align_self": null,
            "border": null,
            "bottom": null,
            "display": null,
            "flex": null,
            "flex_flow": null,
            "grid_area": null,
            "grid_auto_columns": null,
            "grid_auto_flow": null,
            "grid_auto_rows": null,
            "grid_column": null,
            "grid_gap": null,
            "grid_row": null,
            "grid_template_areas": null,
            "grid_template_columns": null,
            "grid_template_rows": null,
            "height": null,
            "justify_content": null,
            "justify_items": null,
            "left": null,
            "margin": null,
            "max_height": null,
            "max_width": null,
            "min_height": null,
            "min_width": null,
            "object_fit": null,
            "object_position": null,
            "order": null,
            "overflow": null,
            "overflow_x": null,
            "overflow_y": null,
            "padding": null,
            "right": null,
            "top": null,
            "visibility": null,
            "width": null
          }
        },
        "aeb058ab24d34c53946f50012e44f2e6": {
          "model_module": "@jupyter-widgets/base",
          "model_name": "LayoutModel",
          "model_module_version": "1.2.0",
          "state": {
            "_model_module": "@jupyter-widgets/base",
            "_model_module_version": "1.2.0",
            "_model_name": "LayoutModel",
            "_view_count": null,
            "_view_module": "@jupyter-widgets/base",
            "_view_module_version": "1.2.0",
            "_view_name": "LayoutView",
            "align_content": null,
            "align_items": null,
            "align_self": null,
            "border": null,
            "bottom": null,
            "display": null,
            "flex": null,
            "flex_flow": null,
            "grid_area": null,
            "grid_auto_columns": null,
            "grid_auto_flow": null,
            "grid_auto_rows": null,
            "grid_column": null,
            "grid_gap": null,
            "grid_row": null,
            "grid_template_areas": null,
            "grid_template_columns": null,
            "grid_template_rows": null,
            "height": null,
            "justify_content": null,
            "justify_items": null,
            "left": null,
            "margin": null,
            "max_height": null,
            "max_width": null,
            "min_height": null,
            "min_width": null,
            "object_fit": null,
            "object_position": null,
            "order": null,
            "overflow": null,
            "overflow_x": null,
            "overflow_y": null,
            "padding": null,
            "right": null,
            "top": null,
            "visibility": null,
            "width": null
          }
        },
        "ec2df71d771a4672aa5a380bf4dc6f94": {
          "model_module": "@jupyter-widgets/controls",
          "model_name": "DescriptionStyleModel",
          "model_module_version": "1.5.0",
          "state": {
            "_model_module": "@jupyter-widgets/controls",
            "_model_module_version": "1.5.0",
            "_model_name": "DescriptionStyleModel",
            "_view_count": null,
            "_view_module": "@jupyter-widgets/base",
            "_view_module_version": "1.2.0",
            "_view_name": "StyleView",
            "description_width": ""
          }
        },
        "9da05426ccb145729247d1e6453fbd7c": {
          "model_module": "@jupyter-widgets/base",
          "model_name": "LayoutModel",
          "model_module_version": "1.2.0",
          "state": {
            "_model_module": "@jupyter-widgets/base",
            "_model_module_version": "1.2.0",
            "_model_name": "LayoutModel",
            "_view_count": null,
            "_view_module": "@jupyter-widgets/base",
            "_view_module_version": "1.2.0",
            "_view_name": "LayoutView",
            "align_content": null,
            "align_items": null,
            "align_self": null,
            "border": null,
            "bottom": null,
            "display": null,
            "flex": null,
            "flex_flow": null,
            "grid_area": null,
            "grid_auto_columns": null,
            "grid_auto_flow": null,
            "grid_auto_rows": null,
            "grid_column": null,
            "grid_gap": null,
            "grid_row": null,
            "grid_template_areas": null,
            "grid_template_columns": null,
            "grid_template_rows": null,
            "height": null,
            "justify_content": null,
            "justify_items": null,
            "left": null,
            "margin": null,
            "max_height": null,
            "max_width": null,
            "min_height": null,
            "min_width": null,
            "object_fit": null,
            "object_position": null,
            "order": null,
            "overflow": null,
            "overflow_x": null,
            "overflow_y": null,
            "padding": null,
            "right": null,
            "top": null,
            "visibility": null,
            "width": null
          }
        },
        "5e8d4a66ee654381952474c1a19da2a0": {
          "model_module": "@jupyter-widgets/controls",
          "model_name": "ProgressStyleModel",
          "model_module_version": "1.5.0",
          "state": {
            "_model_module": "@jupyter-widgets/controls",
            "_model_module_version": "1.5.0",
            "_model_name": "ProgressStyleModel",
            "_view_count": null,
            "_view_module": "@jupyter-widgets/base",
            "_view_module_version": "1.2.0",
            "_view_name": "StyleView",
            "bar_color": null,
            "description_width": ""
          }
        },
        "94cd8f5f1ff64adcb778f7e22dacc2b6": {
          "model_module": "@jupyter-widgets/base",
          "model_name": "LayoutModel",
          "model_module_version": "1.2.0",
          "state": {
            "_model_module": "@jupyter-widgets/base",
            "_model_module_version": "1.2.0",
            "_model_name": "LayoutModel",
            "_view_count": null,
            "_view_module": "@jupyter-widgets/base",
            "_view_module_version": "1.2.0",
            "_view_name": "LayoutView",
            "align_content": null,
            "align_items": null,
            "align_self": null,
            "border": null,
            "bottom": null,
            "display": null,
            "flex": null,
            "flex_flow": null,
            "grid_area": null,
            "grid_auto_columns": null,
            "grid_auto_flow": null,
            "grid_auto_rows": null,
            "grid_column": null,
            "grid_gap": null,
            "grid_row": null,
            "grid_template_areas": null,
            "grid_template_columns": null,
            "grid_template_rows": null,
            "height": null,
            "justify_content": null,
            "justify_items": null,
            "left": null,
            "margin": null,
            "max_height": null,
            "max_width": null,
            "min_height": null,
            "min_width": null,
            "object_fit": null,
            "object_position": null,
            "order": null,
            "overflow": null,
            "overflow_x": null,
            "overflow_y": null,
            "padding": null,
            "right": null,
            "top": null,
            "visibility": null,
            "width": null
          }
        },
        "11383d2fc8de460fac3a8c533f36ec47": {
          "model_module": "@jupyter-widgets/controls",
          "model_name": "DescriptionStyleModel",
          "model_module_version": "1.5.0",
          "state": {
            "_model_module": "@jupyter-widgets/controls",
            "_model_module_version": "1.5.0",
            "_model_name": "DescriptionStyleModel",
            "_view_count": null,
            "_view_module": "@jupyter-widgets/base",
            "_view_module_version": "1.2.0",
            "_view_name": "StyleView",
            "description_width": ""
          }
        },
        "813e8bf69da141c9a29abead4b071ed5": {
          "model_module": "@jupyter-widgets/controls",
          "model_name": "HBoxModel",
          "model_module_version": "1.5.0",
          "state": {
            "_dom_classes": [],
            "_model_module": "@jupyter-widgets/controls",
            "_model_module_version": "1.5.0",
            "_model_name": "HBoxModel",
            "_view_count": null,
            "_view_module": "@jupyter-widgets/controls",
            "_view_module_version": "1.5.0",
            "_view_name": "HBoxView",
            "box_style": "",
            "children": [
              "IPY_MODEL_bc4478684da04c43ab91227eaa322128",
              "IPY_MODEL_c2bb91b0022046ff96329e90c6e9b925",
              "IPY_MODEL_1bd2fb04be2b48faad5f9ae8ecd7af29"
            ],
            "layout": "IPY_MODEL_b7efb5eebecf44d5afcc7d3f94db316a"
          }
        },
        "bc4478684da04c43ab91227eaa322128": {
          "model_module": "@jupyter-widgets/controls",
          "model_name": "HTMLModel",
          "model_module_version": "1.5.0",
          "state": {
            "_dom_classes": [],
            "_model_module": "@jupyter-widgets/controls",
            "_model_module_version": "1.5.0",
            "_model_name": "HTMLModel",
            "_view_count": null,
            "_view_module": "@jupyter-widgets/controls",
            "_view_module_version": "1.5.0",
            "_view_name": "HTMLView",
            "description": "",
            "description_tooltip": null,
            "layout": "IPY_MODEL_3227b7b77754425d91ad0e998eccda24",
            "placeholder": "​",
            "style": "IPY_MODEL_a94f223330ac4ff6b1d6748368b58eb3",
            "value": "Downloading pytorch_model.bin: 100%"
          }
        },
        "c2bb91b0022046ff96329e90c6e9b925": {
          "model_module": "@jupyter-widgets/controls",
          "model_name": "FloatProgressModel",
          "model_module_version": "1.5.0",
          "state": {
            "_dom_classes": [],
            "_model_module": "@jupyter-widgets/controls",
            "_model_module_version": "1.5.0",
            "_model_name": "FloatProgressModel",
            "_view_count": null,
            "_view_module": "@jupyter-widgets/controls",
            "_view_module_version": "1.5.0",
            "_view_name": "ProgressView",
            "bar_style": "success",
            "description": "",
            "description_tooltip": null,
            "layout": "IPY_MODEL_d184018768804ac4b9d38aa5880aaf26",
            "max": 2460457927,
            "min": 0,
            "orientation": "horizontal",
            "style": "IPY_MODEL_499f23a224e44a4d8184f8fae8e0af07",
            "value": 2460457927
          }
        },
        "1bd2fb04be2b48faad5f9ae8ecd7af29": {
          "model_module": "@jupyter-widgets/controls",
          "model_name": "HTMLModel",
          "model_module_version": "1.5.0",
          "state": {
            "_dom_classes": [],
            "_model_module": "@jupyter-widgets/controls",
            "_model_module_version": "1.5.0",
            "_model_name": "HTMLModel",
            "_view_count": null,
            "_view_module": "@jupyter-widgets/controls",
            "_view_module_version": "1.5.0",
            "_view_name": "HTMLView",
            "description": "",
            "description_tooltip": null,
            "layout": "IPY_MODEL_b8f221c6047f4979a38d9f856959a27d",
            "placeholder": "​",
            "style": "IPY_MODEL_4d65e120ff7d4aec83de1727667e24e6",
            "value": " 2.46G/2.46G [00:21&lt;00:00, 191MB/s]"
          }
        },
        "b7efb5eebecf44d5afcc7d3f94db316a": {
          "model_module": "@jupyter-widgets/base",
          "model_name": "LayoutModel",
          "model_module_version": "1.2.0",
          "state": {
            "_model_module": "@jupyter-widgets/base",
            "_model_module_version": "1.2.0",
            "_model_name": "LayoutModel",
            "_view_count": null,
            "_view_module": "@jupyter-widgets/base",
            "_view_module_version": "1.2.0",
            "_view_name": "LayoutView",
            "align_content": null,
            "align_items": null,
            "align_self": null,
            "border": null,
            "bottom": null,
            "display": null,
            "flex": null,
            "flex_flow": null,
            "grid_area": null,
            "grid_auto_columns": null,
            "grid_auto_flow": null,
            "grid_auto_rows": null,
            "grid_column": null,
            "grid_gap": null,
            "grid_row": null,
            "grid_template_areas": null,
            "grid_template_columns": null,
            "grid_template_rows": null,
            "height": null,
            "justify_content": null,
            "justify_items": null,
            "left": null,
            "margin": null,
            "max_height": null,
            "max_width": null,
            "min_height": null,
            "min_width": null,
            "object_fit": null,
            "object_position": null,
            "order": null,
            "overflow": null,
            "overflow_x": null,
            "overflow_y": null,
            "padding": null,
            "right": null,
            "top": null,
            "visibility": null,
            "width": null
          }
        },
        "3227b7b77754425d91ad0e998eccda24": {
          "model_module": "@jupyter-widgets/base",
          "model_name": "LayoutModel",
          "model_module_version": "1.2.0",
          "state": {
            "_model_module": "@jupyter-widgets/base",
            "_model_module_version": "1.2.0",
            "_model_name": "LayoutModel",
            "_view_count": null,
            "_view_module": "@jupyter-widgets/base",
            "_view_module_version": "1.2.0",
            "_view_name": "LayoutView",
            "align_content": null,
            "align_items": null,
            "align_self": null,
            "border": null,
            "bottom": null,
            "display": null,
            "flex": null,
            "flex_flow": null,
            "grid_area": null,
            "grid_auto_columns": null,
            "grid_auto_flow": null,
            "grid_auto_rows": null,
            "grid_column": null,
            "grid_gap": null,
            "grid_row": null,
            "grid_template_areas": null,
            "grid_template_columns": null,
            "grid_template_rows": null,
            "height": null,
            "justify_content": null,
            "justify_items": null,
            "left": null,
            "margin": null,
            "max_height": null,
            "max_width": null,
            "min_height": null,
            "min_width": null,
            "object_fit": null,
            "object_position": null,
            "order": null,
            "overflow": null,
            "overflow_x": null,
            "overflow_y": null,
            "padding": null,
            "right": null,
            "top": null,
            "visibility": null,
            "width": null
          }
        },
        "a94f223330ac4ff6b1d6748368b58eb3": {
          "model_module": "@jupyter-widgets/controls",
          "model_name": "DescriptionStyleModel",
          "model_module_version": "1.5.0",
          "state": {
            "_model_module": "@jupyter-widgets/controls",
            "_model_module_version": "1.5.0",
            "_model_name": "DescriptionStyleModel",
            "_view_count": null,
            "_view_module": "@jupyter-widgets/base",
            "_view_module_version": "1.2.0",
            "_view_name": "StyleView",
            "description_width": ""
          }
        },
        "d184018768804ac4b9d38aa5880aaf26": {
          "model_module": "@jupyter-widgets/base",
          "model_name": "LayoutModel",
          "model_module_version": "1.2.0",
          "state": {
            "_model_module": "@jupyter-widgets/base",
            "_model_module_version": "1.2.0",
            "_model_name": "LayoutModel",
            "_view_count": null,
            "_view_module": "@jupyter-widgets/base",
            "_view_module_version": "1.2.0",
            "_view_name": "LayoutView",
            "align_content": null,
            "align_items": null,
            "align_self": null,
            "border": null,
            "bottom": null,
            "display": null,
            "flex": null,
            "flex_flow": null,
            "grid_area": null,
            "grid_auto_columns": null,
            "grid_auto_flow": null,
            "grid_auto_rows": null,
            "grid_column": null,
            "grid_gap": null,
            "grid_row": null,
            "grid_template_areas": null,
            "grid_template_columns": null,
            "grid_template_rows": null,
            "height": null,
            "justify_content": null,
            "justify_items": null,
            "left": null,
            "margin": null,
            "max_height": null,
            "max_width": null,
            "min_height": null,
            "min_width": null,
            "object_fit": null,
            "object_position": null,
            "order": null,
            "overflow": null,
            "overflow_x": null,
            "overflow_y": null,
            "padding": null,
            "right": null,
            "top": null,
            "visibility": null,
            "width": null
          }
        },
        "499f23a224e44a4d8184f8fae8e0af07": {
          "model_module": "@jupyter-widgets/controls",
          "model_name": "ProgressStyleModel",
          "model_module_version": "1.5.0",
          "state": {
            "_model_module": "@jupyter-widgets/controls",
            "_model_module_version": "1.5.0",
            "_model_name": "ProgressStyleModel",
            "_view_count": null,
            "_view_module": "@jupyter-widgets/base",
            "_view_module_version": "1.2.0",
            "_view_name": "StyleView",
            "bar_color": null,
            "description_width": ""
          }
        },
        "b8f221c6047f4979a38d9f856959a27d": {
          "model_module": "@jupyter-widgets/base",
          "model_name": "LayoutModel",
          "model_module_version": "1.2.0",
          "state": {
            "_model_module": "@jupyter-widgets/base",
            "_model_module_version": "1.2.0",
            "_model_name": "LayoutModel",
            "_view_count": null,
            "_view_module": "@jupyter-widgets/base",
            "_view_module_version": "1.2.0",
            "_view_name": "LayoutView",
            "align_content": null,
            "align_items": null,
            "align_self": null,
            "border": null,
            "bottom": null,
            "display": null,
            "flex": null,
            "flex_flow": null,
            "grid_area": null,
            "grid_auto_columns": null,
            "grid_auto_flow": null,
            "grid_auto_rows": null,
            "grid_column": null,
            "grid_gap": null,
            "grid_row": null,
            "grid_template_areas": null,
            "grid_template_columns": null,
            "grid_template_rows": null,
            "height": null,
            "justify_content": null,
            "justify_items": null,
            "left": null,
            "margin": null,
            "max_height": null,
            "max_width": null,
            "min_height": null,
            "min_width": null,
            "object_fit": null,
            "object_position": null,
            "order": null,
            "overflow": null,
            "overflow_x": null,
            "overflow_y": null,
            "padding": null,
            "right": null,
            "top": null,
            "visibility": null,
            "width": null
          }
        },
        "4d65e120ff7d4aec83de1727667e24e6": {
          "model_module": "@jupyter-widgets/controls",
          "model_name": "DescriptionStyleModel",
          "model_module_version": "1.5.0",
          "state": {
            "_model_module": "@jupyter-widgets/controls",
            "_model_module_version": "1.5.0",
            "_model_name": "DescriptionStyleModel",
            "_view_count": null,
            "_view_module": "@jupyter-widgets/base",
            "_view_module_version": "1.2.0",
            "_view_name": "StyleView",
            "description_width": ""
          }
        },
        "d14b17157d654fc98bdcf794c1b67a90": {
          "model_module": "@jupyter-widgets/controls",
          "model_name": "HBoxModel",
          "model_module_version": "1.5.0",
          "state": {
            "_dom_classes": [],
            "_model_module": "@jupyter-widgets/controls",
            "_model_module_version": "1.5.0",
            "_model_name": "HBoxModel",
            "_view_count": null,
            "_view_module": "@jupyter-widgets/controls",
            "_view_module_version": "1.5.0",
            "_view_name": "HBoxView",
            "box_style": "",
            "children": [
              "IPY_MODEL_4777d92fd77f46f09e99572656def101",
              "IPY_MODEL_0033f623cb1941f7bdd9ab1e96524117",
              "IPY_MODEL_ecc5036fcaf6497ba7bf146321c8a8bc"
            ],
            "layout": "IPY_MODEL_0a8f5c4bd0634dada72c2afda3d44136"
          }
        },
        "4777d92fd77f46f09e99572656def101": {
          "model_module": "@jupyter-widgets/controls",
          "model_name": "HTMLModel",
          "model_module_version": "1.5.0",
          "state": {
            "_dom_classes": [],
            "_model_module": "@jupyter-widgets/controls",
            "_model_module_version": "1.5.0",
            "_model_name": "HTMLModel",
            "_view_count": null,
            "_view_module": "@jupyter-widgets/controls",
            "_view_module_version": "1.5.0",
            "_view_name": "HTMLView",
            "description": "",
            "description_tooltip": null,
            "layout": "IPY_MODEL_f5377929158b4277babeecd386313d3e",
            "placeholder": "​",
            "style": "IPY_MODEL_c992820c94c24ed5bfa7608c1901eef2",
            "value": "Downloading (…)neration_config.json: 100%"
          }
        },
        "0033f623cb1941f7bdd9ab1e96524117": {
          "model_module": "@jupyter-widgets/controls",
          "model_name": "FloatProgressModel",
          "model_module_version": "1.5.0",
          "state": {
            "_dom_classes": [],
            "_model_module": "@jupyter-widgets/controls",
            "_model_module_version": "1.5.0",
            "_model_name": "FloatProgressModel",
            "_view_count": null,
            "_view_module": "@jupyter-widgets/controls",
            "_view_module_version": "1.5.0",
            "_view_name": "ProgressView",
            "bar_style": "success",
            "description": "",
            "description_tooltip": null,
            "layout": "IPY_MODEL_f6b11aed36e94442a64fb19bea26e0e7",
            "max": 189,
            "min": 0,
            "orientation": "horizontal",
            "style": "IPY_MODEL_4647e232ccfa480ea4f4f944a586f590",
            "value": 189
          }
        },
        "ecc5036fcaf6497ba7bf146321c8a8bc": {
          "model_module": "@jupyter-widgets/controls",
          "model_name": "HTMLModel",
          "model_module_version": "1.5.0",
          "state": {
            "_dom_classes": [],
            "_model_module": "@jupyter-widgets/controls",
            "_model_module_version": "1.5.0",
            "_model_name": "HTMLModel",
            "_view_count": null,
            "_view_module": "@jupyter-widgets/controls",
            "_view_module_version": "1.5.0",
            "_view_name": "HTMLView",
            "description": "",
            "description_tooltip": null,
            "layout": "IPY_MODEL_24e5150bd2774e73b81296f8074f1e5a",
            "placeholder": "​",
            "style": "IPY_MODEL_a0502a3971da4731908078b3881f579c",
            "value": " 189/189 [00:00&lt;00:00, 8.20kB/s]"
          }
        },
        "0a8f5c4bd0634dada72c2afda3d44136": {
          "model_module": "@jupyter-widgets/base",
          "model_name": "LayoutModel",
          "model_module_version": "1.2.0",
          "state": {
            "_model_module": "@jupyter-widgets/base",
            "_model_module_version": "1.2.0",
            "_model_name": "LayoutModel",
            "_view_count": null,
            "_view_module": "@jupyter-widgets/base",
            "_view_module_version": "1.2.0",
            "_view_name": "LayoutView",
            "align_content": null,
            "align_items": null,
            "align_self": null,
            "border": null,
            "bottom": null,
            "display": null,
            "flex": null,
            "flex_flow": null,
            "grid_area": null,
            "grid_auto_columns": null,
            "grid_auto_flow": null,
            "grid_auto_rows": null,
            "grid_column": null,
            "grid_gap": null,
            "grid_row": null,
            "grid_template_areas": null,
            "grid_template_columns": null,
            "grid_template_rows": null,
            "height": null,
            "justify_content": null,
            "justify_items": null,
            "left": null,
            "margin": null,
            "max_height": null,
            "max_width": null,
            "min_height": null,
            "min_width": null,
            "object_fit": null,
            "object_position": null,
            "order": null,
            "overflow": null,
            "overflow_x": null,
            "overflow_y": null,
            "padding": null,
            "right": null,
            "top": null,
            "visibility": null,
            "width": null
          }
        },
        "f5377929158b4277babeecd386313d3e": {
          "model_module": "@jupyter-widgets/base",
          "model_name": "LayoutModel",
          "model_module_version": "1.2.0",
          "state": {
            "_model_module": "@jupyter-widgets/base",
            "_model_module_version": "1.2.0",
            "_model_name": "LayoutModel",
            "_view_count": null,
            "_view_module": "@jupyter-widgets/base",
            "_view_module_version": "1.2.0",
            "_view_name": "LayoutView",
            "align_content": null,
            "align_items": null,
            "align_self": null,
            "border": null,
            "bottom": null,
            "display": null,
            "flex": null,
            "flex_flow": null,
            "grid_area": null,
            "grid_auto_columns": null,
            "grid_auto_flow": null,
            "grid_auto_rows": null,
            "grid_column": null,
            "grid_gap": null,
            "grid_row": null,
            "grid_template_areas": null,
            "grid_template_columns": null,
            "grid_template_rows": null,
            "height": null,
            "justify_content": null,
            "justify_items": null,
            "left": null,
            "margin": null,
            "max_height": null,
            "max_width": null,
            "min_height": null,
            "min_width": null,
            "object_fit": null,
            "object_position": null,
            "order": null,
            "overflow": null,
            "overflow_x": null,
            "overflow_y": null,
            "padding": null,
            "right": null,
            "top": null,
            "visibility": null,
            "width": null
          }
        },
        "c992820c94c24ed5bfa7608c1901eef2": {
          "model_module": "@jupyter-widgets/controls",
          "model_name": "DescriptionStyleModel",
          "model_module_version": "1.5.0",
          "state": {
            "_model_module": "@jupyter-widgets/controls",
            "_model_module_version": "1.5.0",
            "_model_name": "DescriptionStyleModel",
            "_view_count": null,
            "_view_module": "@jupyter-widgets/base",
            "_view_module_version": "1.2.0",
            "_view_name": "StyleView",
            "description_width": ""
          }
        },
        "f6b11aed36e94442a64fb19bea26e0e7": {
          "model_module": "@jupyter-widgets/base",
          "model_name": "LayoutModel",
          "model_module_version": "1.2.0",
          "state": {
            "_model_module": "@jupyter-widgets/base",
            "_model_module_version": "1.2.0",
            "_model_name": "LayoutModel",
            "_view_count": null,
            "_view_module": "@jupyter-widgets/base",
            "_view_module_version": "1.2.0",
            "_view_name": "LayoutView",
            "align_content": null,
            "align_items": null,
            "align_self": null,
            "border": null,
            "bottom": null,
            "display": null,
            "flex": null,
            "flex_flow": null,
            "grid_area": null,
            "grid_auto_columns": null,
            "grid_auto_flow": null,
            "grid_auto_rows": null,
            "grid_column": null,
            "grid_gap": null,
            "grid_row": null,
            "grid_template_areas": null,
            "grid_template_columns": null,
            "grid_template_rows": null,
            "height": null,
            "justify_content": null,
            "justify_items": null,
            "left": null,
            "margin": null,
            "max_height": null,
            "max_width": null,
            "min_height": null,
            "min_width": null,
            "object_fit": null,
            "object_position": null,
            "order": null,
            "overflow": null,
            "overflow_x": null,
            "overflow_y": null,
            "padding": null,
            "right": null,
            "top": null,
            "visibility": null,
            "width": null
          }
        },
        "4647e232ccfa480ea4f4f944a586f590": {
          "model_module": "@jupyter-widgets/controls",
          "model_name": "ProgressStyleModel",
          "model_module_version": "1.5.0",
          "state": {
            "_model_module": "@jupyter-widgets/controls",
            "_model_module_version": "1.5.0",
            "_model_name": "ProgressStyleModel",
            "_view_count": null,
            "_view_module": "@jupyter-widgets/base",
            "_view_module_version": "1.2.0",
            "_view_name": "StyleView",
            "bar_color": null,
            "description_width": ""
          }
        },
        "24e5150bd2774e73b81296f8074f1e5a": {
          "model_module": "@jupyter-widgets/base",
          "model_name": "LayoutModel",
          "model_module_version": "1.2.0",
          "state": {
            "_model_module": "@jupyter-widgets/base",
            "_model_module_version": "1.2.0",
            "_model_name": "LayoutModel",
            "_view_count": null,
            "_view_module": "@jupyter-widgets/base",
            "_view_module_version": "1.2.0",
            "_view_name": "LayoutView",
            "align_content": null,
            "align_items": null,
            "align_self": null,
            "border": null,
            "bottom": null,
            "display": null,
            "flex": null,
            "flex_flow": null,
            "grid_area": null,
            "grid_auto_columns": null,
            "grid_auto_flow": null,
            "grid_auto_rows": null,
            "grid_column": null,
            "grid_gap": null,
            "grid_row": null,
            "grid_template_areas": null,
            "grid_template_columns": null,
            "grid_template_rows": null,
            "height": null,
            "justify_content": null,
            "justify_items": null,
            "left": null,
            "margin": null,
            "max_height": null,
            "max_width": null,
            "min_height": null,
            "min_width": null,
            "object_fit": null,
            "object_position": null,
            "order": null,
            "overflow": null,
            "overflow_x": null,
            "overflow_y": null,
            "padding": null,
            "right": null,
            "top": null,
            "visibility": null,
            "width": null
          }
        },
        "a0502a3971da4731908078b3881f579c": {
          "model_module": "@jupyter-widgets/controls",
          "model_name": "DescriptionStyleModel",
          "model_module_version": "1.5.0",
          "state": {
            "_model_module": "@jupyter-widgets/controls",
            "_model_module_version": "1.5.0",
            "_model_name": "DescriptionStyleModel",
            "_view_count": null,
            "_view_module": "@jupyter-widgets/base",
            "_view_module_version": "1.2.0",
            "_view_name": "StyleView",
            "description_width": ""
          }
        }
      }
    }
  },
  "cells": [
    {
      "cell_type": "markdown",
      "metadata": {
        "id": "view-in-github",
        "colab_type": "text"
      },
      "source": [
        "<a href=\"https://colab.research.google.com/github/Dimildizio/system_design/blob/main/NLLB_model.ipynb\" target=\"_parent\"><img src=\"https://colab.research.google.com/assets/colab-badge.svg\" alt=\"Open In Colab\"/></a>"
      ]
    },
    {
      "cell_type": "markdown",
      "source": [
        "# Install huggingface lib"
      ],
      "metadata": {
        "id": "71AG6SbS1rGh"
      }
    },
    {
      "cell_type": "code",
      "execution_count": 1,
      "metadata": {
        "id": "B8s9xcdCzT2P"
      },
      "outputs": [],
      "source": [
        "%%capture\n",
        "!pip install transformers rouge-score sacrebleu sentencepiece"
      ]
    },
    {
      "cell_type": "markdown",
      "source": [
        "## Imports"
      ],
      "metadata": {
        "id": "drLby9M31wae"
      }
    },
    {
      "cell_type": "code",
      "source": [
        "import nltk\n",
        "import pandas as pd\n",
        "import sentencepiece as sp_module\n",
        "import sacrebleu\n",
        "import urllib.request\n",
        "import io\n",
        "\n",
        "from google.colab import files\n",
        "from nltk.translate.bleu_score import corpus_bleu, sentence_bleu, SmoothingFunction\n",
        "from nltk.translate.meteor_score import meteor_score\n",
        "from rouge_score import rouge_scorer\n",
        "from sacrebleu.metrics import BLEU, CHRF\n",
        "from transformers import AutoModelForSeq2SeqLM, AutoTokenizer\n",
        "from typing import List"
      ],
      "metadata": {
        "id": "H6qx2zq2zeXB"
      },
      "execution_count": 71,
      "outputs": []
    },
    {
      "cell_type": "code",
      "source": [
        "nltk.download('wordnet')"
      ],
      "metadata": {
        "colab": {
          "base_uri": "https://localhost:8080/"
        },
        "id": "SJ6rSXT0BCNX",
        "outputId": "f8881b8a-072a-4256-ba88-feb4432ec587"
      },
      "execution_count": 4,
      "outputs": [
        {
          "output_type": "stream",
          "name": "stderr",
          "text": [
            "[nltk_data] Downloading package wordnet to /root/nltk_data...\n"
          ]
        },
        {
          "output_type": "execute_result",
          "data": {
            "text/plain": [
              "True"
            ]
          },
          "metadata": {},
          "execution_count": 4
        }
      ]
    },
    {
      "cell_type": "markdown",
      "source": [
        "### Download data samples"
      ],
      "metadata": {
        "id": "eyXX-4Aix6ah"
      }
    },
    {
      "cell_type": "code",
      "source": [
        "%%capture\n",
        "!wget https://raw.githubusercontent.com/Dimildizio/system_design/main/data/gtrans.txt\n",
        "!wget https://raw.githubusercontent.com/Dimildizio/system_design/main/data/orig.txt\n",
        "!wget https://raw.githubusercontent.com/Dimildizio/system_design/main/data/reference.txt\n",
        "!wget https://raw.githubusercontent.com/Dimildizio/system_design/main/data/translation.txt"
      ],
      "metadata": {
        "id": "RtJnVsxtx49O"
      },
      "execution_count": 3,
      "outputs": []
    },
    {
      "cell_type": "markdown",
      "source": [
        "### Download sentencepiece vocab"
      ],
      "metadata": {
        "id": "lzXxZGpkyzlO"
      }
    },
    {
      "cell_type": "code",
      "source": [
        "%%capture\n",
        "!wget https://raw.githubusercontent.com/google/sentencepiece/master/data/botchan.txt"
      ],
      "metadata": {
        "id": "KoMEDBJeta6A"
      },
      "execution_count": 5,
      "outputs": []
    },
    {
      "cell_type": "markdown",
      "source": [
        "## Specify huggingface access token to download model"
      ],
      "metadata": {
        "id": "l8r12BFV1kIO"
      }
    },
    {
      "cell_type": "code",
      "source": [
        "access_token ='' #Put your huggingface token here"
      ],
      "metadata": {
        "id": "6UYE-GFm1Ny8"
      },
      "execution_count": 6,
      "outputs": []
    },
    {
      "cell_type": "markdown",
      "source": [
        "## Download tokenization models for rus and english corpus"
      ],
      "metadata": {
        "id": "6LsAdMvE1x07"
      }
    },
    {
      "cell_type": "code",
      "source": [
        "eng_tokenizer = AutoTokenizer.from_pretrained(\n",
        "    \"facebook/nllb-200-distilled-600M\", token=access_token)\n",
        "rus_tokenizer = AutoTokenizer.from_pretrained(\n",
        "    \"facebook/nllb-200-distilled-600M\", src_lang=\"rus_Cyrl\", token=access_token)"
      ],
      "metadata": {
        "id": "2ryajZ7yz3Ju",
        "outputId": "063824eb-89c5-4b20-d29c-cc94d3446db3",
        "colab": {
          "base_uri": "https://localhost:8080/",
          "height": 145,
          "referenced_widgets": [
            "894fc23e7e984d0d933bd07b213470bd",
            "7783d8df8d54423c8a63bc63523815c7",
            "7dc5dc0922594719b5a011e8212ce6d2",
            "dc643aa0679c4d01a53c7ed3b4bfc81f",
            "48296f8c2b7b477fbb40d3dac7d3e048",
            "6f7e4b4a4ad140b8b16d3af6d2ddafdb",
            "9255be6c8d494c5a999338dfb2f3e425",
            "e56f6d078f204dd5a539666d0a0d727d",
            "37b9ad2c1a92449eb0e3fcca0546e0f5",
            "702bcf53016c44088dace12f207a9a62",
            "ad5632f9d8ad417ca2728c911da6d6b7",
            "9608b654efdd476483a0a7fbc29cb555",
            "fbb08155934c4fb7be0c5b0532c700a6",
            "dd3e3db785ab42909607cd37607a4070",
            "4f9ae3b171cc4c67a188095299256ebc",
            "9d5ec079157646e8b628cf68a7afa028",
            "bf0968a17caf4c36a1c86a4492eb6b42",
            "b243b5d49c1146d9b395d86cdc0f9e10",
            "5a84bc93b6c64a139d8c31b70185d274",
            "3a61e821aea04ad287758b50f98e78e1",
            "08bdb79cc06e44229818033395fa5b93",
            "cb9a527229fd46d0837ca2602976ca39",
            "4b3fe0c4bfb640e0a722241fd7e3eae5",
            "019eabec5aac4608a26aa1737a6c64c5",
            "04d3471eb1924dfa813ad44256641c1e",
            "d8c454cc58cf4a0ea92fd5c2c60357ec",
            "53560e46e83f41d9af20a4a235a6f2a6",
            "75c39f759f94435789fbb622be87a6f7",
            "bca2361059ad4027a6a5c5ea122d01dd",
            "049c53e063324f409d6771507473ef06",
            "3af8099270e64fdeb9ebd4a6e73da265",
            "023a059bf7534551937172d648bb428f",
            "9102326c197f40ba8ddda0c455eddd2d",
            "ca8f197836ae447486121f0754958a02",
            "347a311037824b23a6f99b7400618cd8",
            "9bc2c0e451dc4b089dcb425b77a3ff8c",
            "4f3177324ab549d0b2d30eaf275bdafe",
            "18e5d0d7d55b432083bc8f04c600d17b",
            "5a614c832cbc473289bf35e3ec34a7e8",
            "3313a5f3a85746aa81a7694872576136",
            "dba2a630f90d49c8ac855a6ec9d4c4dc",
            "c59aba307d034baa8a54870b2787d676",
            "14b4c40c7c754d33af90a480436c58f6",
            "6bb41cb14af94d58a5e8cbd3909af8c5"
          ]
        }
      },
      "execution_count": 7,
      "outputs": [
        {
          "output_type": "display_data",
          "data": {
            "text/plain": [
              "Downloading (…)okenizer_config.json:   0%|          | 0.00/564 [00:00<?, ?B/s]"
            ],
            "application/vnd.jupyter.widget-view+json": {
              "version_major": 2,
              "version_minor": 0,
              "model_id": "894fc23e7e984d0d933bd07b213470bd"
            }
          },
          "metadata": {}
        },
        {
          "output_type": "display_data",
          "data": {
            "text/plain": [
              "Downloading (…)tencepiece.bpe.model:   0%|          | 0.00/4.85M [00:00<?, ?B/s]"
            ],
            "application/vnd.jupyter.widget-view+json": {
              "version_major": 2,
              "version_minor": 0,
              "model_id": "9608b654efdd476483a0a7fbc29cb555"
            }
          },
          "metadata": {}
        },
        {
          "output_type": "display_data",
          "data": {
            "text/plain": [
              "Downloading tokenizer.json:   0%|          | 0.00/17.3M [00:00<?, ?B/s]"
            ],
            "application/vnd.jupyter.widget-view+json": {
              "version_major": 2,
              "version_minor": 0,
              "model_id": "4b3fe0c4bfb640e0a722241fd7e3eae5"
            }
          },
          "metadata": {}
        },
        {
          "output_type": "display_data",
          "data": {
            "text/plain": [
              "Downloading (…)cial_tokens_map.json:   0%|          | 0.00/3.55k [00:00<?, ?B/s]"
            ],
            "application/vnd.jupyter.widget-view+json": {
              "version_major": 2,
              "version_minor": 0,
              "model_id": "ca8f197836ae447486121f0754958a02"
            }
          },
          "metadata": {}
        }
      ]
    },
    {
      "cell_type": "markdown",
      "source": [
        "# Trying the out-of-the-box model"
      ],
      "metadata": {
        "id": "6HXBxELh23BI"
      }
    },
    {
      "cell_type": "markdown",
      "source": [
        "## Create model"
      ],
      "metadata": {
        "id": "IIC-afo21_r7"
      }
    },
    {
      "cell_type": "code",
      "source": [
        "model = AutoModelForSeq2SeqLM.from_pretrained(\"facebook/nllb-200-distilled-600M\", token=access_token)"
      ],
      "metadata": {
        "colab": {
          "base_uri": "https://localhost:8080/",
          "height": 168,
          "referenced_widgets": [
            "2ff152f05214432b9907c99eb026bb7c",
            "ce678e72fe06432b8f4b14dc158eb079",
            "b186ef54feb343a8847c45c1fbc388b4",
            "0df920cc64dd4dfb8108b70bbbfc651f",
            "156276c2ebf149ccb9cb0483981e8c0f",
            "aeb058ab24d34c53946f50012e44f2e6",
            "ec2df71d771a4672aa5a380bf4dc6f94",
            "9da05426ccb145729247d1e6453fbd7c",
            "5e8d4a66ee654381952474c1a19da2a0",
            "94cd8f5f1ff64adcb778f7e22dacc2b6",
            "11383d2fc8de460fac3a8c533f36ec47",
            "813e8bf69da141c9a29abead4b071ed5",
            "bc4478684da04c43ab91227eaa322128",
            "c2bb91b0022046ff96329e90c6e9b925",
            "1bd2fb04be2b48faad5f9ae8ecd7af29",
            "b7efb5eebecf44d5afcc7d3f94db316a",
            "3227b7b77754425d91ad0e998eccda24",
            "a94f223330ac4ff6b1d6748368b58eb3",
            "d184018768804ac4b9d38aa5880aaf26",
            "499f23a224e44a4d8184f8fae8e0af07",
            "b8f221c6047f4979a38d9f856959a27d",
            "4d65e120ff7d4aec83de1727667e24e6",
            "d14b17157d654fc98bdcf794c1b67a90",
            "4777d92fd77f46f09e99572656def101",
            "0033f623cb1941f7bdd9ab1e96524117",
            "ecc5036fcaf6497ba7bf146321c8a8bc",
            "0a8f5c4bd0634dada72c2afda3d44136",
            "f5377929158b4277babeecd386313d3e",
            "c992820c94c24ed5bfa7608c1901eef2",
            "f6b11aed36e94442a64fb19bea26e0e7",
            "4647e232ccfa480ea4f4f944a586f590",
            "24e5150bd2774e73b81296f8074f1e5a",
            "a0502a3971da4731908078b3881f579c"
          ]
        },
        "id": "EvULUr5w2BBc",
        "outputId": "923f0c0d-a954-49ee-cb8c-625f800bfaff"
      },
      "execution_count": 8,
      "outputs": [
        {
          "output_type": "display_data",
          "data": {
            "text/plain": [
              "Downloading (…)lve/main/config.json:   0%|          | 0.00/846 [00:00<?, ?B/s]"
            ],
            "application/vnd.jupyter.widget-view+json": {
              "version_major": 2,
              "version_minor": 0,
              "model_id": "2ff152f05214432b9907c99eb026bb7c"
            }
          },
          "metadata": {}
        },
        {
          "output_type": "display_data",
          "data": {
            "text/plain": [
              "Downloading pytorch_model.bin:   0%|          | 0.00/2.46G [00:00<?, ?B/s]"
            ],
            "application/vnd.jupyter.widget-view+json": {
              "version_major": 2,
              "version_minor": 0,
              "model_id": "813e8bf69da141c9a29abead4b071ed5"
            }
          },
          "metadata": {}
        },
        {
          "output_type": "stream",
          "name": "stderr",
          "text": [
            "/usr/local/lib/python3.10/dist-packages/transformers/utils/hub.py:374: FutureWarning: The `use_auth_token` argument is deprecated and will be removed in v5 of Transformers.\n",
            "  warnings.warn(\n"
          ]
        },
        {
          "output_type": "display_data",
          "data": {
            "text/plain": [
              "Downloading (…)neration_config.json:   0%|          | 0.00/189 [00:00<?, ?B/s]"
            ],
            "application/vnd.jupyter.widget-view+json": {
              "version_major": 2,
              "version_minor": 0,
              "model_id": "d14b17157d654fc98bdcf794c1b67a90"
            }
          },
          "metadata": {}
        }
      ]
    },
    {
      "cell_type": "markdown",
      "source": [
        "## Create example data"
      ],
      "metadata": {
        "id": "2fRfcI2D2s-6"
      }
    },
    {
      "cell_type": "code",
      "source": [
        "doc = 'Шустрая бурая лисица прыгает через ленивого пса!'\n",
        "reference = 'The quick brown fox jumps over the lazy dog!'\n",
        "g_trans = 'The nimble brown fox jumps over the lazy dog!'"
      ],
      "metadata": {
        "id": "GuMCeuDq2Jsy"
      },
      "execution_count": 78,
      "outputs": []
    },
    {
      "cell_type": "markdown",
      "source": [
        "## Tokenize"
      ],
      "metadata": {
        "id": "HfgqQyUv20i_"
      }
    },
    {
      "cell_type": "code",
      "source": [
        "rus_tok = rus_tokenizer(doc, return_tensors='pt')"
      ],
      "metadata": {
        "id": "s6yqXKVq3CtP"
      },
      "execution_count": 10,
      "outputs": []
    },
    {
      "cell_type": "markdown",
      "source": [
        "### Sentence piece"
      ],
      "metadata": {
        "id": "vy8nrGtksIP0"
      }
    },
    {
      "cell_type": "code",
      "source": [
        "with open(\"botchan.txt\", \"rb\") as f:\n",
        "    text_data = f.read()"
      ],
      "metadata": {
        "id": "n1Gpt22muf35"
      },
      "execution_count": 11,
      "outputs": []
    },
    {
      "cell_type": "code",
      "source": [
        "model_sp = io.BytesIO()\n",
        "sp_vocab_size = 1000  #should consider enlarging\n",
        "\n",
        "sp_module.SentencePieceTrainer.train(sentence_iterator=io.BytesIO(text_data),\n",
        "                                     model_writer=model_sp,\n",
        "                                     vocab_size=sp_vocab_size)\n",
        "\n",
        "sp_tokenizer = sp_module.SentencePieceProcessor(model_proto=model_sp.getvalue())"
      ],
      "metadata": {
        "id": "ui8ddzzCst-r"
      },
      "execution_count": 12,
      "outputs": []
    },
    {
      "cell_type": "code",
      "source": [
        "#with open('out.model', 'wb') as f:\n",
        "#   f.write(model_sp.getvalue())\n",
        "#sp_processor = sp_module.SentencePieceProcessor()\n",
        "#sp_processor.load('out.model')"
      ],
      "metadata": {
        "id": "7aHaeKEYvcng",
        "outputId": "4a4d6d15-ded5-4e31-c340-57251baf23a1",
        "colab": {
          "base_uri": "https://localhost:8080/"
        }
      },
      "execution_count": null,
      "outputs": [
        {
          "output_type": "execute_result",
          "data": {
            "text/plain": [
              "True"
            ]
          },
          "metadata": {},
          "execution_count": 43
        }
      ]
    },
    {
      "cell_type": "code",
      "source": [
        "sp_tokens = sp_tokenizer.encode_as_pieces(doc)"
      ],
      "metadata": {
        "id": "O0A6oyl5vmsY"
      },
      "execution_count": 13,
      "outputs": []
    },
    {
      "cell_type": "code",
      "source": [
        "sp_tokens"
      ],
      "metadata": {
        "id": "eUbw72AU4LDd",
        "outputId": "941ac314-4aab-43f5-b278-9b54d2c27239",
        "colab": {
          "base_uri": "https://localhost:8080/"
        }
      },
      "execution_count": 14,
      "outputs": [
        {
          "output_type": "execute_result",
          "data": {
            "text/plain": [
              "['▁',\n",
              " 'Шустрая',\n",
              " '▁',\n",
              " 'бурая',\n",
              " '▁',\n",
              " 'лисица',\n",
              " '▁',\n",
              " 'прыгает',\n",
              " '▁',\n",
              " 'через',\n",
              " '▁',\n",
              " 'ленивого',\n",
              " '▁',\n",
              " 'пса',\n",
              " '!']"
            ]
          },
          "metadata": {},
          "execution_count": 14
        }
      ]
    },
    {
      "cell_type": "markdown",
      "source": [
        "SentencePiece tokenizer has different funcs from AutoTokenizer\n",
        "\n",
        "gotta think how to implement it in a MT class or write a new class and make sp tokenizer and nllb model work together"
      ],
      "metadata": {
        "id": "5jnUrOfW4afb"
      }
    },
    {
      "cell_type": "markdown",
      "source": [
        "### Translate"
      ],
      "metadata": {
        "id": "6eFyfGlm5gVv"
      }
    },
    {
      "cell_type": "code",
      "source": [
        "translated_tokens = model.generate(\n",
        "    **rus_tok, forced_bos_token_id=rus_tokenizer.lang_code_to_id[\"eng_Latn\"], max_length=30)"
      ],
      "metadata": {
        "id": "u7PfGQXr3X-B"
      },
      "execution_count": 15,
      "outputs": []
    },
    {
      "cell_type": "code",
      "source": [
        "translated = rus_tokenizer.batch_decode(translated_tokens, skip_special_tokens=True)[0] #for multiple entries"
      ],
      "metadata": {
        "id": "5lCiHPP54n-K"
      },
      "execution_count": 16,
      "outputs": []
    },
    {
      "cell_type": "markdown",
      "source": [
        "# Metrics"
      ],
      "metadata": {
        "id": "zqszBjes9QVJ"
      }
    },
    {
      "cell_type": "markdown",
      "source": [
        "#### **BLEU** - BiLingual Evaluation Understudy\n",
        ">cares more about word overlap.\n",
        "\n",
        ">Precision is more important.\n",
        "\n",
        "> Uses n-grams for evaluation.\n",
        "\n",
        ">Normalizes scores for text length.\n",
        "\n",
        ">Typical for machine translation.\n",
        "\n",
        ">Rewards model for producing matching with reference words.\n",
        "\n",
        "> Penalizes longer sentences.\n",
        "\n",
        "\n",
        "#### **ROUGE** - Recall-Oriented Understudy for Gisting Evaluation\n",
        "\n",
        ">Focused on capturing context (Gisting Evaluation).\n",
        "\n",
        ">Recall is more important. (Recall-Oriented)\n",
        "\n",
        "> Uses longest common subseq for evaluation.\n",
        "\n",
        "> Doesn't normalize scores for text length.\n",
        "\n",
        ">Typical for text summarization.\n",
        "\n",
        ">Rewards model if in general generated text represents the contexts of reference.\n",
        "\n",
        "> Longer texts have advantage for recall.\n",
        "\n",
        "\n",
        "#### **METEOR** - Metrics for Evaluation of Translation with Explicit ORdering\n",
        "\n",
        "> Takes word order into account.\n",
        "\n",
        "> Uses stemming and other techniques for synonyms and paraphrasing\n",
        "\n",
        "> F1 score is more important.\n",
        "\n",
        "> Uses unigrams (1 word) along with synonyms with preloaded WordNet synonym dictionary.\n",
        "\n",
        "> More robust in variations\n",
        "\n",
        "> Doesn't penalize longer texts\n",
        "\n",
        "> Typical for machine translation and text summarization.\n",
        "\n",
        "> Again: more flexible due to use of synonyms (more complex than word overlap)\n",
        "\n",
        "\n",
        "#### **TER** - Translation Edit Rate\n",
        "\n",
        "> Represents the **number of edits** needed to get from the hypothesis to the reference sentence. Lower is better.\n",
        "\n",
        "> Basically quantifies the dissimilarity of the reference and translation\n",
        "\n",
        "> Possible changes include: deletions, substitution, insertion, shifting\n",
        "\n",
        "> Used in machine translation and texts summarization.\n",
        "\n",
        "> Not included in commonly-used libs like nltk\n",
        "\n",
        "> More complex\n",
        "\n",
        "> No percentage score. Difficult to interprete the result. 0 edits is the best.\n",
        "\n",
        "\n"
      ],
      "metadata": {
        "id": "0wQMx_4eNdHq"
      }
    },
    {
      "cell_type": "code",
      "source": [
        "Rouge = rouge_scorer.RougeScorer(['rouge1', 'rouge2', 'rougeL'], use_stemmer=True)"
      ],
      "metadata": {
        "id": "nWWX4ZK9AAqy"
      },
      "execution_count": 17,
      "outputs": []
    },
    {
      "cell_type": "code",
      "source": [
        "smoothing_zero_ngrams = SmoothingFunction()"
      ],
      "metadata": {
        "id": "Gw0G0gvKZjff"
      },
      "execution_count": 18,
      "outputs": []
    },
    {
      "cell_type": "code",
      "source": [
        "def round_perc(num: float) -> float:\n",
        "  return round(num*100, 2)\n",
        "\n",
        "def get_sent_bleu(sentence: str, reference: str=reference) -> float:\n",
        "  '''n=3 gram'''\n",
        "  score = sentence_bleu([reference.split()], sentence.split(),\n",
        "                        weights = (0.25, 0.5, 0.25), smoothing_function=smoothing_zero_ngrams.method1) #weights define the 'window size'\n",
        "  return round_perc(score)\n",
        "\n",
        "def get_bleu(sentence: str, reference: str=reference) -> float:\n",
        "  score = corpus_bleu([[reference.split()]], [sentence.split()],\n",
        "                      smoothing_function=smoothing_zero_ngrams.method1)\n",
        "  return round_perc(score)\n",
        "\n",
        "def get_sacrebleu(sentence, reference):\n",
        "  #bleu = BLEU()\n",
        "  result = sacrebleu.corpus_bleu([sentence], [[reference]])\n",
        "  #print(bleu.get_signature())\n",
        "  return result\n",
        "\n",
        "def get_chrf(sentence, reference):\n",
        "  chrf = CHRF()\n",
        "  return chrf.corpus_score([sentence], [[reference]])\n",
        "\n",
        "\n",
        "def get_meteor(sentence: str, reference: str=reference) -> float:\n",
        "  score = meteor_score([reference.split()], sentence.split())\n",
        "  return round_perc(score)\n",
        "\n",
        "def get_rouge(sentence: str, reference: str=reference):\n",
        "  '''rouge-1 unigrams, individual words\n",
        "     rouge-2 bigrams, word pairs\n",
        "     rouge-L longest sequence'''\n",
        "  scores = Rouge.score(reference, sentence)\n",
        "  idict = {key:{} for key in scores}\n",
        "  for key in scores:\n",
        "    idict[key]['precision'] = str(round_perc(scores[key].precision))+'%'\n",
        "    idict[key]['recall'] = str(round_perc(scores[key].recall))+'%'\n",
        "    idict[key]['f1'] = str(round_perc(scores[key].fmeasure))+'%'\n",
        "  rouge_dict = {key: idict[key] for key in idict}\n",
        "  return rouge_dict"
      ],
      "metadata": {
        "id": "RfRl2zTLbe6J"
      },
      "execution_count": 108,
      "outputs": []
    },
    {
      "cell_type": "code",
      "source": [
        "def ter(hypothesis, reference=reference):\n",
        "    n = len(reference)\n",
        "    m = len(hypothesis)\n",
        "\n",
        "    # Init matrix for dynamic programming\n",
        "    dp = [[0] * (m + 1) for _ in range(n + 1)]\n",
        "\n",
        "    # Init first row and column\n",
        "    for i in range(n + 1):\n",
        "        dp[i][0] = i\n",
        "    for j in range(m + 1):\n",
        "        dp[0][j] = j\n",
        "\n",
        "    # Fill in the DP matrix\n",
        "    for i in range(1, n + 1):\n",
        "        for j in range(1, m + 1):\n",
        "            cost = 0 if reference[i - 1] == hypothesis[j - 1] else 1\n",
        "            dp[i][j] = min(dp[i - 1][j] + 1, dp[i][j - 1] + 1, dp[i - 1][j - 1] + cost)\n",
        "    return dp[n][m]"
      ],
      "metadata": {
        "id": "VrCPZrjBSMWq"
      },
      "execution_count": 21,
      "outputs": []
    },
    {
      "cell_type": "markdown",
      "source": [
        "### Test metrics"
      ],
      "metadata": {
        "id": "HMnMp8FvJScJ"
      }
    },
    {
      "cell_type": "code",
      "source": [
        "def test_metrics(reference, list_of_trans):\n",
        "  #print(f'Reference: {reference}\\n\\n')\n",
        "  transname = ['google translate', 'machine translation']\n",
        "  for name, func in zip(['sent_bleu', 'sacrebleu', 'sacre_chrf','corpus_bleu', 'meteor', 'rouge'],   #, 'ter'],\n",
        "                        [get_sent_bleu, get_sacrebleu, get_chrf, get_bleu, get_meteor, get_rouge]): #, ter]):\n",
        "    print('Metrics:', name)\n",
        "    symbol = '%'# if name != 'ter' else ' edits'\n",
        "    for num in range(len(list_of_trans)):\n",
        "      score = func(list_of_trans[num], reference)\n",
        "      print(f\"Translation: {transname[num]}: {score}{symbol}\")\n",
        "    print()"
      ],
      "metadata": {
        "id": "kE3ZDAvQ7qic"
      },
      "execution_count": 104,
      "outputs": []
    },
    {
      "cell_type": "markdown",
      "source": [
        "## Upload files to compare"
      ],
      "metadata": {
        "id": "9SviQJK-HDNG"
      }
    },
    {
      "cell_type": "code",
      "source": [
        "def onefile(files):\n",
        "  to_compare = []\n",
        "  for filename in files:\n",
        "    with open (filename+'.txt') as f:\n",
        "      new = f.readlines()\n",
        "    to_compare.append(''.join(new).replace('\\n', '').replace('\\t', ''))\n",
        "  return to_compare"
      ],
      "metadata": {
        "id": "o3oVw54AHMQ1"
      },
      "execution_count": 64,
      "outputs": []
    },
    {
      "cell_type": "code",
      "source": [
        "filenames = ['orig', 'gtrans', 'translation', 'reference']\n",
        "orig, gtrans, trans, ref = onefile(filenames)"
      ],
      "metadata": {
        "id": "l6s3vhAAJJ47"
      },
      "execution_count": 65,
      "outputs": []
    },
    {
      "cell_type": "code",
      "source": [
        "test_metrics(ref, [gtrans, trans])"
      ],
      "metadata": {
        "colab": {
          "base_uri": "https://localhost:8080/"
        },
        "id": "BQBA0-Z6LCIB",
        "outputId": "452ef2dc-eb49-484c-9a23-68f1c0d8ef14"
      },
      "execution_count": 110,
      "outputs": [
        {
          "output_type": "stream",
          "name": "stdout",
          "text": [
            "Metrics: sent_bleu\n",
            "Translation: google translate: 44.58%\n",
            "Translation: machine translation: 31.81%\n",
            "\n",
            "Metrics: sacrebleu\n",
            "Translation: google translate: BLEU = 46.70 83.0/55.9/37.9/27.1 (BP = 1.000 ratio = 1.008 hyp_len = 3528 ref_len = 3501)%\n",
            "Translation: machine translation: BLEU = 32.78 79.1/44.8/25.0/15.3 (BP = 0.961 ratio = 0.962 hyp_len = 3368 ref_len = 3501)%\n",
            "\n",
            "Metrics: sacre_chrf\n",
            "Translation: google translate: chrF2 = 77.19%\n",
            "Translation: machine translation: chrF2 = 69.53%\n",
            "\n",
            "Metrics: corpus_bleu\n",
            "Translation: google translate: 35.96%\n",
            "Translation: machine translation: 23.07%\n",
            "\n",
            "Metrics: meteor\n",
            "Translation: google translate: 51.87%\n",
            "Translation: machine translation: 40.99%\n",
            "\n",
            "Metrics: rouge\n",
            "Translation: google translate: {'rouge1': {'precision': '86.07%', 'recall': '86.93%', 'f1': '86.5%'}, 'rouge2': {'precision': '55.29%', 'recall': '55.84%', 'f1': '55.56%'}, 'rougeL': {'precision': '67.4%', 'recall': '68.07%', 'f1': '67.73%'}}%\n",
            "Translation: machine translation: {'rouge1': {'precision': '81.98%', 'recall': '79.26%', 'f1': '80.6%'}, 'rouge2': {'precision': '44.41%', 'recall': '42.93%', 'f1': '43.66%'}, 'rougeL': {'precision': '58.16%', 'recall': '56.23%', 'f1': '57.18%'}}%\n",
            "\n"
          ]
        }
      ]
    },
    {
      "cell_type": "markdown",
      "source": [
        "## Flow"
      ],
      "metadata": {
        "id": "_7xNCqyOBep_"
      }
    },
    {
      "cell_type": "code",
      "source": [
        "class MachineTranslation:\n",
        "\n",
        "  def __init__(self, model, tokenizer, target_lang='eng_Latn', sent_len=300):\n",
        "    self.model=model\n",
        "    self.tokenizer = tokenizer\n",
        "    self.to_lang = target_lang\n",
        "    self.sent_len = sent_len\n",
        "    self.metrics_dict = {'TER':ter,\n",
        "                        'BLEU corpus':get_bleu,\n",
        "                        'BLEU sentence': get_sent_bleu,\n",
        "                         'sacre BLEU':get_sacrebleu,\n",
        "                         'sacre_CHRF++': get_chrf,\n",
        "                        'METEOR': get_meteor,\n",
        "                        'ROUGE': get_rouge,\n",
        "                        }\n",
        "\n",
        "\n",
        "  def tokenize(self, sent: str):\n",
        "    '''Tokenize input sentence'''\n",
        "    return self.tokenizer(sent, return_tensors='pt')\n",
        "\n",
        "\n",
        "  def translate(self, inputs):\n",
        "    '''\n",
        "    Generate translation\n",
        "    '''\n",
        "    return self.model.generate(\n",
        "      **inputs, forced_bos_token_id=self.tokenizer.lang_code_to_id[self.to_lang],\n",
        "      max_length=self.sent_len)\n",
        "\n",
        "\n",
        "  def get_decoded(self, toks) -> list:\n",
        "    '''\n",
        "    Convert vect tokens into sentences\n",
        "    '''\n",
        "    return self.tokenizer.batch_decode(toks, skip_special_tokens=True)\n",
        "\n",
        "\n",
        "  def generate_metrics(self, translation: str, reference: str) -> None:\n",
        "    '''\n",
        "    Use BLEU metrics and compare translated sent to the best translation\n",
        "    '''\n",
        "    #print(f'Reference: {reference}\\nTranslation: {translation}\\n')\n",
        "    for name, func in self.metrics_dict.items():\n",
        "      score = func(translation, reference)\n",
        "      self.print_metrics(translation, name, score)\n",
        "\n",
        "\n",
        "  def print_metrics(self, translation, metrics_name, score):\n",
        "    if metrics_name == 'TER':\n",
        "      perc_sign = ' edits'\n",
        "    elif metrics_name in ['sacre BLEU', 'ROUGE']:\n",
        "      perc_sign = ''\n",
        "    else:\n",
        "      perc_sign = '%'\n",
        "\n",
        "    print(f\"{metrics_name} score: {score}{perc_sign}\")\n",
        "\n",
        "\n",
        "  def process_sentence(self, sent: str):\n",
        "    '''\n",
        "    main process for translation\n",
        "    '''\n",
        "    tokens = self.tokenize(sent)\n",
        "    translated_tokens = self.translate(tokens)\n",
        "    result = self.get_decoded(translated_tokens)\n",
        "    return result\n",
        "\n",
        "\n",
        "  def infer(self, sent: str, reference: str) -> None:\n",
        "    ''' TO BE CHANGED\n",
        "    Compare first sentence of the doc to the reference\n",
        "    '''\n",
        "    translation = self.process_sentence(sent)\n",
        "    print('Translated:', translation[0])\n",
        "    self.generate_metrics(translation[0].lower(), reference.lower())\n"
      ],
      "metadata": {
        "id": "hf6PAdtxBfpg"
      },
      "execution_count": 145,
      "outputs": []
    },
    {
      "cell_type": "code",
      "source": [
        "MT = MachineTranslation(model, rus_tokenizer)"
      ],
      "metadata": {
        "id": "FzXbJmbGDO52"
      },
      "execution_count": 143,
      "outputs": []
    },
    {
      "cell_type": "code",
      "source": [
        "MT.infer(doc, reference)"
      ],
      "metadata": {
        "colab": {
          "base_uri": "https://localhost:8080/"
        },
        "id": "00Zg8gjiGubU",
        "outputId": "8c6ea7cb-d266-4a96-827f-a50ad5ec350e"
      },
      "execution_count": 144,
      "outputs": [
        {
          "output_type": "stream",
          "name": "stdout",
          "text": [
            "Translated: ['A shrewd brown fox jumps over a lazy dog!']\n",
            "TER score: 12 edits\n",
            "BLEU corpus score: 35.49%\n",
            "BLEU sentence score: 46.71%\n",
            "sacre BLEU score: BLEU = 37.99 70.0/55.6/37.5/14.3 (BP = 1.000 ratio = 1.000 hyp_len = 10 ref_len = 10)\n",
            "sacre_CHRF++ score: chrF2 = 61.36%\n",
            "METEOR score: 65.43%\n",
            "ROUGE score: {'rouge1': {'precision': '66.67%', 'recall': '66.67%', 'f1': '66.67%'}, 'rouge2': {'precision': '50.0%', 'recall': '50.0%', 'f1': '50.0%'}, 'rougeL': {'precision': '66.67%', 'recall': '66.67%', 'f1': '66.67%'}}\n"
          ]
        }
      ]
    },
    {
      "cell_type": "markdown",
      "source": [
        "#### Sample from dataset"
      ],
      "metadata": {
        "id": "aCzGS5cDW51M"
      }
    },
    {
      "cell_type": "code",
      "source": [
        "a_few_sentences_rus = [\n",
        "'НЕЙТРОННАЯ РЕФЛЕКТОМЕТРИЯ В РОССИИ: ТЕКУЩЕЕ СОСТОЯНИЕ И ПЕРСПЕКТИВЫ',\n",
        "'В обзоре дано описание текущего состояния дел и перспектив развития в области нейтронной рефлектометрии на действующих и будущих нейтронных источниках Российской Федерации.',\n",
        "'В результате ввода в эксплуатацию новых инструментов на реакторах ИР-8 и ПИК число нейтронных рефлектометров в РФ должно удвоиться.',\n",
        "'В результате должен появиться набор инструментов, нацеленных на решение широкого круга задач в области физики, химии, биологии слоистых систем в интересах научного сообщества, а также для подготовки специалистов для дальнейшего развития и совершенствования данной методики.'\n",
        "]\n",
        "\n",
        "a_few_sentences_eng = [\n",
        "'Neutron Reflectometry in Russia: Current State and Prospects',\n",
        "'The review is devoted to the current state of affairs and prospects for development in the field of neutron reflectometry on the existing and future neutron sources in the Russian Federation.',\n",
        "'Due to the commissioning of new instruments at the IR-8 and PIK reactors, the number of neutron reflectometers in the Russian Federation should double.',\n",
        "'As a result, there must arise a set of instruments aimed at solving various problems in the fields of physics, chemistry, and biology of layered systems in the interests of the scientific community and to train experts for further development and improvement of this technique.'\n",
        "]\n",
        "\n",
        "a_few_sentences_gtrans = ['NEUTRON REFLECTOMETRY IN RUSSIA: CURRENT STATUS AND PROSPECTS',\n",
        "'The review describes the current state of affairs and prospects for development in the field of neutron reflectometry at existing and future neutron sources in the Russian Federation.',\n",
        "'As a result of the commissioning of new instruments at the IR-8 and PIK reactors, the number of neutron reflectometers in Russia should double.',\n",
        "'The result should be a set of tools aimed at solving a wide range of problems in the field of physics, chemistry, biology of layered systems in the interests of the scientific community, as well as training specialists for further development and improvement of this technique.']\n",
        "\n",
        "pairs = list(zip(a_few_sentences_rus, a_few_sentences_eng))"
      ],
      "metadata": {
        "id": "gZ_9ZT_3W6EB"
      },
      "execution_count": 111,
      "outputs": []
    },
    {
      "cell_type": "markdown",
      "source": [
        "#### Metrics for each sentence"
      ],
      "metadata": {
        "id": "Y3QBJR9Q_rYG"
      }
    },
    {
      "cell_type": "code",
      "source": [
        "MT = MachineTranslation(model, rus_tokenizer)\n",
        "for pair in pairs:\n",
        "  print('Source:', pair[0])\n",
        "  print('Reference:', pair[1])\n",
        "  rus, eng = [sent.lower() for sent in pair]\n",
        "  MT.infer(rus, eng)\n",
        "  print('\\n\\n')"
      ],
      "metadata": {
        "colab": {
          "base_uri": "https://localhost:8080/"
        },
        "id": "eaA-qysdXEwU",
        "outputId": "f0ef35c4-157c-4982-9264-18f53b712705"
      },
      "execution_count": 146,
      "outputs": [
        {
          "output_type": "stream",
          "name": "stdout",
          "text": [
            "Source: НЕЙТРОННАЯ РЕФЛЕКТОМЕТРИЯ В РОССИИ: ТЕКУЩЕЕ СОСТОЯНИЕ И ПЕРСПЕКТИВЫ\n",
            "Reference: Neutron Reflectometry in Russia: Current State and Prospects\n",
            "Translated: Neutron reflexometry in Russia: current state and prospects\n",
            "TER score: 2 edits\n",
            "BLEU corpus score: 70.71%\n",
            "BLEU sentence score: 73.86%\n",
            "sacre BLEU score: BLEU = 75.06 88.9/75.0/71.4/66.7 (BP = 1.000 ratio = 1.000 hyp_len = 9 ref_len = 9)\n",
            "sacre_CHRF++ score: chrF2 = 91.33%\n",
            "METEOR score: 86.48%\n",
            "ROUGE score: {'rouge1': {'precision': '87.5%', 'recall': '87.5%', 'f1': '87.5%'}, 'rouge2': {'precision': '71.43%', 'recall': '71.43%', 'f1': '71.43%'}, 'rougeL': {'precision': '87.5%', 'recall': '87.5%', 'f1': '87.5%'}}\n",
            "\n",
            "\n",
            "\n",
            "Source: В обзоре дано описание текущего состояния дел и перспектив развития в области нейтронной рефлектометрии на действующих и будущих нейтронных источниках Российской Федерации.\n",
            "Reference: The review is devoted to the current state of affairs and prospects for development in the field of neutron reflectometry on the existing and future neutron sources in the Russian Federation.\n",
            "Translated: The review describes the current state of affairs and development prospects in the field of neutron reflectorometry at the current and future neutron sources of the Russian Federation.\n",
            "TER score: 45 edits\n",
            "BLEU corpus score: 40.7%\n",
            "BLEU sentence score: 50.2%\n",
            "sacre BLEU score: BLEU = 43.03 82.8/57.1/40.7/26.9 (BP = 0.902 ratio = 0.906 hyp_len = 29 ref_len = 32)\n",
            "sacre_CHRF++ score: chrF2 = 74.50%\n",
            "METEOR score: 64.53%\n",
            "ROUGE score: {'rouge1': {'precision': '82.14%', 'recall': '74.19%', 'f1': '77.97%'}, 'rouge2': {'precision': '55.56%', 'recall': '50.0%', 'f1': '52.63%'}, 'rougeL': {'precision': '78.57%', 'recall': '70.97%', 'f1': '74.58%'}}\n",
            "\n",
            "\n",
            "\n",
            "Source: В результате ввода в эксплуатацию новых инструментов на реакторах ИР-8 и ПИК число нейтронных рефлектометров в РФ должно удвоиться.\n",
            "Reference: Due to the commissioning of new instruments at the IR-8 and PIK reactors, the number of neutron reflectometers in the Russian Federation should double.\n",
            "Translated: As a result of the commissioning of new instruments at IR-8 and peak reactors, the number of neutron reflector meters per reactor should double.\n",
            "TER score: 38 edits\n",
            "BLEU corpus score: 38.79%\n",
            "BLEU sentence score: 46.18%\n",
            "sacre BLEU score: BLEU = 42.71 65.4/52.0/37.5/26.1 (BP = 1.000 ratio = 1.000 hyp_len = 26 ref_len = 26)\n",
            "sacre_CHRF++ score: chrF2 = 70.65%\n",
            "METEOR score: 59.32%\n",
            "ROUGE score: {'rouge1': {'precision': '64.0%', 'recall': '64.0%', 'f1': '64.0%'}, 'rouge2': {'precision': '50.0%', 'recall': '50.0%', 'f1': '50.0%'}, 'rougeL': {'precision': '64.0%', 'recall': '64.0%', 'f1': '64.0%'}}\n",
            "\n",
            "\n",
            "\n",
            "Source: В результате должен появиться набор инструментов, нацеленных на решение широкого круга задач в области физики, химии, биологии слоистых систем в интересах научного сообщества, а также для подготовки специалистов для дальнейшего развития и совершенствования данной методики.\n",
            "Reference: As a result, there must arise a set of instruments aimed at solving various problems in the fields of physics, chemistry, and biology of layered systems in the interests of the scientific community and to train experts for further development and improvement of this technique.\n",
            "Translated: The result should be a set of tools aimed at solving a wide range of problems in physics, chemistry, layered systems biology for the benefit of the scientific community, as well as for training specialists to further develop and improve this methodology.\n",
            "TER score: 127 edits\n",
            "BLEU corpus score: 6.66%\n",
            "BLEU sentence score: 20.25%\n",
            "sacre BLEU score: BLEU = 17.35 69.6/26.7/13.6/4.7 (BP = 0.937 ratio = 0.939 hyp_len = 46 ref_len = 49)\n",
            "sacre_CHRF++ score: chrF2 = 54.76%\n",
            "METEOR score: 55.6%\n",
            "ROUGE score: {'rouge1': {'precision': '73.81%', 'recall': '68.89%', 'f1': '71.26%'}, 'rouge2': {'precision': '31.71%', 'recall': '29.55%', 'f1': '30.59%'}, 'rougeL': {'precision': '57.14%', 'recall': '53.33%', 'f1': '55.17%'}}\n",
            "\n",
            "\n",
            "\n"
          ]
        }
      ]
    },
    {
      "cell_type": "markdown",
      "source": [
        "### Try using SentencePiece as tokenizer"
      ],
      "metadata": {
        "id": "kaZo7Rdh5AiK"
      }
    },
    {
      "cell_type": "code",
      "source": [
        "#some OOP code here for sp tokenizer and nllb model\n"
      ],
      "metadata": {
        "id": "5V1eiF3w5EpX"
      },
      "execution_count": null,
      "outputs": []
    },
    {
      "cell_type": "markdown",
      "source": [
        "### Try using a paragraph as a single entry"
      ],
      "metadata": {
        "id": "4IvqRH88hPfq"
      }
    },
    {
      "cell_type": "code",
      "source": [
        "class TextMachineTranslation(MachineTranslation):\n",
        "  def process_text(self, text: List[str]) -> str:\n",
        "    '''\n",
        "    main process for multi-sentence translation\n",
        "    '''\n",
        "    tokens = [self.tokenize(sent) for sent in text]\n",
        "    translated_tokens = [self.translate(token) for token in tokens]\n",
        "    translations = [self.get_decoded(toks)[0] for toks in translated_tokens]\n",
        "    result = ' '.join(translations)\n",
        "    return result\n",
        "\n",
        "\n",
        "  def infer(self, text: List[str], reference: List[str]) -> None:\n",
        "    ''' TO BE CHANGED\n",
        "    Compare the whole text to the reference\n",
        "    '''\n",
        "    translation = self.process_text(text)\n",
        "    reference = ' '.join(reference)\n",
        "    self.generate_metrics(translation.lower(), reference.lower())"
      ],
      "metadata": {
        "id": "TkSuUxzWha0k"
      },
      "execution_count": null,
      "outputs": []
    },
    {
      "cell_type": "code",
      "source": [
        "TMT = TextMachineTranslation(model, rus_tokenizer)\n",
        "TMT.infer(a_few_sentences_rus, a_few_sentences_eng)"
      ],
      "metadata": {
        "colab": {
          "base_uri": "https://localhost:8080/"
        },
        "id": "Y98aJ6_jiiZH",
        "outputId": "2588d126-6c8a-4556-9639-b4e09394fa27"
      },
      "execution_count": null,
      "outputs": [
        {
          "output_type": "stream",
          "name": "stdout",
          "text": [
            "TER score: 200 edits\n",
            "BLEU corpus score: 37.95%\n",
            "BLEU sentence score: 45.9%\n",
            "METEOR score: 53.49%\n",
            "ROUGE score: {'rouge1': {'precision': '80.95%', 'recall': '77.98%', 'f1': '79.44%'}, 'rouge2': {'precision': '51.92%', 'recall': '50.0%', 'f1': '50.94%'}, 'rougeL': {'precision': '68.57%', 'recall': '66.06%', 'f1': '67.29%'}}%\n"
          ]
        }
      ]
    },
    {
      "cell_type": "markdown",
      "source": [
        "### Try it on a whole article"
      ],
      "metadata": {
        "id": "zBFZKzMknlHB"
      }
    },
    {
      "cell_type": "markdown",
      "source": [
        "No ETL so far, no DB, just plain pd.read"
      ],
      "metadata": {
        "id": "fZPS-eSOqUNV"
      }
    },
    {
      "cell_type": "code",
      "source": [
        "filename = 'Krist_sample_data.xlsx'\n",
        "sheet_name = 'Krist2202003Borisov'\n",
        "df = pd.read_excel(filename, sheet_name=sheet_name).dropna(subset=['ru'])"
      ],
      "metadata": {
        "id": "7Kl7GBkmkslU"
      },
      "execution_count": null,
      "outputs": []
    },
    {
      "cell_type": "code",
      "source": [
        "orig_text = df['ru'].tolist()\n",
        "ref_text = df['en'].tolist()"
      ],
      "metadata": {
        "id": "g9IL3-HBmuT6"
      },
      "execution_count": null,
      "outputs": []
    },
    {
      "cell_type": "code",
      "source": [
        "txt_model = TextMachineTranslation(model, rus_tokenizer)\n",
        "#txt_model.infer(orig_text, ref_text)"
      ],
      "metadata": {
        "id": "SC_gEdTxyaxg"
      },
      "execution_count": null,
      "outputs": []
    },
    {
      "cell_type": "code",
      "source": [
        "%%time\n",
        "text_translated = txt_model.process_text(orig_text)"
      ],
      "metadata": {
        "id": "6GdpE0LQr6sV",
        "outputId": "95a50072-c829-4091-8c5d-309f05eaf74f",
        "colab": {
          "base_uri": "https://localhost:8080/"
        }
      },
      "execution_count": null,
      "outputs": [
        {
          "output_type": "stream",
          "name": "stdout",
          "text": [
            "CPU times: user 14min 56s, sys: 217 ms, total: 14min 56s\n",
            "Wall time: 15min 10s\n"
          ]
        }
      ]
    },
    {
      "cell_type": "code",
      "source": [
        "filepath = 'translation.txt'\n",
        "with open(filepath, 'w') as f:\n",
        "  f.write(text_translated)\n",
        "\n",
        "files.download(filepath)"
      ],
      "metadata": {
        "id": "DUdjvq919G_B",
        "colab": {
          "base_uri": "https://localhost:8080/",
          "height": 17
        },
        "outputId": "6471a056-7761-4e2e-bcdd-d81cccd41ef5"
      },
      "execution_count": null,
      "outputs": [
        {
          "output_type": "display_data",
          "data": {
            "text/plain": [
              "<IPython.core.display.Javascript object>"
            ],
            "application/javascript": [
              "\n",
              "    async function download(id, filename, size) {\n",
              "      if (!google.colab.kernel.accessAllowed) {\n",
              "        return;\n",
              "      }\n",
              "      const div = document.createElement('div');\n",
              "      const label = document.createElement('label');\n",
              "      label.textContent = `Downloading \"${filename}\": `;\n",
              "      div.appendChild(label);\n",
              "      const progress = document.createElement('progress');\n",
              "      progress.max = size;\n",
              "      div.appendChild(progress);\n",
              "      document.body.appendChild(div);\n",
              "\n",
              "      const buffers = [];\n",
              "      let downloaded = 0;\n",
              "\n",
              "      const channel = await google.colab.kernel.comms.open(id);\n",
              "      // Send a message to notify the kernel that we're ready.\n",
              "      channel.send({})\n",
              "\n",
              "      for await (const message of channel.messages) {\n",
              "        // Send a message to notify the kernel that we're ready.\n",
              "        channel.send({})\n",
              "        if (message.buffers) {\n",
              "          for (const buffer of message.buffers) {\n",
              "            buffers.push(buffer);\n",
              "            downloaded += buffer.byteLength;\n",
              "            progress.value = downloaded;\n",
              "          }\n",
              "        }\n",
              "      }\n",
              "      const blob = new Blob(buffers, {type: 'application/binary'});\n",
              "      const a = document.createElement('a');\n",
              "      a.href = window.URL.createObjectURL(blob);\n",
              "      a.download = filename;\n",
              "      div.appendChild(a);\n",
              "      a.click();\n",
              "      div.remove();\n",
              "    }\n",
              "  "
            ]
          },
          "metadata": {}
        },
        {
          "output_type": "display_data",
          "data": {
            "text/plain": [
              "<IPython.core.display.Javascript object>"
            ],
            "application/javascript": [
              "download(\"download_658dc839-dca6-4432-a78b-5795710e784d\", \"translation.txt\", 17471)"
            ]
          },
          "metadata": {}
        }
      ]
    },
    {
      "cell_type": "code",
      "source": [],
      "metadata": {
        "id": "lnYz0COaq40i"
      },
      "execution_count": null,
      "outputs": []
    },
    {
      "cell_type": "markdown",
      "source": [
        "## Issues\n",
        "\n",
        "1. Choose proper metrics\n",
        "\n",
        "2. Evaluate metrics not for each sentence but for the whole text. I.e. cumulative metric or take average.\n"
      ],
      "metadata": {
        "id": "JFGU9pjecAO8"
      }
    }
  ]
}